{
 "cells": [
  {
   "cell_type": "markdown",
   "metadata": {},
   "source": [
    "## Assigning a working directory"
   ]
  },
  {
   "cell_type": "code",
   "execution_count": 1,
   "metadata": {},
   "outputs": [],
   "source": [
    "import os \n",
    "os.chdir('C:/Users/Darshan/Desktop/Vaccine_Usage_Prediction/')"
   ]
  },
  {
   "cell_type": "markdown",
   "metadata": {},
   "source": [
    "## Importing necessary libraries"
   ]
  },
  {
   "cell_type": "code",
   "execution_count": 2,
   "metadata": {},
   "outputs": [],
   "source": [
    "import numpy as np\n",
    "import pandas as pd\n",
    "import matplotlib.pyplot as plt\n",
    "import seaborn as sns"
   ]
  },
  {
   "cell_type": "code",
   "execution_count": 3,
   "metadata": {},
   "outputs": [],
   "source": [
    "pd.options.display.max_rows = 90\n",
    "pd.options.display.max_columns = 90\n",
    "pd.set_option('display.max_colwidth', None)\n",
    "import warnings\n",
    "warnings.filterwarnings(\"ignore\")"
   ]
  },
  {
   "cell_type": "markdown",
   "metadata": {},
   "source": [
    "## Importing the Dataset"
   ]
  },
  {
   "cell_type": "code",
   "execution_count": 4,
   "metadata": {},
   "outputs": [],
   "source": [
    "df = pd.read_csv('C:/Users/Darshan/Desktop/Vaccine_Usage_Prediction/Dataset/h1n1_vaccine_prediction.csv')"
   ]
  },
  {
   "cell_type": "code",
   "execution_count": 5,
   "metadata": {},
   "outputs": [],
   "source": [
    "df_desc = pd.read_csv('C:/Users/Darshan/Desktop/Vaccine_Usage_Prediction/Dataset/desc.csv',encoding='cp1252')"
   ]
  },
  {
   "cell_type": "code",
   "execution_count": 6,
   "metadata": {
    "scrolled": true
   },
   "outputs": [
    {
     "data": {
      "text/html": [
       "<div>\n",
       "<style scoped>\n",
       "    .dataframe tbody tr th:only-of-type {\n",
       "        vertical-align: middle;\n",
       "    }\n",
       "\n",
       "    .dataframe tbody tr th {\n",
       "        vertical-align: top;\n",
       "    }\n",
       "\n",
       "    .dataframe thead th {\n",
       "        text-align: right;\n",
       "    }\n",
       "</style>\n",
       "<table border=\"1\" class=\"dataframe\">\n",
       "  <thead>\n",
       "    <tr style=\"text-align: right;\">\n",
       "      <th></th>\n",
       "      <th>Columns</th>\n",
       "      <th>Descriptions</th>\n",
       "    </tr>\n",
       "  </thead>\n",
       "  <tbody>\n",
       "    <tr>\n",
       "      <th>0</th>\n",
       "      <td>unique_id</td>\n",
       "      <td>Unique identifier for each respondent</td>\n",
       "    </tr>\n",
       "    <tr>\n",
       "      <th>1</th>\n",
       "      <td>h1n1_worry</td>\n",
       "      <td>Worry about the h1n1 flu(0,1,2,3) 0=Not worried at all, 1=Not very worried, 2=Somewhat worried, 3=Very worried</td>\n",
       "    </tr>\n",
       "    <tr>\n",
       "      <th>2</th>\n",
       "      <td>h1n1_awareness</td>\n",
       "      <td>Signifies the amount of knowledge or understanding the respondent has about h1n1 flu - (0,1,2) - 0=No knowledge, 1=little knowledge, 2=good knowledge</td>\n",
       "    </tr>\n",
       "    <tr>\n",
       "      <th>3</th>\n",
       "      <td>antiviral_medication</td>\n",
       "      <td>Has the respondent taken antiviral vaccination - (0,1)</td>\n",
       "    </tr>\n",
       "    <tr>\n",
       "      <th>4</th>\n",
       "      <td>contact_avoidance</td>\n",
       "      <td>Has avoided any close contact with people who have flu-like symptoms - (0,1)</td>\n",
       "    </tr>\n",
       "  </tbody>\n",
       "</table>\n",
       "</div>"
      ],
      "text/plain": [
       "                Columns  \\\n",
       "0             unique_id   \n",
       "1            h1n1_worry   \n",
       "2        h1n1_awareness   \n",
       "3  antiviral_medication   \n",
       "4     contact_avoidance   \n",
       "\n",
       "                                                                                                                                            Descriptions  \n",
       "0                                                                                                                  Unique identifier for each respondent  \n",
       "1                                         Worry about the h1n1 flu(0,1,2,3) 0=Not worried at all, 1=Not very worried, 2=Somewhat worried, 3=Very worried  \n",
       "2  Signifies the amount of knowledge or understanding the respondent has about h1n1 flu - (0,1,2) - 0=No knowledge, 1=little knowledge, 2=good knowledge  \n",
       "3                                                                                                 Has the respondent taken antiviral vaccination - (0,1)  \n",
       "4                                                                           Has avoided any close contact with people who have flu-like symptoms - (0,1)  "
      ]
     },
     "execution_count": 6,
     "metadata": {},
     "output_type": "execute_result"
    }
   ],
   "source": [
    "df_desc.head()"
   ]
  },
  {
   "cell_type": "code",
   "execution_count": 7,
   "metadata": {},
   "outputs": [],
   "source": [
    "df_desc.index = df_desc['Columns'].values\n",
    "df_desc.drop('Columns', axis=1, inplace=True)"
   ]
  },
  {
   "cell_type": "code",
   "execution_count": 8,
   "metadata": {},
   "outputs": [
    {
     "data": {
      "text/plain": [
       "Descriptions    Unique identifier for each respondent\n",
       "Name: unique_id, dtype: object"
      ]
     },
     "execution_count": 8,
     "metadata": {},
     "output_type": "execute_result"
    }
   ],
   "source": [
    "df_desc.loc['unique_id']"
   ]
  },
  {
   "cell_type": "code",
   "execution_count": 9,
   "metadata": {
    "scrolled": true
   },
   "outputs": [
    {
     "data": {
      "text/html": [
       "<div>\n",
       "<style scoped>\n",
       "    .dataframe tbody tr th:only-of-type {\n",
       "        vertical-align: middle;\n",
       "    }\n",
       "\n",
       "    .dataframe tbody tr th {\n",
       "        vertical-align: top;\n",
       "    }\n",
       "\n",
       "    .dataframe thead th {\n",
       "        text-align: right;\n",
       "    }\n",
       "</style>\n",
       "<table border=\"1\" class=\"dataframe\">\n",
       "  <thead>\n",
       "    <tr style=\"text-align: right;\">\n",
       "      <th></th>\n",
       "      <th>unique_id</th>\n",
       "      <th>h1n1_worry</th>\n",
       "      <th>h1n1_awareness</th>\n",
       "      <th>antiviral_medication</th>\n",
       "      <th>contact_avoidance</th>\n",
       "      <th>bought_face_mask</th>\n",
       "      <th>wash_hands_frequently</th>\n",
       "      <th>avoid_large_gatherings</th>\n",
       "      <th>reduced_outside_home_cont</th>\n",
       "      <th>avoid_touch_face</th>\n",
       "      <th>dr_recc_h1n1_vacc</th>\n",
       "      <th>dr_recc_seasonal_vacc</th>\n",
       "      <th>chronic_medic_condition</th>\n",
       "      <th>cont_child_undr_6_mnths</th>\n",
       "      <th>is_health_worker</th>\n",
       "      <th>has_health_insur</th>\n",
       "      <th>is_h1n1_vacc_effective</th>\n",
       "      <th>is_h1n1_risky</th>\n",
       "      <th>sick_from_h1n1_vacc</th>\n",
       "      <th>is_seas_vacc_effective</th>\n",
       "      <th>is_seas_risky</th>\n",
       "      <th>sick_from_seas_vacc</th>\n",
       "      <th>age_bracket</th>\n",
       "      <th>qualification</th>\n",
       "      <th>race</th>\n",
       "      <th>sex</th>\n",
       "      <th>income_level</th>\n",
       "      <th>marital_status</th>\n",
       "      <th>housing_status</th>\n",
       "      <th>employment</th>\n",
       "      <th>census_msa</th>\n",
       "      <th>no_of_adults</th>\n",
       "      <th>no_of_children</th>\n",
       "      <th>h1n1_vaccine</th>\n",
       "    </tr>\n",
       "  </thead>\n",
       "  <tbody>\n",
       "    <tr>\n",
       "      <th>0</th>\n",
       "      <td>0</td>\n",
       "      <td>1.0</td>\n",
       "      <td>0.0</td>\n",
       "      <td>0.0</td>\n",
       "      <td>0.0</td>\n",
       "      <td>0.0</td>\n",
       "      <td>0.0</td>\n",
       "      <td>0.0</td>\n",
       "      <td>1.0</td>\n",
       "      <td>1.0</td>\n",
       "      <td>0.0</td>\n",
       "      <td>0.0</td>\n",
       "      <td>0.0</td>\n",
       "      <td>0.0</td>\n",
       "      <td>0.0</td>\n",
       "      <td>1.0</td>\n",
       "      <td>3.0</td>\n",
       "      <td>1.0</td>\n",
       "      <td>2.0</td>\n",
       "      <td>2.0</td>\n",
       "      <td>1.0</td>\n",
       "      <td>2.0</td>\n",
       "      <td>55 - 64 Years</td>\n",
       "      <td>&lt; 12 Years</td>\n",
       "      <td>White</td>\n",
       "      <td>Female</td>\n",
       "      <td>Below Poverty</td>\n",
       "      <td>Not Married</td>\n",
       "      <td>Own</td>\n",
       "      <td>Not in Labor Force</td>\n",
       "      <td>Non-MSA</td>\n",
       "      <td>0.0</td>\n",
       "      <td>0.0</td>\n",
       "      <td>0</td>\n",
       "    </tr>\n",
       "    <tr>\n",
       "      <th>1</th>\n",
       "      <td>1</td>\n",
       "      <td>3.0</td>\n",
       "      <td>2.0</td>\n",
       "      <td>0.0</td>\n",
       "      <td>1.0</td>\n",
       "      <td>0.0</td>\n",
       "      <td>1.0</td>\n",
       "      <td>0.0</td>\n",
       "      <td>1.0</td>\n",
       "      <td>1.0</td>\n",
       "      <td>0.0</td>\n",
       "      <td>0.0</td>\n",
       "      <td>0.0</td>\n",
       "      <td>0.0</td>\n",
       "      <td>0.0</td>\n",
       "      <td>1.0</td>\n",
       "      <td>5.0</td>\n",
       "      <td>4.0</td>\n",
       "      <td>4.0</td>\n",
       "      <td>4.0</td>\n",
       "      <td>2.0</td>\n",
       "      <td>4.0</td>\n",
       "      <td>35 - 44 Years</td>\n",
       "      <td>12 Years</td>\n",
       "      <td>White</td>\n",
       "      <td>Male</td>\n",
       "      <td>Below Poverty</td>\n",
       "      <td>Not Married</td>\n",
       "      <td>Rent</td>\n",
       "      <td>Employed</td>\n",
       "      <td>MSA, Not Principle  City</td>\n",
       "      <td>0.0</td>\n",
       "      <td>0.0</td>\n",
       "      <td>0</td>\n",
       "    </tr>\n",
       "    <tr>\n",
       "      <th>2</th>\n",
       "      <td>2</td>\n",
       "      <td>1.0</td>\n",
       "      <td>1.0</td>\n",
       "      <td>0.0</td>\n",
       "      <td>1.0</td>\n",
       "      <td>0.0</td>\n",
       "      <td>0.0</td>\n",
       "      <td>0.0</td>\n",
       "      <td>0.0</td>\n",
       "      <td>0.0</td>\n",
       "      <td>NaN</td>\n",
       "      <td>NaN</td>\n",
       "      <td>1.0</td>\n",
       "      <td>0.0</td>\n",
       "      <td>0.0</td>\n",
       "      <td>NaN</td>\n",
       "      <td>3.0</td>\n",
       "      <td>1.0</td>\n",
       "      <td>1.0</td>\n",
       "      <td>4.0</td>\n",
       "      <td>1.0</td>\n",
       "      <td>2.0</td>\n",
       "      <td>18 - 34 Years</td>\n",
       "      <td>College Graduate</td>\n",
       "      <td>White</td>\n",
       "      <td>Male</td>\n",
       "      <td>&lt;= $75,000, Above Poverty</td>\n",
       "      <td>Not Married</td>\n",
       "      <td>Own</td>\n",
       "      <td>Employed</td>\n",
       "      <td>MSA, Not Principle  City</td>\n",
       "      <td>2.0</td>\n",
       "      <td>0.0</td>\n",
       "      <td>0</td>\n",
       "    </tr>\n",
       "    <tr>\n",
       "      <th>3</th>\n",
       "      <td>3</td>\n",
       "      <td>1.0</td>\n",
       "      <td>1.0</td>\n",
       "      <td>0.0</td>\n",
       "      <td>1.0</td>\n",
       "      <td>0.0</td>\n",
       "      <td>1.0</td>\n",
       "      <td>1.0</td>\n",
       "      <td>0.0</td>\n",
       "      <td>0.0</td>\n",
       "      <td>0.0</td>\n",
       "      <td>1.0</td>\n",
       "      <td>1.0</td>\n",
       "      <td>0.0</td>\n",
       "      <td>0.0</td>\n",
       "      <td>NaN</td>\n",
       "      <td>3.0</td>\n",
       "      <td>3.0</td>\n",
       "      <td>5.0</td>\n",
       "      <td>5.0</td>\n",
       "      <td>4.0</td>\n",
       "      <td>1.0</td>\n",
       "      <td>65+ Years</td>\n",
       "      <td>12 Years</td>\n",
       "      <td>White</td>\n",
       "      <td>Female</td>\n",
       "      <td>Below Poverty</td>\n",
       "      <td>Not Married</td>\n",
       "      <td>Rent</td>\n",
       "      <td>Not in Labor Force</td>\n",
       "      <td>MSA, Principle City</td>\n",
       "      <td>0.0</td>\n",
       "      <td>0.0</td>\n",
       "      <td>0</td>\n",
       "    </tr>\n",
       "    <tr>\n",
       "      <th>4</th>\n",
       "      <td>4</td>\n",
       "      <td>2.0</td>\n",
       "      <td>1.0</td>\n",
       "      <td>0.0</td>\n",
       "      <td>1.0</td>\n",
       "      <td>0.0</td>\n",
       "      <td>1.0</td>\n",
       "      <td>1.0</td>\n",
       "      <td>0.0</td>\n",
       "      <td>1.0</td>\n",
       "      <td>0.0</td>\n",
       "      <td>0.0</td>\n",
       "      <td>0.0</td>\n",
       "      <td>0.0</td>\n",
       "      <td>0.0</td>\n",
       "      <td>NaN</td>\n",
       "      <td>3.0</td>\n",
       "      <td>3.0</td>\n",
       "      <td>2.0</td>\n",
       "      <td>3.0</td>\n",
       "      <td>1.0</td>\n",
       "      <td>4.0</td>\n",
       "      <td>45 - 54 Years</td>\n",
       "      <td>Some College</td>\n",
       "      <td>White</td>\n",
       "      <td>Female</td>\n",
       "      <td>&lt;= $75,000, Above Poverty</td>\n",
       "      <td>Married</td>\n",
       "      <td>Own</td>\n",
       "      <td>Employed</td>\n",
       "      <td>MSA, Not Principle  City</td>\n",
       "      <td>1.0</td>\n",
       "      <td>0.0</td>\n",
       "      <td>0</td>\n",
       "    </tr>\n",
       "  </tbody>\n",
       "</table>\n",
       "</div>"
      ],
      "text/plain": [
       "   unique_id  h1n1_worry  h1n1_awareness  antiviral_medication  \\\n",
       "0          0         1.0             0.0                   0.0   \n",
       "1          1         3.0             2.0                   0.0   \n",
       "2          2         1.0             1.0                   0.0   \n",
       "3          3         1.0             1.0                   0.0   \n",
       "4          4         2.0             1.0                   0.0   \n",
       "\n",
       "   contact_avoidance  bought_face_mask  wash_hands_frequently  \\\n",
       "0                0.0               0.0                    0.0   \n",
       "1                1.0               0.0                    1.0   \n",
       "2                1.0               0.0                    0.0   \n",
       "3                1.0               0.0                    1.0   \n",
       "4                1.0               0.0                    1.0   \n",
       "\n",
       "   avoid_large_gatherings  reduced_outside_home_cont  avoid_touch_face  \\\n",
       "0                     0.0                        1.0               1.0   \n",
       "1                     0.0                        1.0               1.0   \n",
       "2                     0.0                        0.0               0.0   \n",
       "3                     1.0                        0.0               0.0   \n",
       "4                     1.0                        0.0               1.0   \n",
       "\n",
       "   dr_recc_h1n1_vacc  dr_recc_seasonal_vacc  chronic_medic_condition  \\\n",
       "0                0.0                    0.0                      0.0   \n",
       "1                0.0                    0.0                      0.0   \n",
       "2                NaN                    NaN                      1.0   \n",
       "3                0.0                    1.0                      1.0   \n",
       "4                0.0                    0.0                      0.0   \n",
       "\n",
       "   cont_child_undr_6_mnths  is_health_worker  has_health_insur  \\\n",
       "0                      0.0               0.0               1.0   \n",
       "1                      0.0               0.0               1.0   \n",
       "2                      0.0               0.0               NaN   \n",
       "3                      0.0               0.0               NaN   \n",
       "4                      0.0               0.0               NaN   \n",
       "\n",
       "   is_h1n1_vacc_effective  is_h1n1_risky  sick_from_h1n1_vacc  \\\n",
       "0                     3.0            1.0                  2.0   \n",
       "1                     5.0            4.0                  4.0   \n",
       "2                     3.0            1.0                  1.0   \n",
       "3                     3.0            3.0                  5.0   \n",
       "4                     3.0            3.0                  2.0   \n",
       "\n",
       "   is_seas_vacc_effective  is_seas_risky  sick_from_seas_vacc    age_bracket  \\\n",
       "0                     2.0            1.0                  2.0  55 - 64 Years   \n",
       "1                     4.0            2.0                  4.0  35 - 44 Years   \n",
       "2                     4.0            1.0                  2.0  18 - 34 Years   \n",
       "3                     5.0            4.0                  1.0      65+ Years   \n",
       "4                     3.0            1.0                  4.0  45 - 54 Years   \n",
       "\n",
       "      qualification   race     sex               income_level marital_status  \\\n",
       "0        < 12 Years  White  Female              Below Poverty    Not Married   \n",
       "1          12 Years  White    Male              Below Poverty    Not Married   \n",
       "2  College Graduate  White    Male  <= $75,000, Above Poverty    Not Married   \n",
       "3          12 Years  White  Female              Below Poverty    Not Married   \n",
       "4      Some College  White  Female  <= $75,000, Above Poverty        Married   \n",
       "\n",
       "  housing_status          employment                census_msa  no_of_adults  \\\n",
       "0            Own  Not in Labor Force                   Non-MSA           0.0   \n",
       "1           Rent            Employed  MSA, Not Principle  City           0.0   \n",
       "2            Own            Employed  MSA, Not Principle  City           2.0   \n",
       "3           Rent  Not in Labor Force       MSA, Principle City           0.0   \n",
       "4            Own            Employed  MSA, Not Principle  City           1.0   \n",
       "\n",
       "   no_of_children  h1n1_vaccine  \n",
       "0             0.0             0  \n",
       "1             0.0             0  \n",
       "2             0.0             0  \n",
       "3             0.0             0  \n",
       "4             0.0             0  "
      ]
     },
     "execution_count": 9,
     "metadata": {},
     "output_type": "execute_result"
    }
   ],
   "source": [
    "df.head()"
   ]
  },
  {
   "cell_type": "code",
   "execution_count": 10,
   "metadata": {},
   "outputs": [
    {
     "data": {
      "text/html": [
       "<div>\n",
       "<style scoped>\n",
       "    .dataframe tbody tr th:only-of-type {\n",
       "        vertical-align: middle;\n",
       "    }\n",
       "\n",
       "    .dataframe tbody tr th {\n",
       "        vertical-align: top;\n",
       "    }\n",
       "\n",
       "    .dataframe thead th {\n",
       "        text-align: right;\n",
       "    }\n",
       "</style>\n",
       "<table border=\"1\" class=\"dataframe\">\n",
       "  <thead>\n",
       "    <tr style=\"text-align: right;\">\n",
       "      <th></th>\n",
       "      <th>Descriptions</th>\n",
       "    </tr>\n",
       "  </thead>\n",
       "  <tbody>\n",
       "    <tr>\n",
       "      <th>unique_id</th>\n",
       "      <td>Unique identifier for each respondent</td>\n",
       "    </tr>\n",
       "    <tr>\n",
       "      <th>h1n1_worry</th>\n",
       "      <td>Worry about the h1n1 flu(0,1,2,3) 0=Not worried at all, 1=Not very worried, 2=Somewhat worried, 3=Very worried</td>\n",
       "    </tr>\n",
       "    <tr>\n",
       "      <th>h1n1_awareness</th>\n",
       "      <td>Signifies the amount of knowledge or understanding the respondent has about h1n1 flu - (0,1,2) - 0=No knowledge, 1=little knowledge, 2=good knowledge</td>\n",
       "    </tr>\n",
       "    <tr>\n",
       "      <th>antiviral_medication</th>\n",
       "      <td>Has the respondent taken antiviral vaccination - (0,1)</td>\n",
       "    </tr>\n",
       "    <tr>\n",
       "      <th>contact_avoidance</th>\n",
       "      <td>Has avoided any close contact with people who have flu-like symptoms - (0,1)</td>\n",
       "    </tr>\n",
       "  </tbody>\n",
       "</table>\n",
       "</div>"
      ],
      "text/plain": [
       "                                                                                                                                                               Descriptions\n",
       "unique_id                                                                                                                             Unique identifier for each respondent\n",
       "h1n1_worry                                                   Worry about the h1n1 flu(0,1,2,3) 0=Not worried at all, 1=Not very worried, 2=Somewhat worried, 3=Very worried\n",
       "h1n1_awareness        Signifies the amount of knowledge or understanding the respondent has about h1n1 flu - (0,1,2) - 0=No knowledge, 1=little knowledge, 2=good knowledge\n",
       "antiviral_medication                                                                                                 Has the respondent taken antiviral vaccination - (0,1)\n",
       "contact_avoidance                                                                              Has avoided any close contact with people who have flu-like symptoms - (0,1)"
      ]
     },
     "execution_count": 10,
     "metadata": {},
     "output_type": "execute_result"
    }
   ],
   "source": [
    "df_desc.head()"
   ]
  },
  {
   "cell_type": "markdown",
   "metadata": {},
   "source": [
    "## Basic Commands"
   ]
  },
  {
   "cell_type": "code",
   "execution_count": 11,
   "metadata": {},
   "outputs": [
    {
     "data": {
      "text/plain": [
       "(26707, 34)"
      ]
     },
     "execution_count": 11,
     "metadata": {},
     "output_type": "execute_result"
    }
   ],
   "source": [
    "df.shape"
   ]
  },
  {
   "cell_type": "code",
   "execution_count": 12,
   "metadata": {
    "scrolled": true
   },
   "outputs": [
    {
     "data": {
      "text/plain": [
       "Index(['unique_id', 'h1n1_worry', 'h1n1_awareness', 'antiviral_medication',\n",
       "       'contact_avoidance', 'bought_face_mask', 'wash_hands_frequently',\n",
       "       'avoid_large_gatherings', 'reduced_outside_home_cont',\n",
       "       'avoid_touch_face', 'dr_recc_h1n1_vacc', 'dr_recc_seasonal_vacc',\n",
       "       'chronic_medic_condition', 'cont_child_undr_6_mnths',\n",
       "       'is_health_worker', 'has_health_insur', 'is_h1n1_vacc_effective',\n",
       "       'is_h1n1_risky', 'sick_from_h1n1_vacc', 'is_seas_vacc_effective',\n",
       "       'is_seas_risky', 'sick_from_seas_vacc', 'age_bracket', 'qualification',\n",
       "       'race', 'sex', 'income_level', 'marital_status', 'housing_status',\n",
       "       'employment', 'census_msa', 'no_of_adults', 'no_of_children',\n",
       "       'h1n1_vaccine'],\n",
       "      dtype='object')"
      ]
     },
     "execution_count": 12,
     "metadata": {},
     "output_type": "execute_result"
    }
   ],
   "source": [
    "df.columns"
   ]
  },
  {
   "cell_type": "code",
   "execution_count": 13,
   "metadata": {
    "scrolled": false
   },
   "outputs": [
    {
     "data": {
      "text/html": [
       "<div>\n",
       "<style scoped>\n",
       "    .dataframe tbody tr th:only-of-type {\n",
       "        vertical-align: middle;\n",
       "    }\n",
       "\n",
       "    .dataframe tbody tr th {\n",
       "        vertical-align: top;\n",
       "    }\n",
       "\n",
       "    .dataframe thead th {\n",
       "        text-align: right;\n",
       "    }\n",
       "</style>\n",
       "<table border=\"1\" class=\"dataframe\">\n",
       "  <thead>\n",
       "    <tr style=\"text-align: right;\">\n",
       "      <th></th>\n",
       "      <th>count</th>\n",
       "      <th>mean</th>\n",
       "      <th>std</th>\n",
       "      <th>min</th>\n",
       "      <th>25%</th>\n",
       "      <th>50%</th>\n",
       "      <th>75%</th>\n",
       "      <th>max</th>\n",
       "    </tr>\n",
       "  </thead>\n",
       "  <tbody>\n",
       "    <tr>\n",
       "      <th>unique_id</th>\n",
       "      <td>26707.0</td>\n",
       "      <td>13353.000000</td>\n",
       "      <td>7709.791156</td>\n",
       "      <td>0.0</td>\n",
       "      <td>6676.5</td>\n",
       "      <td>13353.0</td>\n",
       "      <td>20029.5</td>\n",
       "      <td>26706.0</td>\n",
       "    </tr>\n",
       "    <tr>\n",
       "      <th>h1n1_worry</th>\n",
       "      <td>26615.0</td>\n",
       "      <td>1.618486</td>\n",
       "      <td>0.910311</td>\n",
       "      <td>0.0</td>\n",
       "      <td>1.0</td>\n",
       "      <td>2.0</td>\n",
       "      <td>2.0</td>\n",
       "      <td>3.0</td>\n",
       "    </tr>\n",
       "    <tr>\n",
       "      <th>h1n1_awareness</th>\n",
       "      <td>26591.0</td>\n",
       "      <td>1.262532</td>\n",
       "      <td>0.618149</td>\n",
       "      <td>0.0</td>\n",
       "      <td>1.0</td>\n",
       "      <td>1.0</td>\n",
       "      <td>2.0</td>\n",
       "      <td>2.0</td>\n",
       "    </tr>\n",
       "    <tr>\n",
       "      <th>antiviral_medication</th>\n",
       "      <td>26636.0</td>\n",
       "      <td>0.048844</td>\n",
       "      <td>0.215545</td>\n",
       "      <td>0.0</td>\n",
       "      <td>0.0</td>\n",
       "      <td>0.0</td>\n",
       "      <td>0.0</td>\n",
       "      <td>1.0</td>\n",
       "    </tr>\n",
       "    <tr>\n",
       "      <th>contact_avoidance</th>\n",
       "      <td>26499.0</td>\n",
       "      <td>0.725612</td>\n",
       "      <td>0.446214</td>\n",
       "      <td>0.0</td>\n",
       "      <td>0.0</td>\n",
       "      <td>1.0</td>\n",
       "      <td>1.0</td>\n",
       "      <td>1.0</td>\n",
       "    </tr>\n",
       "    <tr>\n",
       "      <th>bought_face_mask</th>\n",
       "      <td>26688.0</td>\n",
       "      <td>0.068982</td>\n",
       "      <td>0.253429</td>\n",
       "      <td>0.0</td>\n",
       "      <td>0.0</td>\n",
       "      <td>0.0</td>\n",
       "      <td>0.0</td>\n",
       "      <td>1.0</td>\n",
       "    </tr>\n",
       "    <tr>\n",
       "      <th>wash_hands_frequently</th>\n",
       "      <td>26665.0</td>\n",
       "      <td>0.825614</td>\n",
       "      <td>0.379448</td>\n",
       "      <td>0.0</td>\n",
       "      <td>1.0</td>\n",
       "      <td>1.0</td>\n",
       "      <td>1.0</td>\n",
       "      <td>1.0</td>\n",
       "    </tr>\n",
       "    <tr>\n",
       "      <th>avoid_large_gatherings</th>\n",
       "      <td>26620.0</td>\n",
       "      <td>0.358640</td>\n",
       "      <td>0.479610</td>\n",
       "      <td>0.0</td>\n",
       "      <td>0.0</td>\n",
       "      <td>0.0</td>\n",
       "      <td>1.0</td>\n",
       "      <td>1.0</td>\n",
       "    </tr>\n",
       "    <tr>\n",
       "      <th>reduced_outside_home_cont</th>\n",
       "      <td>26625.0</td>\n",
       "      <td>0.337315</td>\n",
       "      <td>0.472802</td>\n",
       "      <td>0.0</td>\n",
       "      <td>0.0</td>\n",
       "      <td>0.0</td>\n",
       "      <td>1.0</td>\n",
       "      <td>1.0</td>\n",
       "    </tr>\n",
       "    <tr>\n",
       "      <th>avoid_touch_face</th>\n",
       "      <td>26579.0</td>\n",
       "      <td>0.677264</td>\n",
       "      <td>0.467531</td>\n",
       "      <td>0.0</td>\n",
       "      <td>0.0</td>\n",
       "      <td>1.0</td>\n",
       "      <td>1.0</td>\n",
       "      <td>1.0</td>\n",
       "    </tr>\n",
       "    <tr>\n",
       "      <th>dr_recc_h1n1_vacc</th>\n",
       "      <td>24547.0</td>\n",
       "      <td>0.220312</td>\n",
       "      <td>0.414466</td>\n",
       "      <td>0.0</td>\n",
       "      <td>0.0</td>\n",
       "      <td>0.0</td>\n",
       "      <td>0.0</td>\n",
       "      <td>1.0</td>\n",
       "    </tr>\n",
       "    <tr>\n",
       "      <th>dr_recc_seasonal_vacc</th>\n",
       "      <td>24547.0</td>\n",
       "      <td>0.329735</td>\n",
       "      <td>0.470126</td>\n",
       "      <td>0.0</td>\n",
       "      <td>0.0</td>\n",
       "      <td>0.0</td>\n",
       "      <td>1.0</td>\n",
       "      <td>1.0</td>\n",
       "    </tr>\n",
       "    <tr>\n",
       "      <th>chronic_medic_condition</th>\n",
       "      <td>25736.0</td>\n",
       "      <td>0.283261</td>\n",
       "      <td>0.450591</td>\n",
       "      <td>0.0</td>\n",
       "      <td>0.0</td>\n",
       "      <td>0.0</td>\n",
       "      <td>1.0</td>\n",
       "      <td>1.0</td>\n",
       "    </tr>\n",
       "    <tr>\n",
       "      <th>cont_child_undr_6_mnths</th>\n",
       "      <td>25887.0</td>\n",
       "      <td>0.082590</td>\n",
       "      <td>0.275266</td>\n",
       "      <td>0.0</td>\n",
       "      <td>0.0</td>\n",
       "      <td>0.0</td>\n",
       "      <td>0.0</td>\n",
       "      <td>1.0</td>\n",
       "    </tr>\n",
       "    <tr>\n",
       "      <th>is_health_worker</th>\n",
       "      <td>25903.0</td>\n",
       "      <td>0.111918</td>\n",
       "      <td>0.315271</td>\n",
       "      <td>0.0</td>\n",
       "      <td>0.0</td>\n",
       "      <td>0.0</td>\n",
       "      <td>0.0</td>\n",
       "      <td>1.0</td>\n",
       "    </tr>\n",
       "    <tr>\n",
       "      <th>has_health_insur</th>\n",
       "      <td>14433.0</td>\n",
       "      <td>0.879720</td>\n",
       "      <td>0.325300</td>\n",
       "      <td>0.0</td>\n",
       "      <td>1.0</td>\n",
       "      <td>1.0</td>\n",
       "      <td>1.0</td>\n",
       "      <td>1.0</td>\n",
       "    </tr>\n",
       "    <tr>\n",
       "      <th>is_h1n1_vacc_effective</th>\n",
       "      <td>26316.0</td>\n",
       "      <td>3.850623</td>\n",
       "      <td>1.007436</td>\n",
       "      <td>1.0</td>\n",
       "      <td>3.0</td>\n",
       "      <td>4.0</td>\n",
       "      <td>5.0</td>\n",
       "      <td>5.0</td>\n",
       "    </tr>\n",
       "    <tr>\n",
       "      <th>is_h1n1_risky</th>\n",
       "      <td>26319.0</td>\n",
       "      <td>2.342566</td>\n",
       "      <td>1.285539</td>\n",
       "      <td>1.0</td>\n",
       "      <td>1.0</td>\n",
       "      <td>2.0</td>\n",
       "      <td>4.0</td>\n",
       "      <td>5.0</td>\n",
       "    </tr>\n",
       "    <tr>\n",
       "      <th>sick_from_h1n1_vacc</th>\n",
       "      <td>26312.0</td>\n",
       "      <td>2.357670</td>\n",
       "      <td>1.362766</td>\n",
       "      <td>1.0</td>\n",
       "      <td>1.0</td>\n",
       "      <td>2.0</td>\n",
       "      <td>4.0</td>\n",
       "      <td>5.0</td>\n",
       "    </tr>\n",
       "    <tr>\n",
       "      <th>is_seas_vacc_effective</th>\n",
       "      <td>26245.0</td>\n",
       "      <td>4.025986</td>\n",
       "      <td>1.086565</td>\n",
       "      <td>1.0</td>\n",
       "      <td>4.0</td>\n",
       "      <td>4.0</td>\n",
       "      <td>5.0</td>\n",
       "      <td>5.0</td>\n",
       "    </tr>\n",
       "    <tr>\n",
       "      <th>is_seas_risky</th>\n",
       "      <td>26193.0</td>\n",
       "      <td>2.719162</td>\n",
       "      <td>1.385055</td>\n",
       "      <td>1.0</td>\n",
       "      <td>2.0</td>\n",
       "      <td>2.0</td>\n",
       "      <td>4.0</td>\n",
       "      <td>5.0</td>\n",
       "    </tr>\n",
       "    <tr>\n",
       "      <th>sick_from_seas_vacc</th>\n",
       "      <td>26170.0</td>\n",
       "      <td>2.118112</td>\n",
       "      <td>1.332950</td>\n",
       "      <td>1.0</td>\n",
       "      <td>1.0</td>\n",
       "      <td>2.0</td>\n",
       "      <td>4.0</td>\n",
       "      <td>5.0</td>\n",
       "    </tr>\n",
       "    <tr>\n",
       "      <th>no_of_adults</th>\n",
       "      <td>26458.0</td>\n",
       "      <td>0.886499</td>\n",
       "      <td>0.753422</td>\n",
       "      <td>0.0</td>\n",
       "      <td>0.0</td>\n",
       "      <td>1.0</td>\n",
       "      <td>1.0</td>\n",
       "      <td>3.0</td>\n",
       "    </tr>\n",
       "    <tr>\n",
       "      <th>no_of_children</th>\n",
       "      <td>26458.0</td>\n",
       "      <td>0.534583</td>\n",
       "      <td>0.928173</td>\n",
       "      <td>0.0</td>\n",
       "      <td>0.0</td>\n",
       "      <td>0.0</td>\n",
       "      <td>1.0</td>\n",
       "      <td>3.0</td>\n",
       "    </tr>\n",
       "    <tr>\n",
       "      <th>h1n1_vaccine</th>\n",
       "      <td>26707.0</td>\n",
       "      <td>0.212454</td>\n",
       "      <td>0.409052</td>\n",
       "      <td>0.0</td>\n",
       "      <td>0.0</td>\n",
       "      <td>0.0</td>\n",
       "      <td>0.0</td>\n",
       "      <td>1.0</td>\n",
       "    </tr>\n",
       "  </tbody>\n",
       "</table>\n",
       "</div>"
      ],
      "text/plain": [
       "                             count          mean          std  min     25%  \\\n",
       "unique_id                  26707.0  13353.000000  7709.791156  0.0  6676.5   \n",
       "h1n1_worry                 26615.0      1.618486     0.910311  0.0     1.0   \n",
       "h1n1_awareness             26591.0      1.262532     0.618149  0.0     1.0   \n",
       "antiviral_medication       26636.0      0.048844     0.215545  0.0     0.0   \n",
       "contact_avoidance          26499.0      0.725612     0.446214  0.0     0.0   \n",
       "bought_face_mask           26688.0      0.068982     0.253429  0.0     0.0   \n",
       "wash_hands_frequently      26665.0      0.825614     0.379448  0.0     1.0   \n",
       "avoid_large_gatherings     26620.0      0.358640     0.479610  0.0     0.0   \n",
       "reduced_outside_home_cont  26625.0      0.337315     0.472802  0.0     0.0   \n",
       "avoid_touch_face           26579.0      0.677264     0.467531  0.0     0.0   \n",
       "dr_recc_h1n1_vacc          24547.0      0.220312     0.414466  0.0     0.0   \n",
       "dr_recc_seasonal_vacc      24547.0      0.329735     0.470126  0.0     0.0   \n",
       "chronic_medic_condition    25736.0      0.283261     0.450591  0.0     0.0   \n",
       "cont_child_undr_6_mnths    25887.0      0.082590     0.275266  0.0     0.0   \n",
       "is_health_worker           25903.0      0.111918     0.315271  0.0     0.0   \n",
       "has_health_insur           14433.0      0.879720     0.325300  0.0     1.0   \n",
       "is_h1n1_vacc_effective     26316.0      3.850623     1.007436  1.0     3.0   \n",
       "is_h1n1_risky              26319.0      2.342566     1.285539  1.0     1.0   \n",
       "sick_from_h1n1_vacc        26312.0      2.357670     1.362766  1.0     1.0   \n",
       "is_seas_vacc_effective     26245.0      4.025986     1.086565  1.0     4.0   \n",
       "is_seas_risky              26193.0      2.719162     1.385055  1.0     2.0   \n",
       "sick_from_seas_vacc        26170.0      2.118112     1.332950  1.0     1.0   \n",
       "no_of_adults               26458.0      0.886499     0.753422  0.0     0.0   \n",
       "no_of_children             26458.0      0.534583     0.928173  0.0     0.0   \n",
       "h1n1_vaccine               26707.0      0.212454     0.409052  0.0     0.0   \n",
       "\n",
       "                               50%      75%      max  \n",
       "unique_id                  13353.0  20029.5  26706.0  \n",
       "h1n1_worry                     2.0      2.0      3.0  \n",
       "h1n1_awareness                 1.0      2.0      2.0  \n",
       "antiviral_medication           0.0      0.0      1.0  \n",
       "contact_avoidance              1.0      1.0      1.0  \n",
       "bought_face_mask               0.0      0.0      1.0  \n",
       "wash_hands_frequently          1.0      1.0      1.0  \n",
       "avoid_large_gatherings         0.0      1.0      1.0  \n",
       "reduced_outside_home_cont      0.0      1.0      1.0  \n",
       "avoid_touch_face               1.0      1.0      1.0  \n",
       "dr_recc_h1n1_vacc              0.0      0.0      1.0  \n",
       "dr_recc_seasonal_vacc          0.0      1.0      1.0  \n",
       "chronic_medic_condition        0.0      1.0      1.0  \n",
       "cont_child_undr_6_mnths        0.0      0.0      1.0  \n",
       "is_health_worker               0.0      0.0      1.0  \n",
       "has_health_insur               1.0      1.0      1.0  \n",
       "is_h1n1_vacc_effective         4.0      5.0      5.0  \n",
       "is_h1n1_risky                  2.0      4.0      5.0  \n",
       "sick_from_h1n1_vacc            2.0      4.0      5.0  \n",
       "is_seas_vacc_effective         4.0      5.0      5.0  \n",
       "is_seas_risky                  2.0      4.0      5.0  \n",
       "sick_from_seas_vacc            2.0      4.0      5.0  \n",
       "no_of_adults                   1.0      1.0      3.0  \n",
       "no_of_children                 0.0      1.0      3.0  \n",
       "h1n1_vaccine                   0.0      0.0      1.0  "
      ]
     },
     "execution_count": 13,
     "metadata": {},
     "output_type": "execute_result"
    }
   ],
   "source": [
    "df.describe().T"
   ]
  },
  {
   "cell_type": "code",
   "execution_count": 14,
   "metadata": {
    "scrolled": false
   },
   "outputs": [
    {
     "name": "stdout",
     "output_type": "stream",
     "text": [
      "<class 'pandas.core.frame.DataFrame'>\n",
      "RangeIndex: 26707 entries, 0 to 26706\n",
      "Data columns (total 34 columns):\n",
      " #   Column                     Non-Null Count  Dtype  \n",
      "---  ------                     --------------  -----  \n",
      " 0   unique_id                  26707 non-null  int64  \n",
      " 1   h1n1_worry                 26615 non-null  float64\n",
      " 2   h1n1_awareness             26591 non-null  float64\n",
      " 3   antiviral_medication       26636 non-null  float64\n",
      " 4   contact_avoidance          26499 non-null  float64\n",
      " 5   bought_face_mask           26688 non-null  float64\n",
      " 6   wash_hands_frequently      26665 non-null  float64\n",
      " 7   avoid_large_gatherings     26620 non-null  float64\n",
      " 8   reduced_outside_home_cont  26625 non-null  float64\n",
      " 9   avoid_touch_face           26579 non-null  float64\n",
      " 10  dr_recc_h1n1_vacc          24547 non-null  float64\n",
      " 11  dr_recc_seasonal_vacc      24547 non-null  float64\n",
      " 12  chronic_medic_condition    25736 non-null  float64\n",
      " 13  cont_child_undr_6_mnths    25887 non-null  float64\n",
      " 14  is_health_worker           25903 non-null  float64\n",
      " 15  has_health_insur           14433 non-null  float64\n",
      " 16  is_h1n1_vacc_effective     26316 non-null  float64\n",
      " 17  is_h1n1_risky              26319 non-null  float64\n",
      " 18  sick_from_h1n1_vacc        26312 non-null  float64\n",
      " 19  is_seas_vacc_effective     26245 non-null  float64\n",
      " 20  is_seas_risky              26193 non-null  float64\n",
      " 21  sick_from_seas_vacc        26170 non-null  float64\n",
      " 22  age_bracket                26707 non-null  object \n",
      " 23  qualification              25300 non-null  object \n",
      " 24  race                       26707 non-null  object \n",
      " 25  sex                        26707 non-null  object \n",
      " 26  income_level               22284 non-null  object \n",
      " 27  marital_status             25299 non-null  object \n",
      " 28  housing_status             24665 non-null  object \n",
      " 29  employment                 25244 non-null  object \n",
      " 30  census_msa                 26707 non-null  object \n",
      " 31  no_of_adults               26458 non-null  float64\n",
      " 32  no_of_children             26458 non-null  float64\n",
      " 33  h1n1_vaccine               26707 non-null  int64  \n",
      "dtypes: float64(23), int64(2), object(9)\n",
      "memory usage: 6.9+ MB\n"
     ]
    }
   ],
   "source": [
    "df.info()"
   ]
  },
  {
   "cell_type": "code",
   "execution_count": 15,
   "metadata": {
    "scrolled": false
   },
   "outputs": [
    {
     "data": {
      "text/plain": [
       "unique_id                        0\n",
       "h1n1_worry                      92\n",
       "h1n1_awareness                 116\n",
       "antiviral_medication            71\n",
       "contact_avoidance              208\n",
       "bought_face_mask                19\n",
       "wash_hands_frequently           42\n",
       "avoid_large_gatherings          87\n",
       "reduced_outside_home_cont       82\n",
       "avoid_touch_face               128\n",
       "dr_recc_h1n1_vacc             2160\n",
       "dr_recc_seasonal_vacc         2160\n",
       "chronic_medic_condition        971\n",
       "cont_child_undr_6_mnths        820\n",
       "is_health_worker               804\n",
       "has_health_insur             12274\n",
       "is_h1n1_vacc_effective         391\n",
       "is_h1n1_risky                  388\n",
       "sick_from_h1n1_vacc            395\n",
       "is_seas_vacc_effective         462\n",
       "is_seas_risky                  514\n",
       "sick_from_seas_vacc            537\n",
       "age_bracket                      0\n",
       "qualification                 1407\n",
       "race                             0\n",
       "sex                              0\n",
       "income_level                  4423\n",
       "marital_status                1408\n",
       "housing_status                2042\n",
       "employment                    1463\n",
       "census_msa                       0\n",
       "no_of_adults                   249\n",
       "no_of_children                 249\n",
       "h1n1_vaccine                     0\n",
       "dtype: int64"
      ]
     },
     "execution_count": 15,
     "metadata": {},
     "output_type": "execute_result"
    }
   ],
   "source": [
    "df.isnull().sum()"
   ]
  },
  {
   "cell_type": "code",
   "execution_count": 16,
   "metadata": {
    "scrolled": false
   },
   "outputs": [
    {
     "data": {
      "text/plain": [
       "unique_id                     0.00\n",
       "h1n1_worry                    0.34\n",
       "h1n1_awareness                0.43\n",
       "antiviral_medication          0.27\n",
       "contact_avoidance             0.78\n",
       "bought_face_mask              0.07\n",
       "wash_hands_frequently         0.16\n",
       "avoid_large_gatherings        0.33\n",
       "reduced_outside_home_cont     0.31\n",
       "avoid_touch_face              0.48\n",
       "dr_recc_h1n1_vacc             8.09\n",
       "dr_recc_seasonal_vacc         8.09\n",
       "chronic_medic_condition       3.64\n",
       "cont_child_undr_6_mnths       3.07\n",
       "is_health_worker              3.01\n",
       "has_health_insur             45.96\n",
       "is_h1n1_vacc_effective        1.46\n",
       "is_h1n1_risky                 1.45\n",
       "sick_from_h1n1_vacc           1.48\n",
       "is_seas_vacc_effective        1.73\n",
       "is_seas_risky                 1.92\n",
       "sick_from_seas_vacc           2.01\n",
       "age_bracket                   0.00\n",
       "qualification                 5.27\n",
       "race                          0.00\n",
       "sex                           0.00\n",
       "income_level                 16.56\n",
       "marital_status                5.27\n",
       "housing_status                7.65\n",
       "employment                    5.48\n",
       "census_msa                    0.00\n",
       "no_of_adults                  0.93\n",
       "no_of_children                0.93\n",
       "h1n1_vaccine                  0.00\n",
       "dtype: float64"
      ]
     },
     "execution_count": 16,
     "metadata": {},
     "output_type": "execute_result"
    }
   ],
   "source": [
    "round(df.isnull().sum()/len(df) * 100 , 2)"
   ]
  },
  {
   "cell_type": "markdown",
   "metadata": {},
   "source": [
    "## Splitting the dataset into independent and dependent features"
   ]
  },
  {
   "cell_type": "code",
   "execution_count": 17,
   "metadata": {},
   "outputs": [],
   "source": [
    "\n",
    "X = df.drop(\"h1n1_vaccine\",axis=1)\n",
    "y=df['h1n1_vaccine']"
   ]
  },
  {
   "cell_type": "code",
   "execution_count": 18,
   "metadata": {},
   "outputs": [
    {
     "data": {
      "text/html": [
       "<div>\n",
       "<style scoped>\n",
       "    .dataframe tbody tr th:only-of-type {\n",
       "        vertical-align: middle;\n",
       "    }\n",
       "\n",
       "    .dataframe tbody tr th {\n",
       "        vertical-align: top;\n",
       "    }\n",
       "\n",
       "    .dataframe thead th {\n",
       "        text-align: right;\n",
       "    }\n",
       "</style>\n",
       "<table border=\"1\" class=\"dataframe\">\n",
       "  <thead>\n",
       "    <tr style=\"text-align: right;\">\n",
       "      <th></th>\n",
       "      <th>unique_id</th>\n",
       "      <th>h1n1_worry</th>\n",
       "      <th>h1n1_awareness</th>\n",
       "      <th>antiviral_medication</th>\n",
       "      <th>contact_avoidance</th>\n",
       "      <th>bought_face_mask</th>\n",
       "      <th>wash_hands_frequently</th>\n",
       "      <th>avoid_large_gatherings</th>\n",
       "      <th>reduced_outside_home_cont</th>\n",
       "      <th>avoid_touch_face</th>\n",
       "      <th>dr_recc_h1n1_vacc</th>\n",
       "      <th>dr_recc_seasonal_vacc</th>\n",
       "      <th>chronic_medic_condition</th>\n",
       "      <th>cont_child_undr_6_mnths</th>\n",
       "      <th>is_health_worker</th>\n",
       "      <th>has_health_insur</th>\n",
       "      <th>is_h1n1_vacc_effective</th>\n",
       "      <th>is_h1n1_risky</th>\n",
       "      <th>sick_from_h1n1_vacc</th>\n",
       "      <th>is_seas_vacc_effective</th>\n",
       "      <th>is_seas_risky</th>\n",
       "      <th>sick_from_seas_vacc</th>\n",
       "      <th>age_bracket</th>\n",
       "      <th>qualification</th>\n",
       "      <th>race</th>\n",
       "      <th>sex</th>\n",
       "      <th>income_level</th>\n",
       "      <th>marital_status</th>\n",
       "      <th>housing_status</th>\n",
       "      <th>employment</th>\n",
       "      <th>census_msa</th>\n",
       "      <th>no_of_adults</th>\n",
       "      <th>no_of_children</th>\n",
       "    </tr>\n",
       "  </thead>\n",
       "  <tbody>\n",
       "    <tr>\n",
       "      <th>0</th>\n",
       "      <td>0</td>\n",
       "      <td>1.0</td>\n",
       "      <td>0.0</td>\n",
       "      <td>0.0</td>\n",
       "      <td>0.0</td>\n",
       "      <td>0.0</td>\n",
       "      <td>0.0</td>\n",
       "      <td>0.0</td>\n",
       "      <td>1.0</td>\n",
       "      <td>1.0</td>\n",
       "      <td>0.0</td>\n",
       "      <td>0.0</td>\n",
       "      <td>0.0</td>\n",
       "      <td>0.0</td>\n",
       "      <td>0.0</td>\n",
       "      <td>1.0</td>\n",
       "      <td>3.0</td>\n",
       "      <td>1.0</td>\n",
       "      <td>2.0</td>\n",
       "      <td>2.0</td>\n",
       "      <td>1.0</td>\n",
       "      <td>2.0</td>\n",
       "      <td>55 - 64 Years</td>\n",
       "      <td>&lt; 12 Years</td>\n",
       "      <td>White</td>\n",
       "      <td>Female</td>\n",
       "      <td>Below Poverty</td>\n",
       "      <td>Not Married</td>\n",
       "      <td>Own</td>\n",
       "      <td>Not in Labor Force</td>\n",
       "      <td>Non-MSA</td>\n",
       "      <td>0.0</td>\n",
       "      <td>0.0</td>\n",
       "    </tr>\n",
       "    <tr>\n",
       "      <th>1</th>\n",
       "      <td>1</td>\n",
       "      <td>3.0</td>\n",
       "      <td>2.0</td>\n",
       "      <td>0.0</td>\n",
       "      <td>1.0</td>\n",
       "      <td>0.0</td>\n",
       "      <td>1.0</td>\n",
       "      <td>0.0</td>\n",
       "      <td>1.0</td>\n",
       "      <td>1.0</td>\n",
       "      <td>0.0</td>\n",
       "      <td>0.0</td>\n",
       "      <td>0.0</td>\n",
       "      <td>0.0</td>\n",
       "      <td>0.0</td>\n",
       "      <td>1.0</td>\n",
       "      <td>5.0</td>\n",
       "      <td>4.0</td>\n",
       "      <td>4.0</td>\n",
       "      <td>4.0</td>\n",
       "      <td>2.0</td>\n",
       "      <td>4.0</td>\n",
       "      <td>35 - 44 Years</td>\n",
       "      <td>12 Years</td>\n",
       "      <td>White</td>\n",
       "      <td>Male</td>\n",
       "      <td>Below Poverty</td>\n",
       "      <td>Not Married</td>\n",
       "      <td>Rent</td>\n",
       "      <td>Employed</td>\n",
       "      <td>MSA, Not Principle  City</td>\n",
       "      <td>0.0</td>\n",
       "      <td>0.0</td>\n",
       "    </tr>\n",
       "    <tr>\n",
       "      <th>2</th>\n",
       "      <td>2</td>\n",
       "      <td>1.0</td>\n",
       "      <td>1.0</td>\n",
       "      <td>0.0</td>\n",
       "      <td>1.0</td>\n",
       "      <td>0.0</td>\n",
       "      <td>0.0</td>\n",
       "      <td>0.0</td>\n",
       "      <td>0.0</td>\n",
       "      <td>0.0</td>\n",
       "      <td>NaN</td>\n",
       "      <td>NaN</td>\n",
       "      <td>1.0</td>\n",
       "      <td>0.0</td>\n",
       "      <td>0.0</td>\n",
       "      <td>NaN</td>\n",
       "      <td>3.0</td>\n",
       "      <td>1.0</td>\n",
       "      <td>1.0</td>\n",
       "      <td>4.0</td>\n",
       "      <td>1.0</td>\n",
       "      <td>2.0</td>\n",
       "      <td>18 - 34 Years</td>\n",
       "      <td>College Graduate</td>\n",
       "      <td>White</td>\n",
       "      <td>Male</td>\n",
       "      <td>&lt;= $75,000, Above Poverty</td>\n",
       "      <td>Not Married</td>\n",
       "      <td>Own</td>\n",
       "      <td>Employed</td>\n",
       "      <td>MSA, Not Principle  City</td>\n",
       "      <td>2.0</td>\n",
       "      <td>0.0</td>\n",
       "    </tr>\n",
       "    <tr>\n",
       "      <th>3</th>\n",
       "      <td>3</td>\n",
       "      <td>1.0</td>\n",
       "      <td>1.0</td>\n",
       "      <td>0.0</td>\n",
       "      <td>1.0</td>\n",
       "      <td>0.0</td>\n",
       "      <td>1.0</td>\n",
       "      <td>1.0</td>\n",
       "      <td>0.0</td>\n",
       "      <td>0.0</td>\n",
       "      <td>0.0</td>\n",
       "      <td>1.0</td>\n",
       "      <td>1.0</td>\n",
       "      <td>0.0</td>\n",
       "      <td>0.0</td>\n",
       "      <td>NaN</td>\n",
       "      <td>3.0</td>\n",
       "      <td>3.0</td>\n",
       "      <td>5.0</td>\n",
       "      <td>5.0</td>\n",
       "      <td>4.0</td>\n",
       "      <td>1.0</td>\n",
       "      <td>65+ Years</td>\n",
       "      <td>12 Years</td>\n",
       "      <td>White</td>\n",
       "      <td>Female</td>\n",
       "      <td>Below Poverty</td>\n",
       "      <td>Not Married</td>\n",
       "      <td>Rent</td>\n",
       "      <td>Not in Labor Force</td>\n",
       "      <td>MSA, Principle City</td>\n",
       "      <td>0.0</td>\n",
       "      <td>0.0</td>\n",
       "    </tr>\n",
       "    <tr>\n",
       "      <th>4</th>\n",
       "      <td>4</td>\n",
       "      <td>2.0</td>\n",
       "      <td>1.0</td>\n",
       "      <td>0.0</td>\n",
       "      <td>1.0</td>\n",
       "      <td>0.0</td>\n",
       "      <td>1.0</td>\n",
       "      <td>1.0</td>\n",
       "      <td>0.0</td>\n",
       "      <td>1.0</td>\n",
       "      <td>0.0</td>\n",
       "      <td>0.0</td>\n",
       "      <td>0.0</td>\n",
       "      <td>0.0</td>\n",
       "      <td>0.0</td>\n",
       "      <td>NaN</td>\n",
       "      <td>3.0</td>\n",
       "      <td>3.0</td>\n",
       "      <td>2.0</td>\n",
       "      <td>3.0</td>\n",
       "      <td>1.0</td>\n",
       "      <td>4.0</td>\n",
       "      <td>45 - 54 Years</td>\n",
       "      <td>Some College</td>\n",
       "      <td>White</td>\n",
       "      <td>Female</td>\n",
       "      <td>&lt;= $75,000, Above Poverty</td>\n",
       "      <td>Married</td>\n",
       "      <td>Own</td>\n",
       "      <td>Employed</td>\n",
       "      <td>MSA, Not Principle  City</td>\n",
       "      <td>1.0</td>\n",
       "      <td>0.0</td>\n",
       "    </tr>\n",
       "  </tbody>\n",
       "</table>\n",
       "</div>"
      ],
      "text/plain": [
       "   unique_id  h1n1_worry  h1n1_awareness  antiviral_medication  \\\n",
       "0          0         1.0             0.0                   0.0   \n",
       "1          1         3.0             2.0                   0.0   \n",
       "2          2         1.0             1.0                   0.0   \n",
       "3          3         1.0             1.0                   0.0   \n",
       "4          4         2.0             1.0                   0.0   \n",
       "\n",
       "   contact_avoidance  bought_face_mask  wash_hands_frequently  \\\n",
       "0                0.0               0.0                    0.0   \n",
       "1                1.0               0.0                    1.0   \n",
       "2                1.0               0.0                    0.0   \n",
       "3                1.0               0.0                    1.0   \n",
       "4                1.0               0.0                    1.0   \n",
       "\n",
       "   avoid_large_gatherings  reduced_outside_home_cont  avoid_touch_face  \\\n",
       "0                     0.0                        1.0               1.0   \n",
       "1                     0.0                        1.0               1.0   \n",
       "2                     0.0                        0.0               0.0   \n",
       "3                     1.0                        0.0               0.0   \n",
       "4                     1.0                        0.0               1.0   \n",
       "\n",
       "   dr_recc_h1n1_vacc  dr_recc_seasonal_vacc  chronic_medic_condition  \\\n",
       "0                0.0                    0.0                      0.0   \n",
       "1                0.0                    0.0                      0.0   \n",
       "2                NaN                    NaN                      1.0   \n",
       "3                0.0                    1.0                      1.0   \n",
       "4                0.0                    0.0                      0.0   \n",
       "\n",
       "   cont_child_undr_6_mnths  is_health_worker  has_health_insur  \\\n",
       "0                      0.0               0.0               1.0   \n",
       "1                      0.0               0.0               1.0   \n",
       "2                      0.0               0.0               NaN   \n",
       "3                      0.0               0.0               NaN   \n",
       "4                      0.0               0.0               NaN   \n",
       "\n",
       "   is_h1n1_vacc_effective  is_h1n1_risky  sick_from_h1n1_vacc  \\\n",
       "0                     3.0            1.0                  2.0   \n",
       "1                     5.0            4.0                  4.0   \n",
       "2                     3.0            1.0                  1.0   \n",
       "3                     3.0            3.0                  5.0   \n",
       "4                     3.0            3.0                  2.0   \n",
       "\n",
       "   is_seas_vacc_effective  is_seas_risky  sick_from_seas_vacc    age_bracket  \\\n",
       "0                     2.0            1.0                  2.0  55 - 64 Years   \n",
       "1                     4.0            2.0                  4.0  35 - 44 Years   \n",
       "2                     4.0            1.0                  2.0  18 - 34 Years   \n",
       "3                     5.0            4.0                  1.0      65+ Years   \n",
       "4                     3.0            1.0                  4.0  45 - 54 Years   \n",
       "\n",
       "      qualification   race     sex               income_level marital_status  \\\n",
       "0        < 12 Years  White  Female              Below Poverty    Not Married   \n",
       "1          12 Years  White    Male              Below Poverty    Not Married   \n",
       "2  College Graduate  White    Male  <= $75,000, Above Poverty    Not Married   \n",
       "3          12 Years  White  Female              Below Poverty    Not Married   \n",
       "4      Some College  White  Female  <= $75,000, Above Poverty        Married   \n",
       "\n",
       "  housing_status          employment                census_msa  no_of_adults  \\\n",
       "0            Own  Not in Labor Force                   Non-MSA           0.0   \n",
       "1           Rent            Employed  MSA, Not Principle  City           0.0   \n",
       "2            Own            Employed  MSA, Not Principle  City           2.0   \n",
       "3           Rent  Not in Labor Force       MSA, Principle City           0.0   \n",
       "4            Own            Employed  MSA, Not Principle  City           1.0   \n",
       "\n",
       "   no_of_children  \n",
       "0             0.0  \n",
       "1             0.0  \n",
       "2             0.0  \n",
       "3             0.0  \n",
       "4             0.0  "
      ]
     },
     "execution_count": 18,
     "metadata": {},
     "output_type": "execute_result"
    }
   ],
   "source": [
    "X.head()"
   ]
  },
  {
   "cell_type": "code",
   "execution_count": 19,
   "metadata": {},
   "outputs": [
    {
     "data": {
      "text/plain": [
       "0    0\n",
       "1    0\n",
       "2    0\n",
       "3    0\n",
       "4    0\n",
       "Name: h1n1_vaccine, dtype: int64"
      ]
     },
     "execution_count": 19,
     "metadata": {},
     "output_type": "execute_result"
    }
   ],
   "source": [
    "y.head()"
   ]
  },
  {
   "cell_type": "code",
   "execution_count": 20,
   "metadata": {},
   "outputs": [],
   "source": [
    "from sklearn.model_selection import train_test_split"
   ]
  },
  {
   "cell_type": "code",
   "execution_count": 21,
   "metadata": {},
   "outputs": [],
   "source": [
    "X_train, X_test, y_train, y_test = train_test_split(X, y, test_size=0.2, random_state=42)"
   ]
  },
  {
   "cell_type": "markdown",
   "metadata": {},
   "source": [
    "## Dealing with null values"
   ]
  },
  {
   "cell_type": "code",
   "execution_count": 22,
   "metadata": {
    "scrolled": false
   },
   "outputs": [
    {
     "data": {
      "text/plain": [
       "unique_id                       0\n",
       "h1n1_worry                     73\n",
       "h1n1_awareness                 91\n",
       "antiviral_medication           59\n",
       "contact_avoidance             163\n",
       "bought_face_mask               14\n",
       "wash_hands_frequently          36\n",
       "avoid_large_gatherings         72\n",
       "reduced_outside_home_cont      59\n",
       "avoid_touch_face              102\n",
       "dr_recc_h1n1_vacc            1736\n",
       "dr_recc_seasonal_vacc        1736\n",
       "chronic_medic_condition       771\n",
       "cont_child_undr_6_mnths       655\n",
       "is_health_worker              643\n",
       "has_health_insur             9858\n",
       "is_h1n1_vacc_effective        318\n",
       "is_h1n1_risky                 311\n",
       "sick_from_h1n1_vacc           321\n",
       "is_seas_vacc_effective        371\n",
       "is_seas_risky                 410\n",
       "sick_from_seas_vacc           431\n",
       "age_bracket                     0\n",
       "qualification                1125\n",
       "race                            0\n",
       "sex                             0\n",
       "income_level                 3514\n",
       "marital_status               1120\n",
       "housing_status               1628\n",
       "employment                   1162\n",
       "census_msa                      0\n",
       "no_of_adults                  202\n",
       "no_of_children                202\n",
       "dtype: int64"
      ]
     },
     "execution_count": 22,
     "metadata": {},
     "output_type": "execute_result"
    }
   ],
   "source": [
    "# Finding the number of null values in all columns of X \n",
    "X_train.isnull().sum()"
   ]
  },
  {
   "cell_type": "code",
   "execution_count": 23,
   "metadata": {
    "scrolled": false
   },
   "outputs": [
    {
     "data": {
      "text/plain": [
       "unique_id                     0.00\n",
       "h1n1_worry                    0.34\n",
       "h1n1_awareness                0.43\n",
       "antiviral_medication          0.28\n",
       "contact_avoidance             0.76\n",
       "bought_face_mask              0.07\n",
       "wash_hands_frequently         0.17\n",
       "avoid_large_gatherings        0.34\n",
       "reduced_outside_home_cont     0.28\n",
       "avoid_touch_face              0.48\n",
       "dr_recc_h1n1_vacc             8.13\n",
       "dr_recc_seasonal_vacc         8.13\n",
       "chronic_medic_condition       3.61\n",
       "cont_child_undr_6_mnths       3.07\n",
       "is_health_worker              3.01\n",
       "has_health_insur             46.14\n",
       "is_h1n1_vacc_effective        1.49\n",
       "is_h1n1_risky                 1.46\n",
       "sick_from_h1n1_vacc           1.50\n",
       "is_seas_vacc_effective        1.74\n",
       "is_seas_risky                 1.92\n",
       "sick_from_seas_vacc           2.02\n",
       "age_bracket                   0.00\n",
       "qualification                 5.27\n",
       "race                          0.00\n",
       "sex                           0.00\n",
       "income_level                 16.45\n",
       "marital_status                5.24\n",
       "housing_status                7.62\n",
       "employment                    5.44\n",
       "census_msa                    0.00\n",
       "no_of_adults                  0.95\n",
       "no_of_children                0.95\n",
       "dtype: float64"
      ]
     },
     "execution_count": 23,
     "metadata": {},
     "output_type": "execute_result"
    }
   ],
   "source": [
    "# Finding the percent of null values in all columns of X\n",
    "round(X_train.isnull().sum()/len(X_train) * 100 , 2)"
   ]
  },
  {
   "cell_type": "code",
   "execution_count": 24,
   "metadata": {},
   "outputs": [],
   "source": [
    "# Assingning the percent of null values to a variable called 'null_percent'\n",
    "null_percent = round(X_train.isnull().sum()/len(X_train) * 100 , 2)"
   ]
  },
  {
   "cell_type": "code",
   "execution_count": 25,
   "metadata": {
    "scrolled": false
   },
   "outputs": [
    {
     "data": {
      "text/plain": [
       "has_health_insur    46.14\n",
       "dtype: float64"
      ]
     },
     "execution_count": 25,
     "metadata": {},
     "output_type": "execute_result"
    }
   ],
   "source": [
    "# Selecting the columns with null values greater than 40 percent.\n",
    "null_percent[null_percent>40]"
   ]
  },
  {
   "cell_type": "code",
   "execution_count": 26,
   "metadata": {},
   "outputs": [],
   "source": [
    "# 'has_health_insur' column has null values greater than 40 percent. \n",
    "# We have to explore the 'has_health_insur' column to find the importance of that column"
   ]
  },
  {
   "cell_type": "code",
   "execution_count": 27,
   "metadata": {},
   "outputs": [
    {
     "data": {
      "text/plain": [
       "count    11507.000000\n",
       "mean         0.879465\n",
       "std          0.325601\n",
       "min          0.000000\n",
       "25%          1.000000\n",
       "50%          1.000000\n",
       "75%          1.000000\n",
       "max          1.000000\n",
       "Name: has_health_insur, dtype: float64"
      ]
     },
     "execution_count": 27,
     "metadata": {},
     "output_type": "execute_result"
    }
   ],
   "source": [
    "X_train['has_health_insur'].describe()"
   ]
  },
  {
   "cell_type": "code",
   "execution_count": 28,
   "metadata": {},
   "outputs": [
    {
     "data": {
      "text/plain": [
       "Descriptions    Does respondent have health insurance - (0,1)\n",
       "Name: has_health_insur, dtype: object"
      ]
     },
     "execution_count": 28,
     "metadata": {},
     "output_type": "execute_result"
    }
   ],
   "source": [
    "df_desc.loc['has_health_insur']"
   ]
  },
  {
   "cell_type": "code",
   "execution_count": 29,
   "metadata": {
    "scrolled": true
   },
   "outputs": [],
   "source": [
    "# We can see that this column is categorical\n",
    "# Lets fill the null values with 'Not Available'\n",
    "X_train['has_health_insur'].fillna('Not Available', inplace=True)"
   ]
  },
  {
   "cell_type": "code",
   "execution_count": 30,
   "metadata": {},
   "outputs": [],
   "source": [
    "X_test['has_health_insur'].fillna('Not Available', inplace=True)"
   ]
  },
  {
   "cell_type": "code",
   "execution_count": 31,
   "metadata": {},
   "outputs": [
    {
     "data": {
      "text/plain": [
       "<matplotlib.axes._subplots.AxesSubplot at 0x202a35ef970>"
      ]
     },
     "execution_count": 31,
     "metadata": {},
     "output_type": "execute_result"
    },
    {
     "data": {
      "image/png": "[encoded data removed]",
      "text/plain": [
       "<Figure size 432x288 with 1 Axes>"
      ]
     },
     "metadata": {
      "needs_background": "light"
     },
     "output_type": "display_data"
    }
   ],
   "source": [
    "sns.countplot(X_train['has_health_insur'])"
   ]
  },
  {
   "cell_type": "code",
   "execution_count": 32,
   "metadata": {},
   "outputs": [],
   "source": [
    "# Almost 13000 have health insurance and 2000 people dont have insurance\n",
    "# Now lets see if this column has any impact on the dependent variable"
   ]
  },
  {
   "cell_type": "code",
   "execution_count": 33,
   "metadata": {},
   "outputs": [
    {
     "data": {
      "text/html": [
       "<div>\n",
       "<style scoped>\n",
       "    .dataframe tbody tr th:only-of-type {\n",
       "        vertical-align: middle;\n",
       "    }\n",
       "\n",
       "    .dataframe tbody tr th {\n",
       "        vertical-align: top;\n",
       "    }\n",
       "\n",
       "    .dataframe thead th {\n",
       "        text-align: right;\n",
       "    }\n",
       "</style>\n",
       "<table border=\"1\" class=\"dataframe\">\n",
       "  <thead>\n",
       "    <tr style=\"text-align: right;\">\n",
       "      <th>h1n1_vaccine</th>\n",
       "      <th>0</th>\n",
       "      <th>1</th>\n",
       "    </tr>\n",
       "    <tr>\n",
       "      <th>has_health_insur</th>\n",
       "      <th></th>\n",
       "      <th></th>\n",
       "    </tr>\n",
       "  </thead>\n",
       "  <tbody>\n",
       "    <tr>\n",
       "      <th>0.0</th>\n",
       "      <td>1183</td>\n",
       "      <td>204</td>\n",
       "    </tr>\n",
       "    <tr>\n",
       "      <th>1.0</th>\n",
       "      <td>6898</td>\n",
       "      <td>3222</td>\n",
       "    </tr>\n",
       "    <tr>\n",
       "      <th>Not Available</th>\n",
       "      <td>8740</td>\n",
       "      <td>1118</td>\n",
       "    </tr>\n",
       "  </tbody>\n",
       "</table>\n",
       "</div>"
      ],
      "text/plain": [
       "h1n1_vaccine         0     1\n",
       "has_health_insur            \n",
       "0.0               1183   204\n",
       "1.0               6898  3222\n",
       "Not Available     8740  1118"
      ]
     },
     "execution_count": 33,
     "metadata": {},
     "output_type": "execute_result"
    }
   ],
   "source": [
    "ctable = pd.crosstab(X_train['has_health_insur'],y_train)\n",
    "ctable"
   ]
  },
  {
   "cell_type": "code",
   "execution_count": 34,
   "metadata": {},
   "outputs": [
    {
     "name": "stdout",
     "output_type": "stream",
     "text": [
      "p value is 4.591041989986564e-281\n",
      "Reject Ho,  there is a significant relation between the two variables\n"
     ]
    }
   ],
   "source": [
    "from scipy.stats import chi2_contingency \n",
    "\n",
    "Ho = 'there is no relation between the variables'\n",
    "Ha = 'there is a significant relation between the two variables'\n",
    "\n",
    "# defining the table \n",
    "stat, p, dof, expected = chi2_contingency(ctable) \n",
    "  \n",
    "# interpret p-value \n",
    "alpha = 0.05\n",
    "print(\"p value is \" + str(p)) \n",
    "if p <= alpha: \n",
    "    print('Reject Ho, ', Ha) \n",
    "else: \n",
    "    print('Fail to reject Ho, ', Ho) "
   ]
  },
  {
   "cell_type": "code",
   "execution_count": 35,
   "metadata": {},
   "outputs": [],
   "source": [
    "# So lets keep the 'has_health_insur' column."
   ]
  },
  {
   "cell_type": "markdown",
   "metadata": {},
   "source": [
    "## Exploratory Data Analysis (EDA)"
   ]
  },
  {
   "cell_type": "code",
   "execution_count": 36,
   "metadata": {},
   "outputs": [
    {
     "data": {
      "text/html": [
       "<div>\n",
       "<style scoped>\n",
       "    .dataframe tbody tr th:only-of-type {\n",
       "        vertical-align: middle;\n",
       "    }\n",
       "\n",
       "    .dataframe tbody tr th {\n",
       "        vertical-align: top;\n",
       "    }\n",
       "\n",
       "    .dataframe thead th {\n",
       "        text-align: right;\n",
       "    }\n",
       "</style>\n",
       "<table border=\"1\" class=\"dataframe\">\n",
       "  <thead>\n",
       "    <tr style=\"text-align: right;\">\n",
       "      <th></th>\n",
       "      <th>unique_id</th>\n",
       "      <th>h1n1_worry</th>\n",
       "      <th>h1n1_awareness</th>\n",
       "      <th>antiviral_medication</th>\n",
       "      <th>contact_avoidance</th>\n",
       "      <th>bought_face_mask</th>\n",
       "      <th>wash_hands_frequently</th>\n",
       "      <th>avoid_large_gatherings</th>\n",
       "      <th>reduced_outside_home_cont</th>\n",
       "      <th>avoid_touch_face</th>\n",
       "      <th>dr_recc_h1n1_vacc</th>\n",
       "      <th>dr_recc_seasonal_vacc</th>\n",
       "      <th>chronic_medic_condition</th>\n",
       "      <th>cont_child_undr_6_mnths</th>\n",
       "      <th>is_health_worker</th>\n",
       "      <th>has_health_insur</th>\n",
       "      <th>is_h1n1_vacc_effective</th>\n",
       "      <th>is_h1n1_risky</th>\n",
       "      <th>sick_from_h1n1_vacc</th>\n",
       "      <th>is_seas_vacc_effective</th>\n",
       "      <th>is_seas_risky</th>\n",
       "      <th>sick_from_seas_vacc</th>\n",
       "      <th>age_bracket</th>\n",
       "      <th>qualification</th>\n",
       "      <th>race</th>\n",
       "      <th>sex</th>\n",
       "      <th>income_level</th>\n",
       "      <th>marital_status</th>\n",
       "      <th>housing_status</th>\n",
       "      <th>employment</th>\n",
       "      <th>census_msa</th>\n",
       "      <th>no_of_adults</th>\n",
       "      <th>no_of_children</th>\n",
       "    </tr>\n",
       "  </thead>\n",
       "  <tbody>\n",
       "    <tr>\n",
       "      <th>24706</th>\n",
       "      <td>24706</td>\n",
       "      <td>2.0</td>\n",
       "      <td>1.0</td>\n",
       "      <td>0.0</td>\n",
       "      <td>1.0</td>\n",
       "      <td>0.0</td>\n",
       "      <td>1.0</td>\n",
       "      <td>0.0</td>\n",
       "      <td>1.0</td>\n",
       "      <td>1.0</td>\n",
       "      <td>0.0</td>\n",
       "      <td>0.0</td>\n",
       "      <td>1.0</td>\n",
       "      <td>0.0</td>\n",
       "      <td>0.0</td>\n",
       "      <td>0</td>\n",
       "      <td>5.0</td>\n",
       "      <td>4.0</td>\n",
       "      <td>2.0</td>\n",
       "      <td>4.0</td>\n",
       "      <td>4.0</td>\n",
       "      <td>2.0</td>\n",
       "      <td>45 - 54 Years</td>\n",
       "      <td>Some College</td>\n",
       "      <td>White</td>\n",
       "      <td>Female</td>\n",
       "      <td>Below Poverty</td>\n",
       "      <td>Married</td>\n",
       "      <td>Rent</td>\n",
       "      <td>Unemployed</td>\n",
       "      <td>MSA, Not Principle  City</td>\n",
       "      <td>1.0</td>\n",
       "      <td>0.0</td>\n",
       "    </tr>\n",
       "    <tr>\n",
       "      <th>5393</th>\n",
       "      <td>5393</td>\n",
       "      <td>2.0</td>\n",
       "      <td>1.0</td>\n",
       "      <td>1.0</td>\n",
       "      <td>1.0</td>\n",
       "      <td>1.0</td>\n",
       "      <td>1.0</td>\n",
       "      <td>1.0</td>\n",
       "      <td>1.0</td>\n",
       "      <td>1.0</td>\n",
       "      <td>0.0</td>\n",
       "      <td>0.0</td>\n",
       "      <td>0.0</td>\n",
       "      <td>0.0</td>\n",
       "      <td>0.0</td>\n",
       "      <td>Not Available</td>\n",
       "      <td>5.0</td>\n",
       "      <td>4.0</td>\n",
       "      <td>4.0</td>\n",
       "      <td>5.0</td>\n",
       "      <td>4.0</td>\n",
       "      <td>4.0</td>\n",
       "      <td>45 - 54 Years</td>\n",
       "      <td>College Graduate</td>\n",
       "      <td>White</td>\n",
       "      <td>Male</td>\n",
       "      <td>&gt; $75,000</td>\n",
       "      <td>Not Married</td>\n",
       "      <td>Own</td>\n",
       "      <td>Employed</td>\n",
       "      <td>MSA, Not Principle  City</td>\n",
       "      <td>0.0</td>\n",
       "      <td>0.0</td>\n",
       "    </tr>\n",
       "    <tr>\n",
       "      <th>20898</th>\n",
       "      <td>20898</td>\n",
       "      <td>0.0</td>\n",
       "      <td>1.0</td>\n",
       "      <td>0.0</td>\n",
       "      <td>0.0</td>\n",
       "      <td>0.0</td>\n",
       "      <td>1.0</td>\n",
       "      <td>0.0</td>\n",
       "      <td>1.0</td>\n",
       "      <td>0.0</td>\n",
       "      <td>0.0</td>\n",
       "      <td>0.0</td>\n",
       "      <td>0.0</td>\n",
       "      <td>0.0</td>\n",
       "      <td>0.0</td>\n",
       "      <td>1</td>\n",
       "      <td>1.0</td>\n",
       "      <td>2.0</td>\n",
       "      <td>1.0</td>\n",
       "      <td>1.0</td>\n",
       "      <td>4.0</td>\n",
       "      <td>1.0</td>\n",
       "      <td>35 - 44 Years</td>\n",
       "      <td>NaN</td>\n",
       "      <td>White</td>\n",
       "      <td>Male</td>\n",
       "      <td>NaN</td>\n",
       "      <td>Married</td>\n",
       "      <td>NaN</td>\n",
       "      <td>Employed</td>\n",
       "      <td>MSA, Not Principle  City</td>\n",
       "      <td>1.0</td>\n",
       "      <td>1.0</td>\n",
       "    </tr>\n",
       "    <tr>\n",
       "      <th>3429</th>\n",
       "      <td>3429</td>\n",
       "      <td>1.0</td>\n",
       "      <td>1.0</td>\n",
       "      <td>0.0</td>\n",
       "      <td>0.0</td>\n",
       "      <td>0.0</td>\n",
       "      <td>0.0</td>\n",
       "      <td>0.0</td>\n",
       "      <td>0.0</td>\n",
       "      <td>0.0</td>\n",
       "      <td>0.0</td>\n",
       "      <td>0.0</td>\n",
       "      <td>0.0</td>\n",
       "      <td>0.0</td>\n",
       "      <td>0.0</td>\n",
       "      <td>1</td>\n",
       "      <td>4.0</td>\n",
       "      <td>2.0</td>\n",
       "      <td>1.0</td>\n",
       "      <td>4.0</td>\n",
       "      <td>2.0</td>\n",
       "      <td>2.0</td>\n",
       "      <td>45 - 54 Years</td>\n",
       "      <td>College Graduate</td>\n",
       "      <td>Other or Multiple</td>\n",
       "      <td>Female</td>\n",
       "      <td>NaN</td>\n",
       "      <td>Not Married</td>\n",
       "      <td>Own</td>\n",
       "      <td>Employed</td>\n",
       "      <td>Non-MSA</td>\n",
       "      <td>0.0</td>\n",
       "      <td>0.0</td>\n",
       "    </tr>\n",
       "    <tr>\n",
       "      <th>8731</th>\n",
       "      <td>8731</td>\n",
       "      <td>1.0</td>\n",
       "      <td>0.0</td>\n",
       "      <td>0.0</td>\n",
       "      <td>0.0</td>\n",
       "      <td>0.0</td>\n",
       "      <td>1.0</td>\n",
       "      <td>0.0</td>\n",
       "      <td>0.0</td>\n",
       "      <td>0.0</td>\n",
       "      <td>0.0</td>\n",
       "      <td>0.0</td>\n",
       "      <td>0.0</td>\n",
       "      <td>0.0</td>\n",
       "      <td>0.0</td>\n",
       "      <td>1</td>\n",
       "      <td>3.0</td>\n",
       "      <td>2.0</td>\n",
       "      <td>5.0</td>\n",
       "      <td>5.0</td>\n",
       "      <td>2.0</td>\n",
       "      <td>5.0</td>\n",
       "      <td>65+ Years</td>\n",
       "      <td>College Graduate</td>\n",
       "      <td>Black</td>\n",
       "      <td>Female</td>\n",
       "      <td>&lt;= $75,000, Above Poverty</td>\n",
       "      <td>Not Married</td>\n",
       "      <td>Own</td>\n",
       "      <td>Not in Labor Force</td>\n",
       "      <td>MSA, Principle City</td>\n",
       "      <td>1.0</td>\n",
       "      <td>1.0</td>\n",
       "    </tr>\n",
       "  </tbody>\n",
       "</table>\n",
       "</div>"
      ],
      "text/plain": [
       "       unique_id  h1n1_worry  h1n1_awareness  antiviral_medication  \\\n",
       "24706      24706         2.0             1.0                   0.0   \n",
       "5393        5393         2.0             1.0                   1.0   \n",
       "20898      20898         0.0             1.0                   0.0   \n",
       "3429        3429         1.0             1.0                   0.0   \n",
       "8731        8731         1.0             0.0                   0.0   \n",
       "\n",
       "       contact_avoidance  bought_face_mask  wash_hands_frequently  \\\n",
       "24706                1.0               0.0                    1.0   \n",
       "5393                 1.0               1.0                    1.0   \n",
       "20898                0.0               0.0                    1.0   \n",
       "3429                 0.0               0.0                    0.0   \n",
       "8731                 0.0               0.0                    1.0   \n",
       "\n",
       "       avoid_large_gatherings  reduced_outside_home_cont  avoid_touch_face  \\\n",
       "24706                     0.0                        1.0               1.0   \n",
       "5393                      1.0                        1.0               1.0   \n",
       "20898                     0.0                        1.0               0.0   \n",
       "3429                      0.0                        0.0               0.0   \n",
       "8731                      0.0                        0.0               0.0   \n",
       "\n",
       "       dr_recc_h1n1_vacc  dr_recc_seasonal_vacc  chronic_medic_condition  \\\n",
       "24706                0.0                    0.0                      1.0   \n",
       "5393                 0.0                    0.0                      0.0   \n",
       "20898                0.0                    0.0                      0.0   \n",
       "3429                 0.0                    0.0                      0.0   \n",
       "8731                 0.0                    0.0                      0.0   \n",
       "\n",
       "       cont_child_undr_6_mnths  is_health_worker has_health_insur  \\\n",
       "24706                      0.0               0.0                0   \n",
       "5393                       0.0               0.0    Not Available   \n",
       "20898                      0.0               0.0                1   \n",
       "3429                       0.0               0.0                1   \n",
       "8731                       0.0               0.0                1   \n",
       "\n",
       "       is_h1n1_vacc_effective  is_h1n1_risky  sick_from_h1n1_vacc  \\\n",
       "24706                     5.0            4.0                  2.0   \n",
       "5393                      5.0            4.0                  4.0   \n",
       "20898                     1.0            2.0                  1.0   \n",
       "3429                      4.0            2.0                  1.0   \n",
       "8731                      3.0            2.0                  5.0   \n",
       "\n",
       "       is_seas_vacc_effective  is_seas_risky  sick_from_seas_vacc  \\\n",
       "24706                     4.0            4.0                  2.0   \n",
       "5393                      5.0            4.0                  4.0   \n",
       "20898                     1.0            4.0                  1.0   \n",
       "3429                      4.0            2.0                  2.0   \n",
       "8731                      5.0            2.0                  5.0   \n",
       "\n",
       "         age_bracket     qualification               race     sex  \\\n",
       "24706  45 - 54 Years      Some College              White  Female   \n",
       "5393   45 - 54 Years  College Graduate              White    Male   \n",
       "20898  35 - 44 Years               NaN              White    Male   \n",
       "3429   45 - 54 Years  College Graduate  Other or Multiple  Female   \n",
       "8731       65+ Years  College Graduate              Black  Female   \n",
       "\n",
       "                    income_level marital_status housing_status  \\\n",
       "24706              Below Poverty        Married           Rent   \n",
       "5393                   > $75,000    Not Married            Own   \n",
       "20898                        NaN        Married            NaN   \n",
       "3429                         NaN    Not Married            Own   \n",
       "8731   <= $75,000, Above Poverty    Not Married            Own   \n",
       "\n",
       "               employment                census_msa  no_of_adults  \\\n",
       "24706          Unemployed  MSA, Not Principle  City           1.0   \n",
       "5393             Employed  MSA, Not Principle  City           0.0   \n",
       "20898            Employed  MSA, Not Principle  City           1.0   \n",
       "3429             Employed                   Non-MSA           0.0   \n",
       "8731   Not in Labor Force       MSA, Principle City           1.0   \n",
       "\n",
       "       no_of_children  \n",
       "24706             0.0  \n",
       "5393              0.0  \n",
       "20898             1.0  \n",
       "3429              0.0  \n",
       "8731              1.0  "
      ]
     },
     "execution_count": 36,
     "metadata": {},
     "output_type": "execute_result"
    }
   ],
   "source": [
    "X_train.head()"
   ]
  },
  {
   "cell_type": "code",
   "execution_count": 37,
   "metadata": {},
   "outputs": [
    {
     "data": {
      "text/plain": [
       "24706    0\n",
       "5393     0\n",
       "20898    1\n",
       "3429     0\n",
       "8731     0\n",
       "Name: h1n1_vaccine, dtype: int64"
      ]
     },
     "execution_count": 37,
     "metadata": {},
     "output_type": "execute_result"
    }
   ],
   "source": [
    "y_train.head()"
   ]
  },
  {
   "cell_type": "code",
   "execution_count": 41,
   "metadata": {},
   "outputs": [],
   "source": [
    "def uni_var_analysis(col_name, convert=False, fill_na=False):\n",
    "    \n",
    "    print(f'Analysis of {col_name}\\n')\n",
    "    try:\n",
    "        print(df_desc.loc[col_name], '\\n')\n",
    "    except:\n",
    "        pass\n",
    "    \n",
    "    print(f'Value counts of {col_name}: \\n', X_train[col_name].value_counts(), '\\n')\n",
    "    ordinal=False    \n",
    "    if convert:\n",
    "        if len(X_train[col_name].unique())>3 and type(X_train[col_name].unique()[0])!='float':\n",
    "            print(f'Values in {col_name} can be of Ordinal level. So we can treat it as continuous.')\n",
    "            ordinal=True\n",
    "                                        \n",
    "        else:\n",
    "            X_train[col_name] = X_train[col_name].astype('object')\n",
    "            print('!!!!Warning!!!!! Use these codes in a new cell')\n",
    "            print(f\"X_train['{col_name}'] = X_train['{col_name}'].astype('str')\")\n",
    "            print(f\"X_test['{col_name}'] = X_test['{col_name}'].astype('str')\\n\")\n",
    "                \n",
    "    \n",
    "    if X_train[col_name].dtypes != 'O':\n",
    "        \n",
    "        if fill_na:\n",
    "            if ordinal:\n",
    "                value = X_train[col_name].mode()[0]\n",
    "                X_train[col_name].fillna(value, inplace=True)\n",
    "                X_test[col_name].fillna(value, inplace=True)\n",
    "            else:\n",
    "                value = X_train[col_name].mean()\n",
    "                X_train[col_name].fillna(value, inplace=True)\n",
    "                X_test[col_name].fillna(value, inplace=True)\n",
    "        \n",
    "        no_of_null = X_train[col_name].isnull().sum()\n",
    "        per_of_null = round(no_of_null/len(X_train) * 100, 2)\n",
    "        print(f'Number of null values in {col_name}: {no_of_null} ({per_of_null}%)\\n')\n",
    "        \n",
    "        # Finding outliers\n",
    "        Q1 = X_train[col_name].quantile(0.25)\n",
    "        Q3 = X_train[col_name].quantile(0.75)\n",
    "        IQR = Q3-Q1\n",
    "        ub = Q3 + 1.5*IQR\n",
    "        lb = Q1 - 1.5*IQR\n",
    "        no_of_out = len(X_train[col_name]>ub) + len(X_train[col_name]<lb)\n",
    "        print('Total number of outliers in {col_name}: ', no_of_out)\n",
    "        \n",
    "        plt.figure(figsize=(9,6))\n",
    "        sns.distplot(X_train[col_name])\n",
    "        plt.show()\n",
    "        \n",
    "        if ordinal:\n",
    "            plt.figure(figsize=(9,5))\n",
    "            sns.countplot(X_train[col_name])\n",
    "            plt.show()\n",
    "        else:\n",
    "            plt.figure(figsize=(9,6))\n",
    "            sns.boxplot(y=X_train[col_name])\n",
    "            plt.show()\n",
    "        \n",
    "    else:\n",
    "        \n",
    "        if fill_na:\n",
    "            value = X_train[col_name].mode()[0]\n",
    "            X_train[col_name].fillna(value, inplace=True)\n",
    "            X_test[col_name].fillna(value, inplace=True)\n",
    "            \n",
    "        no_of_null = X_train[col_name].isnull().sum()\n",
    "        per_of_null = no_of_null/len(X_train) * 100\n",
    "        print(f'Number of null values in {col_name}: {no_of_null} ({per_of_null}%)')\n",
    "        \n",
    "        plt.figure(figsize=(9,5))\n",
    "        sns.countplot(X_train[col_name])\n",
    "        plt.show()\n",
    "        \n",
    "        "
   ]
  },
  {
   "cell_type": "code",
   "execution_count": null,
   "metadata": {},
   "outputs": [],
   "source": []
  },
  {
   "cell_type": "code",
   "execution_count": 47,
   "metadata": {},
   "outputs": [],
   "source": [
    "def bi_var_analysis(x, y=y_train.name, X=X_train, Y=y_train):\n",
    "    \n",
    "    from scipy import stats\n",
    "    \n",
    "    print(f'Bi-variate analysis of {x} and {y}\\n')\n",
    "    try:\n",
    "        print(f'{x}: {df_desc.loc[x]}\\n')\n",
    "        print(f'{y}: {df_desc.loc[y]}\\n')\n",
    "    except:\n",
    "        pass\n",
    "    \n",
    "    data = pd.concat([X,Y], axis=1)\n",
    "            \n",
    "    if data[x].dtypes != 'O':\n",
    "            \n",
    "        unique = data[y].unique()\n",
    "        print(f'Unique values in {y} are : {unique}\\n')\n",
    "        print('\\n')\n",
    "            \n",
    "        Ho = f'There is no significant association between {y} and {x}'\n",
    "        Ha = f'There is a significant difference between the levels of {y} with respect to {x} mean'\n",
    "            \n",
    "        alpha = 0.05\n",
    "            \n",
    "        print('Ho: ', Ho)\n",
    "        print('Ha: ', Ha)\n",
    "        print('\\n')\n",
    "            \n",
    "        if len(data[y].unique()) == 2:\n",
    "                                \n",
    "            ind_1 = data[data[y] == data[y].unique()[0]]\n",
    "            ind_2 = data[data[y] == data[y].unique()[1]]\n",
    "\n",
    "            stat, p_value = stats.ttest_ind(ind_1[x], ind_2[x])\n",
    "            print('Test Results')\n",
    "            print('\\n')\n",
    "            print('Test statistics: ', stat)\n",
    "            print('p-value: ', p_value,'\\n')\n",
    "                \n",
    "                \n",
    "        else:\n",
    "                \n",
    "            anova_model = ols(f'{x} ~ C({y})', data=data).fit()\n",
    "            aov_table = sm.stats.anova_lm(anova_model, typ=2)\n",
    "            print('Test Results \\n')\n",
    "            print(aov_table)\n",
    "            print('\\n')\n",
    "            p_value = aov_table['PR(>F)'].iloc[0]\n",
    "                \n",
    "        if p_value>alpha:\n",
    "            print('Fail to reject null hypothesis, ', Ho)\n",
    "            print('\\n')\n",
    "            print(f'>>> Drop {x}')\n",
    "        else:\n",
    "            print('Reject null hypothesis, ', Ha)\n",
    "            print('\\n')\n",
    "            print(f'>>> {x} can be useful')\n",
    "                \n",
    "                \n",
    "    if data[x].dtypes == 'O':\n",
    "            \n",
    "        unique1 = data[x].unique()\n",
    "        unique2 = data[y].unique()\n",
    "        print(f'Unique values in {x} are : {unique1}\\n')\n",
    "        print(f'Unique values in {y} are : {unique2}\\n')\n",
    "        print(f'Value counts of {x}: \\n', data[x].value_counts(), '\\n')\n",
    "        print(f'Value counts of {y}: \\n', data[y].value_counts(), '\\n')\n",
    "            \n",
    "        print('\\n')\n",
    "        print(f'Chi square test between {x} and {y}\\n')\n",
    "            \n",
    "        Ho = f'There is no significant assosiation betweeen {x} and {y}'\n",
    "        Ha = f'There is relation between {x} and {y}'\n",
    "            \n",
    "        print('Ho: ', Ho)\n",
    "        print('Ha: ', Ha)\n",
    "        print('\\n')\n",
    "            \n",
    "        ct = pd.crosstab(data[x], data[y]).values\n",
    "        ct_for_print = pd.crosstab(data[x], data[y], rownames=[f'{x}'], colnames=[f'{y}'], margins=True)\n",
    "        print(ct_for_print)\n",
    "        print('\\n')\n",
    "            \n",
    "        chi2, p, dof, ex = stats.chi2_contingency(ct)\n",
    "        print('chi-square stats: ', chi2)\n",
    "        print('p-value: ', p)\n",
    "        print('\\n')\n",
    "            \n",
    "        alpha = 0.05\n",
    "        if p>alpha:\n",
    "            print('Fail to reject null hypothesis, ', Ho)\n",
    "            print('\\n')\n",
    "            print(f'>>> Drop {x}')\n",
    "        else:\n",
    "            print('Reject null hypothesis, ', Ha)\n",
    "            print('\\n')\n",
    "            print(f'>>> {x} can be useful')        \n",
    "        "
   ]
  },
  {
   "cell_type": "markdown",
   "metadata": {},
   "source": [
    "#### unique_id"
   ]
  },
  {
   "cell_type": "code",
   "execution_count": 42,
   "metadata": {},
   "outputs": [
    {
     "name": "stdout",
     "output_type": "stream",
     "text": [
      "Analysis of unique_id\n",
      "\n",
      "Descriptions    Unique identifier for each respondent\n",
      "Name: unique_id, dtype: object \n",
      "\n",
      "Value counts of unique_id: \n",
      " 2047     1\n",
      "25177    1\n",
      "21087    1\n",
      "10848    1\n",
      "8801     1\n",
      "        ..\n",
      "19827    1\n",
      "25974    1\n",
      "7545     1\n",
      "1402     1\n",
      "0        1\n",
      "Name: unique_id, Length: 21365, dtype: int64 \n",
      "\n",
      "Number of null values in unique_id: 0 (0.0%)\n",
      "\n",
      "Total number of outliers in {col_name}:  42730\n"
     ]
    },
    {
     "data": {
      "image/png": "[encoded data removed]",
      "text/plain": [
       "<Figure size 648x432 with 1 Axes>"
      ]
     },
     "metadata": {
      "needs_background": "light"
     },
     "output_type": "display_data"
    },
    {
     "data": {
      "image/png": "[encoded data removed]",
      "text/plain": [
       "<Figure size 648x432 with 1 Axes>"
      ]
     },
     "metadata": {
      "needs_background": "light"
     },
     "output_type": "display_data"
    }
   ],
   "source": [
    "uni_var_analysis('unique_id')"
   ]
  },
  {
   "cell_type": "code",
   "execution_count": 43,
   "metadata": {},
   "outputs": [],
   "source": [
    "# unique_id is not a significant predictor. so we can drop that column"
   ]
  },
  {
   "cell_type": "code",
   "execution_count": 44,
   "metadata": {},
   "outputs": [],
   "source": [
    "X_train.drop('unique_id', axis=1, inplace=True)\n",
    "X_test.drop('unique_id', axis=1, inplace=True)"
   ]
  },
  {
   "cell_type": "markdown",
   "metadata": {},
   "source": [
    "#### h1n1_worry"
   ]
  },
  {
   "cell_type": "code",
   "execution_count": 45,
   "metadata": {},
   "outputs": [
    {
     "name": "stdout",
     "output_type": "stream",
     "text": [
      "Analysis of h1n1_worry\n",
      "\n",
      "Descriptions    Worry about the h1n1 flu(0,1,2,3) 0=Not worried at all, 1=Not very worried, 2=Somewhat worried, 3=Very worried\n",
      "Name: h1n1_worry, dtype: object \n",
      "\n",
      "Value counts of h1n1_worry: \n",
      " 2.0    8450\n",
      "1.0    6553\n",
      "3.0    3666\n",
      "0.0    2623\n",
      "Name: h1n1_worry, dtype: int64 \n",
      "\n",
      "Values in h1n1_worry can be of Ordinal level. So we can treat it as continuous.\n",
      "Number of null values in h1n1_worry: 0 (0.0%)\n",
      "\n",
      "Total number of outliers in {col_name}:  42730\n"
     ]
    },
    {
     "data": {
      "image/png": "[encoded data removed]",
      "text/plain": [
       "<Figure size 648x432 with 1 Axes>"
      ]
     },
     "metadata": {
      "needs_background": "light"
     },
     "output_type": "display_data"
    },
    {
     "data": {
      "image/png": "[encoded data removed]",
      "text/plain": [
       "<Figure size 648x360 with 1 Axes>"
      ]
     },
     "metadata": {
      "needs_background": "light"
     },
     "output_type": "display_data"
    }
   ],
   "source": [
    "uni_var_analysis('h1n1_worry', convert=True, fill_na=True)"
   ]
  },
  {
   "cell_type": "code",
   "execution_count": 48,
   "metadata": {
    "scrolled": false
   },
   "outputs": [
    {
     "name": "stdout",
     "output_type": "stream",
     "text": [
      "Bi-variate analysis of h1n1_worry and h1n1_vaccine\n",
      "\n",
      "h1n1_worry: Descriptions    Worry about the h1n1 flu(0,1,2,3) 0=Not worried at all, 1=Not very worried, 2=Somewhat worried, 3=Very worried\n",
      "Name: h1n1_worry, dtype: object\n",
      "\n",
      "h1n1_vaccine: Descriptions    Dependent variable)Did the respondent received the h1n1 vaccine or not(1,0) - (Yes, No)\n",
      "Name: h1n1_vaccine, dtype: object\n",
      "\n",
      "Unique values in h1n1_vaccine are : [0 1]\n",
      "\n",
      "\n",
      "\n",
      "Ho:  There is no significant association between h1n1_vaccine and h1n1_worry\n",
      "Ha:  There is a significant difference between the levels of h1n1_vaccine with respect to h1n1_worry mean\n",
      "\n",
      "\n",
      "Test Results\n",
      "\n",
      "\n",
      "Test statistics:  -17.688582005217473\n",
      "p-value:  1.6085953940432173e-69 \n",
      "\n",
      "Reject null hypothesis,  There is a significant difference between the levels of h1n1_vaccine with respect to h1n1_worry mean\n",
      "\n",
      "\n",
      ">>> h1n1_worry can be useful\n"
     ]
    }
   ],
   "source": [
    "bi_var_analysis('h1n1_worry')"
   ]
  },
  {
   "cell_type": "markdown",
   "metadata": {},
   "source": [
    "#### h1n1_awareness"
   ]
  },
  {
   "cell_type": "code",
   "execution_count": 49,
   "metadata": {},
   "outputs": [
    {
     "name": "stdout",
     "output_type": "stream",
     "text": [
      "Analysis of h1n1_awareness\n",
      "\n",
      "Descriptions    Signifies the amount of knowledge or understanding the respondent has about h1n1 flu - (0,1,2) - 0=No knowledge, 1=little knowledge, 2=good knowledge\n",
      "Name: h1n1_awareness, dtype: object \n",
      "\n",
      "Value counts of h1n1_awareness: \n",
      " 1.0    11660\n",
      "2.0     7626\n",
      "0.0     1988\n",
      "Name: h1n1_awareness, dtype: int64 \n",
      "\n",
      "Values in h1n1_awareness can be of Ordinal level. So we can treat it as continuous.\n",
      "Number of null values in h1n1_awareness: 0 (0.0%)\n",
      "\n",
      "Total number of outliers in {col_name}:  42730\n"
     ]
    },
    {
     "data": {
      "image/png": "[encoded data removed]",
      "text/plain": [
       "<Figure size 648x432 with 1 Axes>"
      ]
     },
     "metadata": {
      "needs_background": "light"
     },
     "output_type": "display_data"
    },
    {
     "data": {
      "image/png": "[encoded data removed]",
      "text/plain": [
       "<Figure size 648x360 with 1 Axes>"
      ]
     },
     "metadata": {
      "needs_background": "light"
     },
     "output_type": "display_data"
    }
   ],
   "source": [
    "uni_var_analysis('h1n1_awareness', convert=True, fill_na=True)"
   ]
  },
  {
   "cell_type": "code",
   "execution_count": null,
   "metadata": {},
   "outputs": [],
   "source": []
  },
  {
   "cell_type": "code",
   "execution_count": 50,
   "metadata": {},
   "outputs": [
    {
     "name": "stdout",
     "output_type": "stream",
     "text": [
      "Bi-variate analysis of h1n1_awareness and h1n1_vaccine\n",
      "\n",
      "h1n1_awareness: Descriptions    Signifies the amount of knowledge or understanding the respondent has about h1n1 flu - (0,1,2) - 0=No knowledge, 1=little knowledge, 2=good knowledge\n",
      "Name: h1n1_awareness, dtype: object\n",
      "\n",
      "h1n1_vaccine: Descriptions    Dependent variable)Did the respondent received the h1n1 vaccine or not(1,0) - (Yes, No)\n",
      "Name: h1n1_vaccine, dtype: object\n",
      "\n",
      "Unique values in h1n1_vaccine are : [0 1]\n",
      "\n",
      "\n",
      "\n",
      "Ho:  There is no significant association between h1n1_vaccine and h1n1_awareness\n",
      "Ha:  There is a significant difference between the levels of h1n1_vaccine with respect to h1n1_awareness mean\n",
      "\n",
      "\n",
      "Test Results\n",
      "\n",
      "\n",
      "Test statistics:  -17.58012334420808\n",
      "p-value:  1.066045802806562e-68 \n",
      "\n",
      "Reject null hypothesis,  There is a significant difference between the levels of h1n1_vaccine with respect to h1n1_awareness mean\n",
      "\n",
      "\n",
      ">>> h1n1_awareness can be useful\n"
     ]
    }
   ],
   "source": [
    "bi_var_analysis('h1n1_awareness')"
   ]
  },
  {
   "cell_type": "markdown",
   "metadata": {},
   "source": [
    "#### antiviral_medication"
   ]
  },
  {
   "cell_type": "code",
   "execution_count": 51,
   "metadata": {},
   "outputs": [
    {
     "name": "stdout",
     "output_type": "stream",
     "text": [
      "Analysis of antiviral_medication\n",
      "\n",
      "Descriptions    Has the respondent taken antiviral vaccination - (0,1)\n",
      "Name: antiviral_medication, dtype: object \n",
      "\n",
      "Value counts of antiviral_medication: \n",
      " 0.0    20255\n",
      "1.0     1051\n",
      "Name: antiviral_medication, dtype: int64 \n",
      "\n",
      "!!!!Warning!!!!! Use these codes in a new cell\n",
      "X_train['antiviral_medication'] = X_train['antiviral_medication'].astype('str')\n",
      "X_test['antiviral_medication'] = X_test['antiviral_medication'].astype('str')\n",
      "\n",
      "Number of null values in antiviral_medication: 0 (0.0%)\n"
     ]
    },
    {
     "data": {
      "image/png": "[encoded data removed]",
      "text/plain": [
       "<Figure size 648x360 with 1 Axes>"
      ]
     },
     "metadata": {
      "needs_background": "light"
     },
     "output_type": "display_data"
    }
   ],
   "source": [
    "uni_var_analysis('antiviral_medication', convert=True, fill_na=True)"
   ]
  },
  {
   "cell_type": "code",
   "execution_count": 52,
   "metadata": {},
   "outputs": [],
   "source": [
    "X_train['antiviral_medication'] = X_train['antiviral_medication'].astype('str')\n",
    "X_test['antiviral_medication'] = X_test['antiviral_medication'].astype('str')"
   ]
  },
  {
   "cell_type": "code",
   "execution_count": 53,
   "metadata": {},
   "outputs": [
    {
     "name": "stdout",
     "output_type": "stream",
     "text": [
      "Bi-variate analysis of antiviral_medication and h1n1_vaccine\n",
      "\n",
      "antiviral_medication: Descriptions    Has the respondent taken antiviral vaccination - (0,1)\n",
      "Name: antiviral_medication, dtype: object\n",
      "\n",
      "h1n1_vaccine: Descriptions    Dependent variable)Did the respondent received the h1n1 vaccine or not(1,0) - (Yes, No)\n",
      "Name: h1n1_vaccine, dtype: object\n",
      "\n",
      "Unique values in antiviral_medication are : ['0.0' '1.0']\n",
      "\n",
      "Unique values in h1n1_vaccine are : [0 1]\n",
      "\n",
      "Value counts of antiviral_medication: \n",
      " 0.0    20314\n",
      "1.0     1051\n",
      "Name: antiviral_medication, dtype: int64 \n",
      "\n",
      "Value counts of h1n1_vaccine: \n",
      " 0    16821\n",
      "1     4544\n",
      "Name: h1n1_vaccine, dtype: int64 \n",
      "\n",
      "\n",
      "\n",
      "Chi square test between antiviral_medication and h1n1_vaccine\n",
      "\n",
      "Ho:  There is no significant assosiation betweeen antiviral_medication and h1n1_vaccine\n",
      "Ha:  There is relation between antiviral_medication and h1n1_vaccine\n",
      "\n",
      "\n",
      "h1n1_vaccine              0     1    All\n",
      "antiviral_medication                    \n",
      "0.0                   16067  4247  20314\n",
      "1.0                     754   297   1051\n",
      "All                   16821  4544  21365\n",
      "\n",
      "\n",
      "chi-square stats:  31.819609911648367\n",
      "p-value:  1.6917603871304622e-08\n",
      "\n",
      "\n",
      "Reject null hypothesis,  There is relation between antiviral_medication and h1n1_vaccine\n",
      "\n",
      "\n",
      ">>> antiviral_medication can be useful\n"
     ]
    }
   ],
   "source": [
    "bi_var_analysis('antiviral_medication')"
   ]
  },
  {
   "cell_type": "markdown",
   "metadata": {},
   "source": [
    "#### contact_avoidance"
   ]
  },
  {
   "cell_type": "code",
   "execution_count": 54,
   "metadata": {},
   "outputs": [
    {
     "name": "stdout",
     "output_type": "stream",
     "text": [
      "Analysis of contact_avoidance\n",
      "\n",
      "Descriptions    Has avoided any close contact with people who have flu-like symptoms - (0,1)\n",
      "Name: contact_avoidance, dtype: object \n",
      "\n",
      "Value counts of contact_avoidance: \n",
      " 1.0    15361\n",
      "0.0     5841\n",
      "Name: contact_avoidance, dtype: int64 \n",
      "\n",
      "!!!!Warning!!!!! Use these codes in a new cell\n",
      "X_train['contact_avoidance'] = X_train['contact_avoidance'].astype('str')\n",
      "X_test['contact_avoidance'] = X_test['contact_avoidance'].astype('str')\n",
      "\n",
      "Number of null values in contact_avoidance: 0 (0.0%)\n"
     ]
    },
    {
     "data": {
      "image/png": "[encoded data removed]",
      "text/plain": [
       "<Figure size 648x360 with 1 Axes>"
      ]
     },
     "metadata": {
      "needs_background": "light"
     },
     "output_type": "display_data"
    }
   ],
   "source": [
    "uni_var_analysis('contact_avoidance', convert=True, fill_na=True)"
   ]
  },
  {
   "cell_type": "code",
   "execution_count": 58,
   "metadata": {},
   "outputs": [],
   "source": [
    "X_train['contact_avoidance'] = X_train['contact_avoidance'].astype('str')\n",
    "X_test['contact_avoidance'] = X_test['contact_avoidance'].astype('str')"
   ]
  },
  {
   "cell_type": "code",
   "execution_count": 59,
   "metadata": {},
   "outputs": [
    {
     "name": "stdout",
     "output_type": "stream",
     "text": [
      "Bi-variate analysis of contact_avoidance and h1n1_vaccine\n",
      "\n",
      "contact_avoidance: Descriptions    Has avoided any close contact with people who have flu-like symptoms - (0,1)\n",
      "Name: contact_avoidance, dtype: object\n",
      "\n",
      "h1n1_vaccine: Descriptions    Dependent variable)Did the respondent received the h1n1 vaccine or not(1,0) - (Yes, No)\n",
      "Name: h1n1_vaccine, dtype: object\n",
      "\n",
      "Unique values in contact_avoidance are : ['1.0' '0.0']\n",
      "\n",
      "Unique values in h1n1_vaccine are : [0 1]\n",
      "\n",
      "Value counts of contact_avoidance: \n",
      " 1.0    15524\n",
      "0.0     5841\n",
      "Name: contact_avoidance, dtype: int64 \n",
      "\n",
      "Value counts of h1n1_vaccine: \n",
      " 0    16821\n",
      "1     4544\n",
      "Name: h1n1_vaccine, dtype: int64 \n",
      "\n",
      "\n",
      "\n",
      "Chi square test between contact_avoidance and h1n1_vaccine\n",
      "\n",
      "Ho:  There is no significant assosiation betweeen contact_avoidance and h1n1_vaccine\n",
      "Ha:  There is relation between contact_avoidance and h1n1_vaccine\n",
      "\n",
      "\n",
      "h1n1_vaccine           0     1    All\n",
      "contact_avoidance                    \n",
      "0.0                 4786  1055   5841\n",
      "1.0                12035  3489  15524\n",
      "All                16821  4544  21365\n",
      "\n",
      "\n",
      "chi-square stats:  49.09420211117686\n",
      "p-value:  2.4396024434859903e-12\n",
      "\n",
      "\n",
      "Reject null hypothesis,  There is relation between contact_avoidance and h1n1_vaccine\n",
      "\n",
      "\n",
      ">>> contact_avoidance can be useful\n"
     ]
    }
   ],
   "source": [
    "bi_var_analysis('contact_avoidance')"
   ]
  },
  {
   "cell_type": "markdown",
   "metadata": {},
   "source": [
    "#### bought_face_mask"
   ]
  },
  {
   "cell_type": "code",
   "execution_count": 60,
   "metadata": {},
   "outputs": [
    {
     "name": "stdout",
     "output_type": "stream",
     "text": [
      "Analysis of bought_face_mask\n",
      "\n",
      "Descriptions    Has the respondent bought mask or not - (0,1)\n",
      "Name: bought_face_mask, dtype: object \n",
      "\n",
      "Value counts of bought_face_mask: \n",
      " 0.0    19849\n",
      "1.0     1502\n",
      "Name: bought_face_mask, dtype: int64 \n",
      "\n",
      "!!!!Warning!!!!! Use these codes in a new cell\n",
      "X_train['bought_face_mask'] = X_train['bought_face_mask'].astype('str')\n",
      "X_test['bought_face_mask'] = X_test['bought_face_mask'].astype('str')\n",
      "\n",
      "Number of null values in bought_face_mask: 0 (0.0%)\n"
     ]
    },
    {
     "data": {
      "image/png": "[encoded data removed]",
      "text/plain": [
       "<Figure size 648x360 with 1 Axes>"
      ]
     },
     "metadata": {
      "needs_background": "light"
     },
     "output_type": "display_data"
    }
   ],
   "source": [
    "uni_var_analysis('bought_face_mask', convert=True, fill_na=True)"
   ]
  },
  {
   "cell_type": "code",
   "execution_count": 61,
   "metadata": {},
   "outputs": [],
   "source": [
    "X_train['bought_face_mask'] = X_train['bought_face_mask'].astype('str')\n",
    "X_test['bought_face_mask'] = X_test['bought_face_mask'].astype('str')"
   ]
  },
  {
   "cell_type": "code",
   "execution_count": 62,
   "metadata": {},
   "outputs": [
    {
     "name": "stdout",
     "output_type": "stream",
     "text": [
      "Bi-variate analysis of bought_face_mask and h1n1_vaccine\n",
      "\n",
      "bought_face_mask: Descriptions    Has the respondent bought mask or not - (0,1)\n",
      "Name: bought_face_mask, dtype: object\n",
      "\n",
      "h1n1_vaccine: Descriptions    Dependent variable)Did the respondent received the h1n1 vaccine or not(1,0) - (Yes, No)\n",
      "Name: h1n1_vaccine, dtype: object\n",
      "\n",
      "Unique values in bought_face_mask are : ['0.0' '1.0']\n",
      "\n",
      "Unique values in h1n1_vaccine are : [0 1]\n",
      "\n",
      "Value counts of bought_face_mask: \n",
      " 0.0    19863\n",
      "1.0     1502\n",
      "Name: bought_face_mask, dtype: int64 \n",
      "\n",
      "Value counts of h1n1_vaccine: \n",
      " 0    16821\n",
      "1     4544\n",
      "Name: h1n1_vaccine, dtype: int64 \n",
      "\n",
      "\n",
      "\n",
      "Chi square test between bought_face_mask and h1n1_vaccine\n",
      "\n",
      "Ho:  There is no significant assosiation betweeen bought_face_mask and h1n1_vaccine\n",
      "Ha:  There is relation between bought_face_mask and h1n1_vaccine\n",
      "\n",
      "\n",
      "h1n1_vaccine          0     1    All\n",
      "bought_face_mask                    \n",
      "0.0               15793  4070  19863\n",
      "1.0                1028   474   1502\n",
      "All               16821  4544  21365\n",
      "\n",
      "\n",
      "chi-square stats:  101.48852988011743\n",
      "p-value:  7.187844972514212e-24\n",
      "\n",
      "\n",
      "Reject null hypothesis,  There is relation between bought_face_mask and h1n1_vaccine\n",
      "\n",
      "\n",
      ">>> bought_face_mask can be useful\n"
     ]
    }
   ],
   "source": [
    "bi_var_analysis('bought_face_mask')"
   ]
  },
  {
   "cell_type": "markdown",
   "metadata": {},
   "source": [
    "#### wash_hands_frequently"
   ]
  },
  {
   "cell_type": "code",
   "execution_count": 63,
   "metadata": {},
   "outputs": [
    {
     "name": "stdout",
     "output_type": "stream",
     "text": [
      "Analysis of wash_hands_frequently\n",
      "\n",
      "Descriptions    Washes hands frequently or uses hand sanitizer - (0,1)\n",
      "Name: wash_hands_frequently, dtype: object \n",
      "\n",
      "Value counts of wash_hands_frequently: \n",
      " 1.0    17566\n",
      "0.0     3763\n",
      "Name: wash_hands_frequently, dtype: int64 \n",
      "\n",
      "!!!!Warning!!!!! Use these codes in a new cell\n",
      "X_train['wash_hands_frequently'] = X_train['wash_hands_frequently'].astype('str')\n",
      "X_test['wash_hands_frequently'] = X_test['wash_hands_frequently'].astype('str')\n",
      "\n",
      "Number of null values in wash_hands_frequently: 0 (0.0%)\n"
     ]
    },
    {
     "data": {
      "image/png": "[encoded data removed]",
      "text/plain": [
       "<Figure size 648x360 with 1 Axes>"
      ]
     },
     "metadata": {
      "needs_background": "light"
     },
     "output_type": "display_data"
    }
   ],
   "source": [
    "uni_var_analysis('wash_hands_frequently', convert=True, fill_na=True)"
   ]
  },
  {
   "cell_type": "code",
   "execution_count": 64,
   "metadata": {},
   "outputs": [],
   "source": [
    "X_train['wash_hands_frequently'] = X_train['wash_hands_frequently'].astype('str')\n",
    "X_test['wash_hands_frequently'] = X_test['wash_hands_frequently'].astype('str')"
   ]
  },
  {
   "cell_type": "code",
   "execution_count": 65,
   "metadata": {},
   "outputs": [
    {
     "name": "stdout",
     "output_type": "stream",
     "text": [
      "Bi-variate analysis of wash_hands_frequently and h1n1_vaccine\n",
      "\n",
      "wash_hands_frequently: Descriptions    Washes hands frequently or uses hand sanitizer - (0,1)\n",
      "Name: wash_hands_frequently, dtype: object\n",
      "\n",
      "h1n1_vaccine: Descriptions    Dependent variable)Did the respondent received the h1n1 vaccine or not(1,0) - (Yes, No)\n",
      "Name: h1n1_vaccine, dtype: object\n",
      "\n",
      "Unique values in wash_hands_frequently are : ['1.0' '0.0']\n",
      "\n",
      "Unique values in h1n1_vaccine are : [0 1]\n",
      "\n",
      "Value counts of wash_hands_frequently: \n",
      " 1.0    17602\n",
      "0.0     3763\n",
      "Name: wash_hands_frequently, dtype: int64 \n",
      "\n",
      "Value counts of h1n1_vaccine: \n",
      " 0    16821\n",
      "1     4544\n",
      "Name: h1n1_vaccine, dtype: int64 \n",
      "\n",
      "\n",
      "\n",
      "Chi square test between wash_hands_frequently and h1n1_vaccine\n",
      "\n",
      "Ho:  There is no significant assosiation betweeen wash_hands_frequently and h1n1_vaccine\n",
      "Ha:  There is relation between wash_hands_frequently and h1n1_vaccine\n",
      "\n",
      "\n",
      "h1n1_vaccine               0     1    All\n",
      "wash_hands_frequently                    \n",
      "0.0                     3205   558   3763\n",
      "1.0                    13616  3986  17602\n",
      "All                    16821  4544  21365\n",
      "\n",
      "\n",
      "chi-square stats:  112.65391718245397\n",
      "p-value:  2.569250910701459e-26\n",
      "\n",
      "\n",
      "Reject null hypothesis,  There is relation between wash_hands_frequently and h1n1_vaccine\n",
      "\n",
      "\n",
      ">>> wash_hands_frequently can be useful\n"
     ]
    }
   ],
   "source": [
    "bi_var_analysis('wash_hands_frequently')"
   ]
  },
  {
   "cell_type": "markdown",
   "metadata": {},
   "source": [
    "#### avoid_large_gatherings"
   ]
  },
  {
   "cell_type": "code",
   "execution_count": 66,
   "metadata": {},
   "outputs": [
    {
     "name": "stdout",
     "output_type": "stream",
     "text": [
      "Analysis of avoid_large_gatherings\n",
      "\n",
      "Descriptions    Has the respondent reduced time spent at large gatherings - (0,1)\n",
      "Name: avoid_large_gatherings, dtype: object \n",
      "\n",
      "Value counts of avoid_large_gatherings: \n",
      " 0.0    13673\n",
      "1.0     7620\n",
      "Name: avoid_large_gatherings, dtype: int64 \n",
      "\n",
      "!!!!Warning!!!!! Use these codes in a new cell\n",
      "X_train['avoid_large_gatherings'] = X_train['avoid_large_gatherings'].astype('str')\n",
      "X_test['avoid_large_gatherings'] = X_test['avoid_large_gatherings'].astype('str')\n",
      "\n",
      "Number of null values in avoid_large_gatherings: 0 (0.0%)\n"
     ]
    },
    {
     "data": {
      "image/png": "[encoded data removed]",
      "text/plain": [
       "<Figure size 648x360 with 1 Axes>"
      ]
     },
     "metadata": {
      "needs_background": "light"
     },
     "output_type": "display_data"
    }
   ],
   "source": [
    "uni_var_analysis('avoid_large_gatherings', convert=True, fill_na=True)"
   ]
  },
  {
   "cell_type": "code",
   "execution_count": 67,
   "metadata": {},
   "outputs": [],
   "source": [
    "X_train['avoid_large_gatherings'] = X_train['avoid_large_gatherings'].astype('str')\n",
    "X_test['avoid_large_gatherings'] = X_test['avoid_large_gatherings'].astype('str')"
   ]
  },
  {
   "cell_type": "code",
   "execution_count": 68,
   "metadata": {},
   "outputs": [
    {
     "name": "stdout",
     "output_type": "stream",
     "text": [
      "Bi-variate analysis of avoid_large_gatherings and h1n1_vaccine\n",
      "\n",
      "avoid_large_gatherings: Descriptions    Has the respondent reduced time spent at large gatherings - (0,1)\n",
      "Name: avoid_large_gatherings, dtype: object\n",
      "\n",
      "h1n1_vaccine: Descriptions    Dependent variable)Did the respondent received the h1n1 vaccine or not(1,0) - (Yes, No)\n",
      "Name: h1n1_vaccine, dtype: object\n",
      "\n",
      "Unique values in avoid_large_gatherings are : ['0.0' '1.0']\n",
      "\n",
      "Unique values in h1n1_vaccine are : [0 1]\n",
      "\n",
      "Value counts of avoid_large_gatherings: \n",
      " 0.0    13745\n",
      "1.0     7620\n",
      "Name: avoid_large_gatherings, dtype: int64 \n",
      "\n",
      "Value counts of h1n1_vaccine: \n",
      " 0    16821\n",
      "1     4544\n",
      "Name: h1n1_vaccine, dtype: int64 \n",
      "\n",
      "\n",
      "\n",
      "Chi square test between avoid_large_gatherings and h1n1_vaccine\n",
      "\n",
      "Ho:  There is no significant assosiation betweeen avoid_large_gatherings and h1n1_vaccine\n",
      "Ha:  There is relation between avoid_large_gatherings and h1n1_vaccine\n",
      "\n",
      "\n",
      "h1n1_vaccine                0     1    All\n",
      "avoid_large_gatherings                    \n",
      "0.0                     10881  2864  13745\n",
      "1.0                      5940  1680   7620\n",
      "All                     16821  4544  21365\n",
      "\n",
      "\n",
      "chi-square stats:  4.2183994417869535\n",
      "p-value:  0.039987864000595494\n",
      "\n",
      "\n",
      "Reject null hypothesis,  There is relation between avoid_large_gatherings and h1n1_vaccine\n",
      "\n",
      "\n",
      ">>> avoid_large_gatherings can be useful\n"
     ]
    }
   ],
   "source": [
    "bi_var_analysis('avoid_large_gatherings')"
   ]
  },
  {
   "cell_type": "markdown",
   "metadata": {},
   "source": [
    "#### reduced_outside_home_cont"
   ]
  },
  {
   "cell_type": "code",
   "execution_count": 69,
   "metadata": {},
   "outputs": [
    {
     "name": "stdout",
     "output_type": "stream",
     "text": [
      "Analysis of reduced_outside_home_cont\n",
      "\n",
      "Descriptions    Has the respondent reduced contact with people outside their own house - (0,1)\n",
      "Name: reduced_outside_home_cont, dtype: object \n",
      "\n",
      "Value counts of reduced_outside_home_cont: \n",
      " 0.0    14116\n",
      "1.0     7190\n",
      "Name: reduced_outside_home_cont, dtype: int64 \n",
      "\n",
      "!!!!Warning!!!!! Use these codes in a new cell\n",
      "X_train['reduced_outside_home_cont'] = X_train['reduced_outside_home_cont'].astype('str')\n",
      "X_test['reduced_outside_home_cont'] = X_test['reduced_outside_home_cont'].astype('str')\n",
      "\n",
      "Number of null values in reduced_outside_home_cont: 0 (0.0%)\n"
     ]
    },
    {
     "data": {
      "image/png": "[encoded data removed]",
      "text/plain": [
       "<Figure size 648x360 with 1 Axes>"
      ]
     },
     "metadata": {
      "needs_background": "light"
     },
     "output_type": "display_data"
    }
   ],
   "source": [
    "uni_var_analysis('reduced_outside_home_cont', convert=True, fill_na=True)"
   ]
  },
  {
   "cell_type": "code",
   "execution_count": 70,
   "metadata": {},
   "outputs": [],
   "source": [
    "X_train['reduced_outside_home_cont'] = X_train['reduced_outside_home_cont'].astype('str')\n",
    "X_test['reduced_outside_home_cont'] = X_test['reduced_outside_home_cont'].astype('str')"
   ]
  },
  {
   "cell_type": "code",
   "execution_count": 71,
   "metadata": {},
   "outputs": [
    {
     "name": "stdout",
     "output_type": "stream",
     "text": [
      "Bi-variate analysis of reduced_outside_home_cont and h1n1_vaccine\n",
      "\n",
      "reduced_outside_home_cont: Descriptions    Has the respondent reduced contact with people outside their own house - (0,1)\n",
      "Name: reduced_outside_home_cont, dtype: object\n",
      "\n",
      "h1n1_vaccine: Descriptions    Dependent variable)Did the respondent received the h1n1 vaccine or not(1,0) - (Yes, No)\n",
      "Name: h1n1_vaccine, dtype: object\n",
      "\n",
      "Unique values in reduced_outside_home_cont are : ['1.0' '0.0']\n",
      "\n",
      "Unique values in h1n1_vaccine are : [0 1]\n",
      "\n",
      "Value counts of reduced_outside_home_cont: \n",
      " 0.0    14175\n",
      "1.0     7190\n",
      "Name: reduced_outside_home_cont, dtype: int64 \n",
      "\n",
      "Value counts of h1n1_vaccine: \n",
      " 0    16821\n",
      "1     4544\n",
      "Name: h1n1_vaccine, dtype: int64 \n",
      "\n",
      "\n",
      "\n",
      "Chi square test between reduced_outside_home_cont and h1n1_vaccine\n",
      "\n",
      "Ho:  There is no significant assosiation betweeen reduced_outside_home_cont and h1n1_vaccine\n",
      "Ha:  There is relation between reduced_outside_home_cont and h1n1_vaccine\n",
      "\n",
      "\n",
      "h1n1_vaccine                   0     1    All\n",
      "reduced_outside_home_cont                    \n",
      "0.0                        11213  2962  14175\n",
      "1.0                         5608  1582   7190\n",
      "All                        16821  4544  21365\n",
      "\n",
      "\n",
      "chi-square stats:  3.4242733276593085\n",
      "p-value:  0.06424451096610607\n",
      "\n",
      "\n",
      "Fail to reject null hypothesis,  There is no significant assosiation betweeen reduced_outside_home_cont and h1n1_vaccine\n",
      "\n",
      "\n",
      ">>> Drop reduced_outside_home_cont\n"
     ]
    }
   ],
   "source": [
    "bi_var_analysis('reduced_outside_home_cont')"
   ]
  },
  {
   "cell_type": "markdown",
   "metadata": {},
   "source": [
    "#### avoid_touch_face"
   ]
  },
  {
   "cell_type": "code",
   "execution_count": 72,
   "metadata": {},
   "outputs": [
    {
     "name": "stdout",
     "output_type": "stream",
     "text": [
      "Analysis of avoid_touch_face\n",
      "\n",
      "Descriptions    Avoids touching nose, eyes, mouth - (0,1)\n",
      "Name: avoid_touch_face, dtype: object \n",
      "\n",
      "Value counts of avoid_touch_face: \n",
      " 1.0    14368\n",
      "0.0     6895\n",
      "Name: avoid_touch_face, dtype: int64 \n",
      "\n",
      "!!!!Warning!!!!! Use these codes in a new cell\n",
      "X_train['avoid_touch_face'] = X_train['avoid_touch_face'].astype('str')\n",
      "X_test['avoid_touch_face'] = X_test['avoid_touch_face'].astype('str')\n",
      "\n",
      "Number of null values in avoid_touch_face: 0 (0.0%)\n"
     ]
    },
    {
     "data": {
      "image/png": "[encoded data removed]",
      "text/plain": [
       "<Figure size 648x360 with 1 Axes>"
      ]
     },
     "metadata": {
      "needs_background": "light"
     },
     "output_type": "display_data"
    }
   ],
   "source": [
    "uni_var_analysis('avoid_touch_face', convert=True, fill_na=True)"
   ]
  },
  {
   "cell_type": "code",
   "execution_count": 73,
   "metadata": {},
   "outputs": [],
   "source": [
    "X_train['avoid_touch_face'] = X_train['avoid_touch_face'].astype('str')\n",
    "X_test['avoid_touch_face'] = X_test['avoid_touch_face'].astype('str')"
   ]
  },
  {
   "cell_type": "code",
   "execution_count": 74,
   "metadata": {},
   "outputs": [
    {
     "name": "stdout",
     "output_type": "stream",
     "text": [
      "Bi-variate analysis of avoid_touch_face and h1n1_vaccine\n",
      "\n",
      "avoid_touch_face: Descriptions    Avoids touching nose, eyes, mouth - (0,1)\n",
      "Name: avoid_touch_face, dtype: object\n",
      "\n",
      "h1n1_vaccine: Descriptions    Dependent variable)Did the respondent received the h1n1 vaccine or not(1,0) - (Yes, No)\n",
      "Name: h1n1_vaccine, dtype: object\n",
      "\n",
      "Unique values in avoid_touch_face are : ['1.0' '0.0']\n",
      "\n",
      "Unique values in h1n1_vaccine are : [0 1]\n",
      "\n",
      "Value counts of avoid_touch_face: \n",
      " 1.0    14470\n",
      "0.0     6895\n",
      "Name: avoid_touch_face, dtype: int64 \n",
      "\n",
      "Value counts of h1n1_vaccine: \n",
      " 0    16821\n",
      "1     4544\n",
      "Name: h1n1_vaccine, dtype: int64 \n",
      "\n",
      "\n",
      "\n",
      "Chi square test between avoid_touch_face and h1n1_vaccine\n",
      "\n",
      "Ho:  There is no significant assosiation betweeen avoid_touch_face and h1n1_vaccine\n",
      "Ha:  There is relation between avoid_touch_face and h1n1_vaccine\n",
      "\n",
      "\n",
      "h1n1_vaccine          0     1    All\n",
      "avoid_touch_face                    \n",
      "0.0                5726  1169   6895\n",
      "1.0               11095  3375  14470\n",
      "All               16821  4544  21365\n",
      "\n",
      "\n",
      "chi-square stats:  112.77334873720953\n",
      "p-value:  2.4190570435313795e-26\n",
      "\n",
      "\n",
      "Reject null hypothesis,  There is relation between avoid_touch_face and h1n1_vaccine\n",
      "\n",
      "\n",
      ">>> avoid_touch_face can be useful\n"
     ]
    }
   ],
   "source": [
    "bi_var_analysis('avoid_touch_face')"
   ]
  },
  {
   "cell_type": "markdown",
   "metadata": {},
   "source": [
    "#### dr_recc_h1n1_vacc"
   ]
  },
  {
   "cell_type": "code",
   "execution_count": 75,
   "metadata": {},
   "outputs": [
    {
     "name": "stdout",
     "output_type": "stream",
     "text": [
      "Analysis of dr_recc_h1n1_vacc\n",
      "\n",
      "Descriptions    Doctor has recommended h1n1 vaccine - (0,1)\n",
      "Name: dr_recc_h1n1_vacc, dtype: object \n",
      "\n",
      "Value counts of dr_recc_h1n1_vacc: \n",
      " 0.0    15278\n",
      "1.0     4351\n",
      "Name: dr_recc_h1n1_vacc, dtype: int64 \n",
      "\n",
      "!!!!Warning!!!!! Use these codes in a new cell\n",
      "X_train['dr_recc_h1n1_vacc'] = X_train['dr_recc_h1n1_vacc'].astype('str')\n",
      "X_test['dr_recc_h1n1_vacc'] = X_test['dr_recc_h1n1_vacc'].astype('str')\n",
      "\n",
      "Number of null values in dr_recc_h1n1_vacc: 0 (0.0%)\n"
     ]
    },
    {
     "data": {
      "image/png": "[encoded data removed]",
      "text/plain": [
       "<Figure size 648x360 with 1 Axes>"
      ]
     },
     "metadata": {
      "needs_background": "light"
     },
     "output_type": "display_data"
    }
   ],
   "source": [
    "uni_var_analysis('dr_recc_h1n1_vacc', convert=True, fill_na=True)"
   ]
  },
  {
   "cell_type": "code",
   "execution_count": 76,
   "metadata": {},
   "outputs": [],
   "source": [
    "X_train['dr_recc_h1n1_vacc'] = X_train['dr_recc_h1n1_vacc'].astype('str')\n",
    "X_test['dr_recc_h1n1_vacc'] = X_test['dr_recc_h1n1_vacc'].astype('str')"
   ]
  },
  {
   "cell_type": "code",
   "execution_count": 77,
   "metadata": {},
   "outputs": [
    {
     "name": "stdout",
     "output_type": "stream",
     "text": [
      "Bi-variate analysis of dr_recc_h1n1_vacc and h1n1_vaccine\n",
      "\n",
      "dr_recc_h1n1_vacc: Descriptions    Doctor has recommended h1n1 vaccine - (0,1)\n",
      "Name: dr_recc_h1n1_vacc, dtype: object\n",
      "\n",
      "h1n1_vaccine: Descriptions    Dependent variable)Did the respondent received the h1n1 vaccine or not(1,0) - (Yes, No)\n",
      "Name: h1n1_vaccine, dtype: object\n",
      "\n",
      "Unique values in dr_recc_h1n1_vacc are : ['0.0' '1.0']\n",
      "\n",
      "Unique values in h1n1_vaccine are : [0 1]\n",
      "\n",
      "Value counts of dr_recc_h1n1_vacc: \n",
      " 0.0    17014\n",
      "1.0     4351\n",
      "Name: dr_recc_h1n1_vacc, dtype: int64 \n",
      "\n",
      "Value counts of h1n1_vaccine: \n",
      " 0    16821\n",
      "1     4544\n",
      "Name: h1n1_vaccine, dtype: int64 \n",
      "\n",
      "\n",
      "\n",
      "Chi square test between dr_recc_h1n1_vacc and h1n1_vaccine\n",
      "\n",
      "Ho:  There is no significant assosiation betweeen dr_recc_h1n1_vacc and h1n1_vaccine\n",
      "Ha:  There is relation between dr_recc_h1n1_vacc and h1n1_vaccine\n",
      "\n",
      "\n",
      "h1n1_vaccine           0     1    All\n",
      "dr_recc_h1n1_vacc                    \n",
      "0.0                14776  2238  17014\n",
      "1.0                 2045  2306   4351\n",
      "All                16821  4544  21365\n",
      "\n",
      "\n",
      "chi-square stats:  3282.8485292730265\n",
      "p-value:  0.0\n",
      "\n",
      "\n",
      "Reject null hypothesis,  There is relation between dr_recc_h1n1_vacc and h1n1_vaccine\n",
      "\n",
      "\n",
      ">>> dr_recc_h1n1_vacc can be useful\n"
     ]
    }
   ],
   "source": [
    "bi_var_analysis('dr_recc_h1n1_vacc')"
   ]
  },
  {
   "cell_type": "markdown",
   "metadata": {},
   "source": [
    "#### dr_recc_seasonal_vacc"
   ]
  },
  {
   "cell_type": "code",
   "execution_count": 78,
   "metadata": {},
   "outputs": [
    {
     "name": "stdout",
     "output_type": "stream",
     "text": [
      "Analysis of dr_recc_seasonal_vacc\n",
      "\n",
      "Descriptions    The doctor has recommended seasonalflu vaccine - (0,1)\n",
      "Name: dr_recc_seasonal_vacc, dtype: object \n",
      "\n",
      "Value counts of dr_recc_seasonal_vacc: \n",
      " 0.0    13103\n",
      "1.0     6526\n",
      "Name: dr_recc_seasonal_vacc, dtype: int64 \n",
      "\n",
      "!!!!Warning!!!!! Use these codes in a new cell\n",
      "X_train['dr_recc_seasonal_vacc'] = X_train['dr_recc_seasonal_vacc'].astype('str')\n",
      "X_test['dr_recc_seasonal_vacc'] = X_test['dr_recc_seasonal_vacc'].astype('str')\n",
      "\n",
      "Number of null values in dr_recc_seasonal_vacc: 0 (0.0%)\n"
     ]
    },
    {
     "data": {
      "image/png": "[encoded data removed]",
      "text/plain": [
       "<Figure size 648x360 with 1 Axes>"
      ]
     },
     "metadata": {
      "needs_background": "light"
     },
     "output_type": "display_data"
    }
   ],
   "source": [
    "uni_var_analysis('dr_recc_seasonal_vacc', convert=True, fill_na=True)"
   ]
  },
  {
   "cell_type": "code",
   "execution_count": 79,
   "metadata": {},
   "outputs": [],
   "source": [
    "X_train['dr_recc_seasonal_vacc'] = X_train['dr_recc_seasonal_vacc'].astype('str')\n",
    "X_test['dr_recc_seasonal_vacc'] = X_test['dr_recc_seasonal_vacc'].astype('str')"
   ]
  },
  {
   "cell_type": "code",
   "execution_count": 80,
   "metadata": {},
   "outputs": [
    {
     "name": "stdout",
     "output_type": "stream",
     "text": [
      "Bi-variate analysis of dr_recc_seasonal_vacc and h1n1_vaccine\n",
      "\n",
      "dr_recc_seasonal_vacc: Descriptions    The doctor has recommended seasonalflu vaccine - (0,1)\n",
      "Name: dr_recc_seasonal_vacc, dtype: object\n",
      "\n",
      "h1n1_vaccine: Descriptions    Dependent variable)Did the respondent received the h1n1 vaccine or not(1,0) - (Yes, No)\n",
      "Name: h1n1_vaccine, dtype: object\n",
      "\n",
      "Unique values in dr_recc_seasonal_vacc are : ['0.0' '1.0']\n",
      "\n",
      "Unique values in h1n1_vaccine are : [0 1]\n",
      "\n",
      "Value counts of dr_recc_seasonal_vacc: \n",
      " 0.0    14839\n",
      "1.0     6526\n",
      "Name: dr_recc_seasonal_vacc, dtype: int64 \n",
      "\n",
      "Value counts of h1n1_vaccine: \n",
      " 0    16821\n",
      "1     4544\n",
      "Name: h1n1_vaccine, dtype: int64 \n",
      "\n",
      "\n",
      "\n",
      "Chi square test between dr_recc_seasonal_vacc and h1n1_vaccine\n",
      "\n",
      "Ho:  There is no significant assosiation betweeen dr_recc_seasonal_vacc and h1n1_vaccine\n",
      "Ha:  There is relation between dr_recc_seasonal_vacc and h1n1_vaccine\n",
      "\n",
      "\n",
      "h1n1_vaccine               0     1    All\n",
      "dr_recc_seasonal_vacc                    \n",
      "0.0                    12570  2269  14839\n",
      "1.0                     4251  2275   6526\n",
      "All                    16821  4544  21365\n",
      "\n",
      "\n",
      "chi-square stats:  1035.490604166889\n",
      "p-value:  3.4675349925892058e-227\n",
      "\n",
      "\n",
      "Reject null hypothesis,  There is relation between dr_recc_seasonal_vacc and h1n1_vaccine\n",
      "\n",
      "\n",
      ">>> dr_recc_seasonal_vacc can be useful\n"
     ]
    }
   ],
   "source": [
    "bi_var_analysis('dr_recc_seasonal_vacc')"
   ]
  },
  {
   "cell_type": "markdown",
   "metadata": {},
   "source": [
    "#### chronic_medic_condition"
   ]
  },
  {
   "cell_type": "code",
   "execution_count": 81,
   "metadata": {},
   "outputs": [
    {
     "name": "stdout",
     "output_type": "stream",
     "text": [
      "Analysis of chronic_medic_condition\n",
      "\n",
      "Descriptions    Has any chronic medical condition - (0,1)\n",
      "Name: chronic_medic_condition, dtype: object \n",
      "\n",
      "Value counts of chronic_medic_condition: \n",
      " 0.0    14728\n",
      "1.0     5866\n",
      "Name: chronic_medic_condition, dtype: int64 \n",
      "\n",
      "!!!!Warning!!!!! Use these codes in a new cell\n",
      "X_train['chronic_medic_condition'] = X_train['chronic_medic_condition'].astype('str')\n",
      "X_test['chronic_medic_condition'] = X_test['chronic_medic_condition'].astype('str')\n",
      "\n",
      "Number of null values in chronic_medic_condition: 0 (0.0%)\n"
     ]
    },
    {
     "data": {
      "image/png": "[encoded data removed]",
      "text/plain": [
       "<Figure size 648x360 with 1 Axes>"
      ]
     },
     "metadata": {
      "needs_background": "light"
     },
     "output_type": "display_data"
    }
   ],
   "source": [
    "uni_var_analysis('chronic_medic_condition', convert=True, fill_na=True)"
   ]
  },
  {
   "cell_type": "code",
   "execution_count": 82,
   "metadata": {},
   "outputs": [],
   "source": [
    "X_train['chronic_medic_condition'] = X_train['chronic_medic_condition'].astype('str')\n",
    "X_test['chronic_medic_condition'] = X_test['chronic_medic_condition'].astype('str')"
   ]
  },
  {
   "cell_type": "code",
   "execution_count": 83,
   "metadata": {},
   "outputs": [
    {
     "name": "stdout",
     "output_type": "stream",
     "text": [
      "Bi-variate analysis of chronic_medic_condition and h1n1_vaccine\n",
      "\n",
      "chronic_medic_condition: Descriptions    Has any chronic medical condition - (0,1)\n",
      "Name: chronic_medic_condition, dtype: object\n",
      "\n",
      "h1n1_vaccine: Descriptions    Dependent variable)Did the respondent received the h1n1 vaccine or not(1,0) - (Yes, No)\n",
      "Name: h1n1_vaccine, dtype: object\n",
      "\n",
      "Unique values in chronic_medic_condition are : ['1.0' '0.0']\n",
      "\n",
      "Unique values in h1n1_vaccine are : [0 1]\n",
      "\n",
      "Value counts of chronic_medic_condition: \n",
      " 0.0    15499\n",
      "1.0     5866\n",
      "Name: chronic_medic_condition, dtype: int64 \n",
      "\n",
      "Value counts of h1n1_vaccine: \n",
      " 0    16821\n",
      "1     4544\n",
      "Name: h1n1_vaccine, dtype: int64 \n",
      "\n",
      "\n",
      "\n",
      "Chi square test between chronic_medic_condition and h1n1_vaccine\n",
      "\n",
      "Ho:  There is no significant assosiation betweeen chronic_medic_condition and h1n1_vaccine\n",
      "Ha:  There is relation between chronic_medic_condition and h1n1_vaccine\n",
      "\n",
      "\n",
      "h1n1_vaccine                 0     1    All\n",
      "chronic_medic_condition                    \n",
      "0.0                      12561  2938  15499\n",
      "1.0                       4260  1606   5866\n",
      "All                      16821  4544  21365\n",
      "\n",
      "\n",
      "chi-square stats:  179.7551950523062\n",
      "p-value:  5.481145935160414e-41\n",
      "\n",
      "\n",
      "Reject null hypothesis,  There is relation between chronic_medic_condition and h1n1_vaccine\n",
      "\n",
      "\n",
      ">>> chronic_medic_condition can be useful\n"
     ]
    }
   ],
   "source": [
    "bi_var_analysis('chronic_medic_condition')"
   ]
  },
  {
   "cell_type": "markdown",
   "metadata": {},
   "source": [
    "#### cont_child_undr_6_mnths"
   ]
  },
  {
   "cell_type": "code",
   "execution_count": 84,
   "metadata": {},
   "outputs": [
    {
     "name": "stdout",
     "output_type": "stream",
     "text": [
      "Analysis of cont_child_undr_6_mnths\n",
      "\n",
      "Value counts of cont_child_undr_6_mnths: \n",
      " 0.0    19009\n",
      "1.0     1701\n",
      "Name: cont_child_undr_6_mnths, dtype: int64 \n",
      "\n",
      "!!!!Warning!!!!! Use these codes in a new cell\n",
      "X_train['cont_child_undr_6_mnths'] = X_train['cont_child_undr_6_mnths'].astype('str')\n",
      "X_test['cont_child_undr_6_mnths'] = X_test['cont_child_undr_6_mnths'].astype('str')\n",
      "\n",
      "Number of null values in cont_child_undr_6_mnths: 0 (0.0%)\n"
     ]
    },
    {
     "data": {
      "image/png": "[encoded data removed]",
      "text/plain": [
       "<Figure size 648x360 with 1 Axes>"
      ]
     },
     "metadata": {
      "needs_background": "light"
     },
     "output_type": "display_data"
    }
   ],
   "source": [
    "uni_var_analysis('cont_child_undr_6_mnths', convert=True, fill_na=True)"
   ]
  },
  {
   "cell_type": "code",
   "execution_count": 85,
   "metadata": {},
   "outputs": [],
   "source": [
    "X_train['cont_child_undr_6_mnths'] = X_train['cont_child_undr_6_mnths'].astype('str')\n",
    "X_test['cont_child_undr_6_mnths'] = X_test['cont_child_undr_6_mnths'].astype('str')"
   ]
  },
  {
   "cell_type": "code",
   "execution_count": 86,
   "metadata": {},
   "outputs": [
    {
     "name": "stdout",
     "output_type": "stream",
     "text": [
      "Bi-variate analysis of cont_child_undr_6_mnths and h1n1_vaccine\n",
      "\n",
      "Unique values in cont_child_undr_6_mnths are : ['0.0' '1.0']\n",
      "\n",
      "Unique values in h1n1_vaccine are : [0 1]\n",
      "\n",
      "Value counts of cont_child_undr_6_mnths: \n",
      " 0.0    19664\n",
      "1.0     1701\n",
      "Name: cont_child_undr_6_mnths, dtype: int64 \n",
      "\n",
      "Value counts of h1n1_vaccine: \n",
      " 0    16821\n",
      "1     4544\n",
      "Name: h1n1_vaccine, dtype: int64 \n",
      "\n",
      "\n",
      "\n",
      "Chi square test between cont_child_undr_6_mnths and h1n1_vaccine\n",
      "\n",
      "Ho:  There is no significant assosiation betweeen cont_child_undr_6_mnths and h1n1_vaccine\n",
      "Ha:  There is relation between cont_child_undr_6_mnths and h1n1_vaccine\n",
      "\n",
      "\n",
      "h1n1_vaccine                 0     1    All\n",
      "cont_child_undr_6_mnths                    \n",
      "0.0                      15642  4022  19664\n",
      "1.0                       1179   522   1701\n",
      "All                      16821  4544  21365\n",
      "\n",
      "\n",
      "chi-square stats:  97.31567412483128\n",
      "p-value:  5.911055157489597e-23\n",
      "\n",
      "\n",
      "Reject null hypothesis,  There is relation between cont_child_undr_6_mnths and h1n1_vaccine\n",
      "\n",
      "\n",
      ">>> cont_child_undr_6_mnths can be useful\n"
     ]
    }
   ],
   "source": [
    "bi_var_analysis('cont_child_undr_6_mnths')"
   ]
  },
  {
   "cell_type": "markdown",
   "metadata": {},
   "source": [
    "#### is_health_worker"
   ]
  },
  {
   "cell_type": "code",
   "execution_count": 87,
   "metadata": {},
   "outputs": [
    {
     "name": "stdout",
     "output_type": "stream",
     "text": [
      "Analysis of is_health_worker\n",
      "\n",
      "Descriptions    Is respondent a health worker - (0,1)\n",
      "Name: is_health_worker, dtype: object \n",
      "\n",
      "Value counts of is_health_worker: \n",
      " 0.0    18363\n",
      "1.0     2359\n",
      "Name: is_health_worker, dtype: int64 \n",
      "\n",
      "!!!!Warning!!!!! Use these codes in a new cell\n",
      "X_train['is_health_worker'] = X_train['is_health_worker'].astype('str')\n",
      "X_test['is_health_worker'] = X_test['is_health_worker'].astype('str')\n",
      "\n",
      "Number of null values in is_health_worker: 0 (0.0%)\n"
     ]
    },
    {
     "data": {
      "image/png": "[encoded data removed]",
      "text/plain": [
       "<Figure size 648x360 with 1 Axes>"
      ]
     },
     "metadata": {
      "needs_background": "light"
     },
     "output_type": "display_data"
    }
   ],
   "source": [
    "uni_var_analysis('is_health_worker', convert=True, fill_na=True)"
   ]
  },
  {
   "cell_type": "code",
   "execution_count": 88,
   "metadata": {},
   "outputs": [],
   "source": [
    "X_train['is_health_worker'] = X_train['is_health_worker'].astype('str')\n",
    "X_test['is_health_worker'] = X_test['is_health_worker'].astype('str')"
   ]
  },
  {
   "cell_type": "code",
   "execution_count": 89,
   "metadata": {},
   "outputs": [
    {
     "name": "stdout",
     "output_type": "stream",
     "text": [
      "Bi-variate analysis of is_health_worker and h1n1_vaccine\n",
      "\n",
      "is_health_worker: Descriptions    Is respondent a health worker - (0,1)\n",
      "Name: is_health_worker, dtype: object\n",
      "\n",
      "h1n1_vaccine: Descriptions    Dependent variable)Did the respondent received the h1n1 vaccine or not(1,0) - (Yes, No)\n",
      "Name: h1n1_vaccine, dtype: object\n",
      "\n",
      "Unique values in is_health_worker are : ['0.0' '1.0']\n",
      "\n",
      "Unique values in h1n1_vaccine are : [0 1]\n",
      "\n",
      "Value counts of is_health_worker: \n",
      " 0.0    19006\n",
      "1.0     2359\n",
      "Name: is_health_worker, dtype: int64 \n",
      "\n",
      "Value counts of h1n1_vaccine: \n",
      " 0    16821\n",
      "1     4544\n",
      "Name: h1n1_vaccine, dtype: int64 \n",
      "\n",
      "\n",
      "\n",
      "Chi square test between is_health_worker and h1n1_vaccine\n",
      "\n",
      "Ho:  There is no significant assosiation betweeen is_health_worker and h1n1_vaccine\n",
      "Ha:  There is relation between is_health_worker and h1n1_vaccine\n",
      "\n",
      "\n",
      "h1n1_vaccine          0     1    All\n",
      "is_health_worker                    \n",
      "0.0               15434  3572  19006\n",
      "1.0                1387   972   2359\n",
      "All               16821  4544  21365\n",
      "\n",
      "\n",
      "chi-square stats:  628.036331345425\n",
      "p-value:  1.3362949526092213e-138\n",
      "\n",
      "\n",
      "Reject null hypothesis,  There is relation between is_health_worker and h1n1_vaccine\n",
      "\n",
      "\n",
      ">>> is_health_worker can be useful\n"
     ]
    }
   ],
   "source": [
    "bi_var_analysis('is_health_worker')"
   ]
  },
  {
   "cell_type": "markdown",
   "metadata": {},
   "source": [
    "#### has_health_insur"
   ]
  },
  {
   "cell_type": "code",
   "execution_count": 90,
   "metadata": {},
   "outputs": [
    {
     "name": "stdout",
     "output_type": "stream",
     "text": [
      "Analysis of has_health_insur\n",
      "\n",
      "Descriptions    Does respondent have health insurance - (0,1)\n",
      "Name: has_health_insur, dtype: object \n",
      "\n",
      "Value counts of has_health_insur: \n",
      " 1.0              10120\n",
      "Not Available     9858\n",
      "0.0               1387\n",
      "Name: has_health_insur, dtype: int64 \n",
      "\n",
      "!!!!Warning!!!!! Use these codes in a new cell\n",
      "X_train['has_health_insur'] = X_train['has_health_insur'].astype('str')\n",
      "X_test['has_health_insur'] = X_test['has_health_insur'].astype('str')\n",
      "\n",
      "Number of null values in has_health_insur: 0 (0.0%)\n"
     ]
    },
    {
     "data": {
      "image/png": "[encoded data removed]",
      "text/plain": [
       "<Figure size 648x360 with 1 Axes>"
      ]
     },
     "metadata": {
      "needs_background": "light"
     },
     "output_type": "display_data"
    }
   ],
   "source": [
    "uni_var_analysis('has_health_insur', convert=True)"
   ]
  },
  {
   "cell_type": "code",
   "execution_count": 91,
   "metadata": {},
   "outputs": [],
   "source": [
    "X_train['has_health_insur'] = X_train['has_health_insur'].astype('str')\n",
    "X_test['has_health_insur'] = X_test['has_health_insur'].astype('str')"
   ]
  },
  {
   "cell_type": "code",
   "execution_count": 92,
   "metadata": {},
   "outputs": [
    {
     "name": "stdout",
     "output_type": "stream",
     "text": [
      "Bi-variate analysis of has_health_insur and h1n1_vaccine\n",
      "\n",
      "has_health_insur: Descriptions    Does respondent have health insurance - (0,1)\n",
      "Name: has_health_insur, dtype: object\n",
      "\n",
      "h1n1_vaccine: Descriptions    Dependent variable)Did the respondent received the h1n1 vaccine or not(1,0) - (Yes, No)\n",
      "Name: h1n1_vaccine, dtype: object\n",
      "\n",
      "Unique values in has_health_insur are : ['0.0' 'Not Available' '1.0']\n",
      "\n",
      "Unique values in h1n1_vaccine are : [0 1]\n",
      "\n",
      "Value counts of has_health_insur: \n",
      " 1.0              10120\n",
      "Not Available     9858\n",
      "0.0               1387\n",
      "Name: has_health_insur, dtype: int64 \n",
      "\n",
      "Value counts of h1n1_vaccine: \n",
      " 0    16821\n",
      "1     4544\n",
      "Name: h1n1_vaccine, dtype: int64 \n",
      "\n",
      "\n",
      "\n",
      "Chi square test between has_health_insur and h1n1_vaccine\n",
      "\n",
      "Ho:  There is no significant assosiation betweeen has_health_insur and h1n1_vaccine\n",
      "Ha:  There is relation between has_health_insur and h1n1_vaccine\n",
      "\n",
      "\n",
      "h1n1_vaccine          0     1    All\n",
      "has_health_insur                    \n",
      "0.0                1183   204   1387\n",
      "1.0                6898  3222  10120\n",
      "Not Available      8740  1118   9858\n",
      "All               16821  4544  21365\n",
      "\n",
      "\n",
      "chi-square stats:  1291.004608239898\n",
      "p-value:  4.591041989986564e-281\n",
      "\n",
      "\n",
      "Reject null hypothesis,  There is relation between has_health_insur and h1n1_vaccine\n",
      "\n",
      "\n",
      ">>> has_health_insur can be useful\n"
     ]
    }
   ],
   "source": [
    "bi_var_analysis('has_health_insur')"
   ]
  },
  {
   "cell_type": "markdown",
   "metadata": {},
   "source": [
    "#### is_h1n1_vacc_effective"
   ]
  },
  {
   "cell_type": "code",
   "execution_count": 93,
   "metadata": {
    "scrolled": false
   },
   "outputs": [
    {
     "name": "stdout",
     "output_type": "stream",
     "text": [
      "Analysis of is_h1n1_vacc_effective\n",
      "\n",
      "Descriptions    Does respondent think that the h1n1 vaccine is effective - (1,2,3,4,5)- (1=Thinks not effective at all, 2=Thinks it is not very effective, 3=Doesn't know if it is effective or not, 4=Thinks it is somewhat effective, 5=Thinks it is highly effective)\n",
      "Name: is_h1n1_vacc_effective, dtype: object \n",
      "\n",
      "Value counts of is_h1n1_vacc_effective: \n",
      " 4.0    9359\n",
      "5.0    5715\n",
      "3.0    3777\n",
      "2.0    1470\n",
      "1.0     726\n",
      "Name: is_h1n1_vacc_effective, dtype: int64 \n",
      "\n",
      "Values in is_h1n1_vacc_effective can be of Ordinal level. So we can treat it as continuous.\n",
      "Number of null values in is_h1n1_vacc_effective: 0 (0.0%)\n",
      "\n",
      "Total number of outliers in {col_name}:  42730\n"
     ]
    },
    {
     "data": {
      "image/png": "[encoded data removed]",
      "text/plain": [
       "<Figure size 648x432 with 1 Axes>"
      ]
     },
     "metadata": {
      "needs_background": "light"
     },
     "output_type": "display_data"
    },
    {
     "data": {
      "image/png": "[encoded data removed]",
      "text/plain": [
       "<Figure size 648x360 with 1 Axes>"
      ]
     },
     "metadata": {
      "needs_background": "light"
     },
     "output_type": "display_data"
    }
   ],
   "source": [
    "uni_var_analysis('is_h1n1_vacc_effective',convert=True, fill_na=True)"
   ]
  },
  {
   "cell_type": "code",
   "execution_count": 94,
   "metadata": {},
   "outputs": [
    {
     "name": "stdout",
     "output_type": "stream",
     "text": [
      "Bi-variate analysis of is_h1n1_vacc_effective and h1n1_vaccine\n",
      "\n",
      "is_h1n1_vacc_effective: Descriptions    Does respondent think that the h1n1 vaccine is effective - (1,2,3,4,5)- (1=Thinks not effective at all, 2=Thinks it is not very effective, 3=Doesn't know if it is effective or not, 4=Thinks it is somewhat effective, 5=Thinks it is highly effective)\n",
      "Name: is_h1n1_vacc_effective, dtype: object\n",
      "\n",
      "h1n1_vaccine: Descriptions    Dependent variable)Did the respondent received the h1n1 vaccine or not(1,0) - (Yes, No)\n",
      "Name: h1n1_vaccine, dtype: object\n",
      "\n",
      "Unique values in h1n1_vaccine are : [0 1]\n",
      "\n",
      "\n",
      "\n",
      "Ho:  There is no significant association between h1n1_vaccine and is_h1n1_vacc_effective\n",
      "Ha:  There is a significant difference between the levels of h1n1_vaccine with respect to is_h1n1_vacc_effective mean\n",
      "\n",
      "\n",
      "Test Results\n",
      "\n",
      "\n",
      "Test statistics:  -40.464169278624276\n",
      "p-value:  0.0 \n",
      "\n",
      "Reject null hypothesis,  There is a significant difference between the levels of h1n1_vaccine with respect to is_h1n1_vacc_effective mean\n",
      "\n",
      "\n",
      ">>> is_h1n1_vacc_effective can be useful\n"
     ]
    }
   ],
   "source": [
    "bi_var_analysis('is_h1n1_vacc_effective')"
   ]
  },
  {
   "cell_type": "markdown",
   "metadata": {},
   "source": [
    "#### is_h1n1_risky"
   ]
  },
  {
   "cell_type": "code",
   "execution_count": 95,
   "metadata": {},
   "outputs": [
    {
     "name": "stdout",
     "output_type": "stream",
     "text": [
      "Analysis of is_h1n1_risky\n",
      "\n",
      "Descriptions    What respondents think about the risk of getting ill with h1n1 in the absence of the vaccine- (1,2,3,4,5)- (1=Thinks it is not very low risk, 2=Thinks it is somewhat low risk, 3=don’t know if it is risky or not, 4=Thinks it is a somewhat high risk, 5=Thinks it is very highly risky)\n",
      "Name: is_h1n1_risky, dtype: object \n",
      "\n",
      "Value counts of is_h1n1_risky: \n",
      " 2.0    7919\n",
      "1.0    6507\n",
      "4.0    4332\n",
      "5.0    1413\n",
      "3.0     883\n",
      "Name: is_h1n1_risky, dtype: int64 \n",
      "\n",
      "Values in is_h1n1_risky can be of Ordinal level. So we can treat it as continuous.\n",
      "Number of null values in is_h1n1_risky: 0 (0.0%)\n",
      "\n",
      "Total number of outliers in {col_name}:  42730\n"
     ]
    },
    {
     "data": {
      "image/png": "[encoded data removed]",
      "text/plain": [
       "<Figure size 648x432 with 1 Axes>"
      ]
     },
     "metadata": {
      "needs_background": "light"
     },
     "output_type": "display_data"
    },
    {
     "data": {
      "image/png": "[encoded data removed]",
      "text/plain": [
       "<Figure size 648x360 with 1 Axes>"
      ]
     },
     "metadata": {
      "needs_background": "light"
     },
     "output_type": "display_data"
    }
   ],
   "source": [
    "uni_var_analysis('is_h1n1_risky',convert=True, fill_na=True)"
   ]
  },
  {
   "cell_type": "code",
   "execution_count": null,
   "metadata": {},
   "outputs": [],
   "source": []
  },
  {
   "cell_type": "code",
   "execution_count": 96,
   "metadata": {},
   "outputs": [
    {
     "name": "stdout",
     "output_type": "stream",
     "text": [
      "Bi-variate analysis of is_h1n1_risky and h1n1_vaccine\n",
      "\n",
      "is_h1n1_risky: Descriptions    What respondents think about the risk of getting ill with h1n1 in the absence of the vaccine- (1,2,3,4,5)- (1=Thinks it is not very low risk, 2=Thinks it is somewhat low risk, 3=don’t know if it is risky or not, 4=Thinks it is a somewhat high risk, 5=Thinks it is very highly risky)\n",
      "Name: is_h1n1_risky, dtype: object\n",
      "\n",
      "h1n1_vaccine: Descriptions    Dependent variable)Did the respondent received the h1n1 vaccine or not(1,0) - (Yes, No)\n",
      "Name: h1n1_vaccine, dtype: object\n",
      "\n",
      "Unique values in h1n1_vaccine are : [0 1]\n",
      "\n",
      "\n",
      "\n",
      "Ho:  There is no significant association between h1n1_vaccine and is_h1n1_risky\n",
      "Ha:  There is a significant difference between the levels of h1n1_vaccine with respect to is_h1n1_risky mean\n",
      "\n",
      "\n",
      "Test Results\n",
      "\n",
      "\n",
      "Test statistics:  -49.14295220321506\n",
      "p-value:  0.0 \n",
      "\n",
      "Reject null hypothesis,  There is a significant difference between the levels of h1n1_vaccine with respect to is_h1n1_risky mean\n",
      "\n",
      "\n",
      ">>> is_h1n1_risky can be useful\n"
     ]
    }
   ],
   "source": [
    "bi_var_analysis('is_h1n1_risky')"
   ]
  },
  {
   "cell_type": "markdown",
   "metadata": {},
   "source": [
    "#### sick_from_h1n1_vacc"
   ]
  },
  {
   "cell_type": "code",
   "execution_count": 97,
   "metadata": {},
   "outputs": [
    {
     "name": "stdout",
     "output_type": "stream",
     "text": [
      "Analysis of sick_from_h1n1_vacc\n",
      "\n",
      "Descriptions    Does respondent worry about getting sick by taking the h1n1 vaccine - (1,2,3,4,5)- (1=Respondent not worried at all, 2=Respondent is not very worried, 3=Doesn't know, 4=Respondent is somewhat worried, 5Respondent is very worried) -\n",
      "Name: sick_from_h1n1_vacc, dtype: object \n",
      "\n",
      "Value counts of sick_from_h1n1_vacc: \n",
      " 2.0    7309\n",
      "1.0    7166\n",
      "4.0    4694\n",
      "5.0    1752\n",
      "3.0     123\n",
      "Name: sick_from_h1n1_vacc, dtype: int64 \n",
      "\n",
      "Values in sick_from_h1n1_vacc can be of Ordinal level. So we can treat it as continuous.\n",
      "Number of null values in sick_from_h1n1_vacc: 0 (0.0%)\n",
      "\n",
      "Total number of outliers in {col_name}:  42730\n"
     ]
    },
    {
     "data": {
      "image/png": "[encoded data removed]",
      "text/plain": [
       "<Figure size 648x432 with 1 Axes>"
      ]
     },
     "metadata": {
      "needs_background": "light"
     },
     "output_type": "display_data"
    },
    {
     "data": {
      "image/png": "[encoded data removed]",
      "text/plain": [
       "<Figure size 648x360 with 1 Axes>"
      ]
     },
     "metadata": {
      "needs_background": "light"
     },
     "output_type": "display_data"
    }
   ],
   "source": [
    "uni_var_analysis('sick_from_h1n1_vacc', convert=True, fill_na=True)"
   ]
  },
  {
   "cell_type": "code",
   "execution_count": 98,
   "metadata": {},
   "outputs": [
    {
     "name": "stdout",
     "output_type": "stream",
     "text": [
      "Bi-variate analysis of sick_from_h1n1_vacc and h1n1_vaccine\n",
      "\n",
      "sick_from_h1n1_vacc: Descriptions    Does respondent worry about getting sick by taking the h1n1 vaccine - (1,2,3,4,5)- (1=Respondent not worried at all, 2=Respondent is not very worried, 3=Doesn't know, 4=Respondent is somewhat worried, 5Respondent is very worried) -\n",
      "Name: sick_from_h1n1_vacc, dtype: object\n",
      "\n",
      "h1n1_vaccine: Descriptions    Dependent variable)Did the respondent received the h1n1 vaccine or not(1,0) - (Yes, No)\n",
      "Name: h1n1_vaccine, dtype: object\n",
      "\n",
      "Unique values in h1n1_vaccine are : [0 1]\n",
      "\n",
      "\n",
      "\n",
      "Ho:  There is no significant association between h1n1_vaccine and sick_from_h1n1_vacc\n",
      "Ha:  There is a significant difference between the levels of h1n1_vaccine with respect to sick_from_h1n1_vacc mean\n",
      "\n",
      "\n",
      "Test Results\n",
      "\n",
      "\n",
      "Test statistics:  -10.171522611504567\n",
      "p-value:  3.0178506127383473e-24 \n",
      "\n",
      "Reject null hypothesis,  There is a significant difference between the levels of h1n1_vaccine with respect to sick_from_h1n1_vacc mean\n",
      "\n",
      "\n",
      ">>> sick_from_h1n1_vacc can be useful\n"
     ]
    }
   ],
   "source": [
    "bi_var_analysis('sick_from_h1n1_vacc')"
   ]
  },
  {
   "cell_type": "markdown",
   "metadata": {},
   "source": [
    "#### is_seas_vacc_effective"
   ]
  },
  {
   "cell_type": "code",
   "execution_count": 99,
   "metadata": {},
   "outputs": [
    {
     "name": "stdout",
     "output_type": "stream",
     "text": [
      "Analysis of is_seas_vacc_effective\n",
      "\n",
      "Descriptions    Does respondent think that the seasonal vaccine is effective- (1,2,3,4,5)- (1=Thinks not effective at all, 2=Thinks it is not very effective, 3=Doesn't know if it is effective or not, 4=Thinks it is somewhat effective, 5=Thinks it is highly effective)\n",
      "Name: is_seas_vacc_effective, dtype: object \n",
      "\n",
      "Value counts of is_seas_vacc_effective: \n",
      " 4.0    9319\n",
      "5.0    7987\n",
      "2.0    1783\n",
      "3.0     957\n",
      "1.0     948\n",
      "Name: is_seas_vacc_effective, dtype: int64 \n",
      "\n",
      "Values in is_seas_vacc_effective can be of Ordinal level. So we can treat it as continuous.\n",
      "Number of null values in is_seas_vacc_effective: 0 (0.0%)\n",
      "\n",
      "Total number of outliers in {col_name}:  42730\n"
     ]
    },
    {
     "data": {
      "image/png": "[encoded data removed]",
      "text/plain": [
       "<Figure size 648x432 with 1 Axes>"
      ]
     },
     "metadata": {
      "needs_background": "light"
     },
     "output_type": "display_data"
    },
    {
     "data": {
      "image/png": "[encoded data removed]",
      "text/plain": [
       "<Figure size 648x360 with 1 Axes>"
      ]
     },
     "metadata": {
      "needs_background": "light"
     },
     "output_type": "display_data"
    }
   ],
   "source": [
    "uni_var_analysis('is_seas_vacc_effective', convert=True, fill_na=True)"
   ]
  },
  {
   "cell_type": "code",
   "execution_count": null,
   "metadata": {},
   "outputs": [],
   "source": []
  },
  {
   "cell_type": "code",
   "execution_count": 100,
   "metadata": {},
   "outputs": [
    {
     "name": "stdout",
     "output_type": "stream",
     "text": [
      "Bi-variate analysis of is_seas_vacc_effective and h1n1_vaccine\n",
      "\n",
      "is_seas_vacc_effective: Descriptions    Does respondent think that the seasonal vaccine is effective- (1,2,3,4,5)- (1=Thinks not effective at all, 2=Thinks it is not very effective, 3=Doesn't know if it is effective or not, 4=Thinks it is somewhat effective, 5=Thinks it is highly effective)\n",
      "Name: is_seas_vacc_effective, dtype: object\n",
      "\n",
      "h1n1_vaccine: Descriptions    Dependent variable)Did the respondent received the h1n1 vaccine or not(1,0) - (Yes, No)\n",
      "Name: h1n1_vaccine, dtype: object\n",
      "\n",
      "Unique values in h1n1_vaccine are : [0 1]\n",
      "\n",
      "\n",
      "\n",
      "Ho:  There is no significant association between h1n1_vaccine and is_seas_vacc_effective\n",
      "Ha:  There is a significant difference between the levels of h1n1_vaccine with respect to is_seas_vacc_effective mean\n",
      "\n",
      "\n",
      "Test Results\n",
      "\n",
      "\n",
      "Test statistics:  -26.579707134873775\n",
      "p-value:  3.5938770746218705e-153 \n",
      "\n",
      "Reject null hypothesis,  There is a significant difference between the levels of h1n1_vaccine with respect to is_seas_vacc_effective mean\n",
      "\n",
      "\n",
      ">>> is_seas_vacc_effective can be useful\n"
     ]
    }
   ],
   "source": [
    "bi_var_analysis('is_seas_vacc_effective')"
   ]
  },
  {
   "cell_type": "markdown",
   "metadata": {},
   "source": [
    "#### is_seas_risky"
   ]
  },
  {
   "cell_type": "code",
   "execution_count": 101,
   "metadata": {},
   "outputs": [
    {
     "name": "stdout",
     "output_type": "stream",
     "text": [
      "Analysis of is_seas_risky\n",
      "\n",
      "Value counts of is_seas_risky: \n",
      " 2.0    7167\n",
      "4.0    6104\n",
      "1.0    4764\n",
      "5.0    2383\n",
      "3.0     537\n",
      "Name: is_seas_risky, dtype: int64 \n",
      "\n",
      "Values in is_seas_risky can be of Ordinal level. So we can treat it as continuous.\n",
      "Number of null values in is_seas_risky: 0 (0.0%)\n",
      "\n",
      "Total number of outliers in {col_name}:  42730\n"
     ]
    },
    {
     "data": {
      "image/png": "[encoded data removed]",
      "text/plain": [
       "<Figure size 648x432 with 1 Axes>"
      ]
     },
     "metadata": {
      "needs_background": "light"
     },
     "output_type": "display_data"
    },
    {
     "data": {
      "image/png": "[encoded data removed]",
      "text/plain": [
       "<Figure size 648x360 with 1 Axes>"
      ]
     },
     "metadata": {
      "needs_background": "light"
     },
     "output_type": "display_data"
    }
   ],
   "source": [
    "uni_var_analysis('is_seas_risky', convert=True, fill_na=True)"
   ]
  },
  {
   "cell_type": "code",
   "execution_count": 102,
   "metadata": {},
   "outputs": [
    {
     "name": "stdout",
     "output_type": "stream",
     "text": [
      "Bi-variate analysis of is_seas_risky and h1n1_vaccine\n",
      "\n",
      "Unique values in h1n1_vaccine are : [0 1]\n",
      "\n",
      "\n",
      "\n",
      "Ho:  There is no significant association between h1n1_vaccine and is_seas_risky\n",
      "Ha:  There is a significant difference between the levels of h1n1_vaccine with respect to is_seas_risky mean\n",
      "\n",
      "\n",
      "Test Results\n",
      "\n",
      "\n",
      "Test statistics:  -38.87548231640466\n",
      "p-value:  0.0 \n",
      "\n",
      "Reject null hypothesis,  There is a significant difference between the levels of h1n1_vaccine with respect to is_seas_risky mean\n",
      "\n",
      "\n",
      ">>> is_seas_risky can be useful\n"
     ]
    }
   ],
   "source": [
    "bi_var_analysis('is_seas_risky')"
   ]
  },
  {
   "cell_type": "markdown",
   "metadata": {},
   "source": [
    "#### sick_from_seas_vacc"
   ]
  },
  {
   "cell_type": "code",
   "execution_count": 103,
   "metadata": {},
   "outputs": [
    {
     "name": "stdout",
     "output_type": "stream",
     "text": [
      "Analysis of sick_from_seas_vacc\n",
      "\n",
      "Descriptions    Does respondent worry about getting sick by taking the seasonal flu vaccine - (1,2,3,4,5)- (1=Respondent not worried at all, 2=Respondent is not very worried, 3=Doesn't know, 4=Respondent is somewhat worried, 5Respondent is very worried)\n",
      "Name: sick_from_seas_vacc, dtype: object \n",
      "\n",
      "Value counts of sick_from_seas_vacc: \n",
      " 1.0    9464\n",
      "2.0    6137\n",
      "4.0    3852\n",
      "5.0    1409\n",
      "3.0      72\n",
      "Name: sick_from_seas_vacc, dtype: int64 \n",
      "\n",
      "Values in sick_from_seas_vacc can be of Ordinal level. So we can treat it as continuous.\n",
      "Number of null values in sick_from_seas_vacc: 0 (0.0%)\n",
      "\n",
      "Total number of outliers in {col_name}:  42730\n"
     ]
    },
    {
     "data": {
      "image/png": "[encoded data removed]",
      "text/plain": [
       "<Figure size 648x432 with 1 Axes>"
      ]
     },
     "metadata": {
      "needs_background": "light"
     },
     "output_type": "display_data"
    },
    {
     "data": {
      "image/png": "[encoded data removed]",
      "text/plain": [
       "<Figure size 648x360 with 1 Axes>"
      ]
     },
     "metadata": {
      "needs_background": "light"
     },
     "output_type": "display_data"
    }
   ],
   "source": [
    "uni_var_analysis('sick_from_seas_vacc', convert=True, fill_na=True)"
   ]
  },
  {
   "cell_type": "code",
   "execution_count": null,
   "metadata": {},
   "outputs": [],
   "source": []
  },
  {
   "cell_type": "code",
   "execution_count": 104,
   "metadata": {},
   "outputs": [
    {
     "name": "stdout",
     "output_type": "stream",
     "text": [
      "Bi-variate analysis of sick_from_seas_vacc and h1n1_vaccine\n",
      "\n",
      "sick_from_seas_vacc: Descriptions    Does respondent worry about getting sick by taking the seasonal flu vaccine - (1,2,3,4,5)- (1=Respondent not worried at all, 2=Respondent is not very worried, 3=Doesn't know, 4=Respondent is somewhat worried, 5Respondent is very worried)\n",
      "Name: sick_from_seas_vacc, dtype: object\n",
      "\n",
      "h1n1_vaccine: Descriptions    Dependent variable)Did the respondent received the h1n1 vaccine or not(1,0) - (Yes, No)\n",
      "Name: h1n1_vaccine, dtype: object\n",
      "\n",
      "Unique values in h1n1_vaccine are : [0 1]\n",
      "\n",
      "\n",
      "\n",
      "Ho:  There is no significant association between h1n1_vaccine and sick_from_seas_vacc\n",
      "Ha:  There is a significant difference between the levels of h1n1_vaccine with respect to sick_from_seas_vacc mean\n",
      "\n",
      "\n",
      "Test Results\n",
      "\n",
      "\n",
      "Test statistics:  -0.19672057362766918\n",
      "p-value:  0.8440480805914427 \n",
      "\n",
      "Fail to reject null hypothesis,  There is no significant association between h1n1_vaccine and sick_from_seas_vacc\n",
      "\n",
      "\n",
      ">>> Drop sick_from_seas_vacc\n"
     ]
    }
   ],
   "source": [
    "bi_var_analysis('sick_from_seas_vacc')"
   ]
  },
  {
   "cell_type": "code",
   "execution_count": 105,
   "metadata": {},
   "outputs": [],
   "source": [
    "X_train.drop('sick_from_seas_vacc', axis=1, inplace=True)\n",
    "X_test.drop('sick_from_seas_vacc', axis=1, inplace=True)"
   ]
  },
  {
   "cell_type": "markdown",
   "metadata": {},
   "source": [
    "#### age_bracket"
   ]
  },
  {
   "cell_type": "code",
   "execution_count": 106,
   "metadata": {},
   "outputs": [
    {
     "name": "stdout",
     "output_type": "stream",
     "text": [
      "Analysis of age_bracket\n",
      "\n",
      "Descriptions    Age bracket of the respondent - (18 - 34 Years, 35 - 44 Years, 45 - 54 Years, 55 - 64 Years, 64+ Years)\n",
      "Name: age_bracket, dtype: object \n",
      "\n",
      "Value counts of age_bracket: \n",
      " 65+ Years        5454\n",
      "55 - 64 Years    4461\n",
      "18 - 34 Years    4212\n",
      "45 - 54 Years    4184\n",
      "35 - 44 Years    3054\n",
      "Name: age_bracket, dtype: int64 \n",
      "\n",
      "Number of null values in age_bracket: 0 (0.0%)\n"
     ]
    },
    {
     "data": {
      "image/png": "[encoded data removed]",
      "text/plain": [
       "<Figure size 648x360 with 1 Axes>"
      ]
     },
     "metadata": {
      "needs_background": "light"
     },
     "output_type": "display_data"
    }
   ],
   "source": [
    "uni_var_analysis('age_bracket')"
   ]
  },
  {
   "cell_type": "code",
   "execution_count": null,
   "metadata": {},
   "outputs": [],
   "source": []
  },
  {
   "cell_type": "code",
   "execution_count": 107,
   "metadata": {},
   "outputs": [
    {
     "name": "stdout",
     "output_type": "stream",
     "text": [
      "Bi-variate analysis of age_bracket and h1n1_vaccine\n",
      "\n",
      "age_bracket: Descriptions    Age bracket of the respondent - (18 - 34 Years, 35 - 44 Years, 45 - 54 Years, 55 - 64 Years, 64+ Years)\n",
      "Name: age_bracket, dtype: object\n",
      "\n",
      "h1n1_vaccine: Descriptions    Dependent variable)Did the respondent received the h1n1 vaccine or not(1,0) - (Yes, No)\n",
      "Name: h1n1_vaccine, dtype: object\n",
      "\n",
      "Unique values in age_bracket are : ['45 - 54 Years' '35 - 44 Years' '65+ Years' '55 - 64 Years'\n",
      " '18 - 34 Years']\n",
      "\n",
      "Unique values in h1n1_vaccine are : [0 1]\n",
      "\n",
      "Value counts of age_bracket: \n",
      " 65+ Years        5454\n",
      "55 - 64 Years    4461\n",
      "18 - 34 Years    4212\n",
      "45 - 54 Years    4184\n",
      "35 - 44 Years    3054\n",
      "Name: age_bracket, dtype: int64 \n",
      "\n",
      "Value counts of h1n1_vaccine: \n",
      " 0    16821\n",
      "1     4544\n",
      "Name: h1n1_vaccine, dtype: int64 \n",
      "\n",
      "\n",
      "\n",
      "Chi square test between age_bracket and h1n1_vaccine\n",
      "\n",
      "Ho:  There is no significant assosiation betweeen age_bracket and h1n1_vaccine\n",
      "Ha:  There is relation between age_bracket and h1n1_vaccine\n",
      "\n",
      "\n",
      "h1n1_vaccine       0     1    All\n",
      "age_bracket                      \n",
      "18 - 34 Years   3418   794   4212\n",
      "35 - 44 Years   2451   603   3054\n",
      "45 - 54 Years   3362   822   4184\n",
      "55 - 64 Years   3387  1074   4461\n",
      "65+ Years       4203  1251   5454\n",
      "All            16821  4544  21365\n",
      "\n",
      "\n",
      "chi-square stats:  55.57172203913443\n",
      "p-value:  2.4656595389328208e-11\n",
      "\n",
      "\n",
      "Reject null hypothesis,  There is relation between age_bracket and h1n1_vaccine\n",
      "\n",
      "\n",
      ">>> age_bracket can be useful\n"
     ]
    }
   ],
   "source": [
    "bi_var_analysis('age_bracket')"
   ]
  },
  {
   "cell_type": "markdown",
   "metadata": {},
   "source": [
    "#### qualification"
   ]
  },
  {
   "cell_type": "code",
   "execution_count": 108,
   "metadata": {},
   "outputs": [
    {
     "name": "stdout",
     "output_type": "stream",
     "text": [
      "Analysis of qualification\n",
      "\n",
      "Descriptions    Qualification/education level of the respondent as per their response -(<12 Years, 12 Years, College Graduate, Some College)\n",
      "Name: qualification, dtype: object \n",
      "\n",
      "Value counts of qualification: \n",
      " College Graduate    8063\n",
      "Some College        5666\n",
      "12 Years            4636\n",
      "< 12 Years          1875\n",
      "Name: qualification, dtype: int64 \n",
      "\n",
      "Number of null values in qualification: 0 (0.0%)\n"
     ]
    },
    {
     "data": {
      "image/png": "[encoded data removed]",
      "text/plain": [
       "<Figure size 648x360 with 1 Axes>"
      ]
     },
     "metadata": {
      "needs_background": "light"
     },
     "output_type": "display_data"
    }
   ],
   "source": [
    "uni_var_analysis('qualification', fill_na=True)"
   ]
  },
  {
   "cell_type": "code",
   "execution_count": null,
   "metadata": {},
   "outputs": [],
   "source": []
  },
  {
   "cell_type": "code",
   "execution_count": 109,
   "metadata": {},
   "outputs": [
    {
     "name": "stdout",
     "output_type": "stream",
     "text": [
      "Bi-variate analysis of qualification and h1n1_vaccine\n",
      "\n",
      "qualification: Descriptions    Qualification/education level of the respondent as per their response -(<12 Years, 12 Years, College Graduate, Some College)\n",
      "Name: qualification, dtype: object\n",
      "\n",
      "h1n1_vaccine: Descriptions    Dependent variable)Did the respondent received the h1n1 vaccine or not(1,0) - (Yes, No)\n",
      "Name: h1n1_vaccine, dtype: object\n",
      "\n",
      "Unique values in qualification are : ['Some College' 'College Graduate' '12 Years' '< 12 Years']\n",
      "\n",
      "Unique values in h1n1_vaccine are : [0 1]\n",
      "\n",
      "Value counts of qualification: \n",
      " College Graduate    9188\n",
      "Some College        5666\n",
      "12 Years            4636\n",
      "< 12 Years          1875\n",
      "Name: qualification, dtype: int64 \n",
      "\n",
      "Value counts of h1n1_vaccine: \n",
      " 0    16821\n",
      "1     4544\n",
      "Name: h1n1_vaccine, dtype: int64 \n",
      "\n",
      "\n",
      "\n",
      "Chi square test between qualification and h1n1_vaccine\n",
      "\n",
      "Ho:  There is no significant assosiation betweeen qualification and h1n1_vaccine\n",
      "Ha:  There is relation between qualification and h1n1_vaccine\n",
      "\n",
      "\n",
      "h1n1_vaccine          0     1    All\n",
      "qualification                       \n",
      "12 Years           3785   851   4636\n",
      "< 12 Years         1571   304   1875\n",
      "College Graduate   6998  2190   9188\n",
      "Some College       4467  1199   5666\n",
      "All               16821  4544  21365\n",
      "\n",
      "\n",
      "chi-square stats:  88.28790735145093\n",
      "p-value:  5.108028148198584e-19\n",
      "\n",
      "\n",
      "Reject null hypothesis,  There is relation between qualification and h1n1_vaccine\n",
      "\n",
      "\n",
      ">>> qualification can be useful\n"
     ]
    }
   ],
   "source": [
    "bi_var_analysis('qualification')"
   ]
  },
  {
   "cell_type": "markdown",
   "metadata": {},
   "source": [
    "#### race"
   ]
  },
  {
   "cell_type": "code",
   "execution_count": 110,
   "metadata": {},
   "outputs": [
    {
     "name": "stdout",
     "output_type": "stream",
     "text": [
      "Analysis of race\n",
      "\n",
      "Descriptions    Respondent's race - (White, Black, Other or Multiple ,Hispanic)\n",
      "Name: race, dtype: object \n",
      "\n",
      "Value counts of race: \n",
      " White                16974\n",
      "Black                 1656\n",
      "Hispanic              1413\n",
      "Other or Multiple     1322\n",
      "Name: race, dtype: int64 \n",
      "\n",
      "Number of null values in race: 0 (0.0%)\n"
     ]
    },
    {
     "data": {
      "image/png": "[encoded data removed]",
      "text/plain": [
       "<Figure size 648x360 with 1 Axes>"
      ]
     },
     "metadata": {
      "needs_background": "light"
     },
     "output_type": "display_data"
    }
   ],
   "source": [
    "uni_var_analysis('race')"
   ]
  },
  {
   "cell_type": "code",
   "execution_count": null,
   "metadata": {},
   "outputs": [],
   "source": []
  },
  {
   "cell_type": "code",
   "execution_count": 111,
   "metadata": {},
   "outputs": [
    {
     "name": "stdout",
     "output_type": "stream",
     "text": [
      "Bi-variate analysis of race and h1n1_vaccine\n",
      "\n",
      "race: Descriptions    Respondent's race - (White, Black, Other or Multiple ,Hispanic)\n",
      "Name: race, dtype: object\n",
      "\n",
      "h1n1_vaccine: Descriptions    Dependent variable)Did the respondent received the h1n1 vaccine or not(1,0) - (Yes, No)\n",
      "Name: h1n1_vaccine, dtype: object\n",
      "\n",
      "Unique values in race are : ['White' 'Other or Multiple' 'Black' 'Hispanic']\n",
      "\n",
      "Unique values in h1n1_vaccine are : [0 1]\n",
      "\n",
      "Value counts of race: \n",
      " White                16974\n",
      "Black                 1656\n",
      "Hispanic              1413\n",
      "Other or Multiple     1322\n",
      "Name: race, dtype: int64 \n",
      "\n",
      "Value counts of h1n1_vaccine: \n",
      " 0    16821\n",
      "1     4544\n",
      "Name: h1n1_vaccine, dtype: int64 \n",
      "\n",
      "\n",
      "\n",
      "Chi square test between race and h1n1_vaccine\n",
      "\n",
      "Ho:  There is no significant assosiation betweeen race and h1n1_vaccine\n",
      "Ha:  There is relation between race and h1n1_vaccine\n",
      "\n",
      "\n",
      "h1n1_vaccine           0     1    All\n",
      "race                                 \n",
      "Black               1404   252   1656\n",
      "Hispanic            1129   284   1413\n",
      "Other or Multiple   1043   279   1322\n",
      "White              13245  3729  16974\n",
      "All                16821  4544  21365\n",
      "\n",
      "\n",
      "chi-square stats:  42.35930142279739\n",
      "p-value:  3.3660536811017155e-09\n",
      "\n",
      "\n",
      "Reject null hypothesis,  There is relation between race and h1n1_vaccine\n",
      "\n",
      "\n",
      ">>> race can be useful\n"
     ]
    }
   ],
   "source": [
    "bi_var_analysis('race')"
   ]
  },
  {
   "cell_type": "markdown",
   "metadata": {},
   "source": [
    "#### sex"
   ]
  },
  {
   "cell_type": "code",
   "execution_count": 112,
   "metadata": {},
   "outputs": [
    {
     "name": "stdout",
     "output_type": "stream",
     "text": [
      "Analysis of sex\n",
      "\n",
      "Descriptions    Respondent's sex - (Female, Male)\n",
      "Name: sex, dtype: object \n",
      "\n",
      "Value counts of sex: \n",
      " Female    12748\n",
      "Male       8617\n",
      "Name: sex, dtype: int64 \n",
      "\n",
      "Number of null values in sex: 0 (0.0%)\n"
     ]
    },
    {
     "data": {
      "image/png": "[encoded data removed]",
      "text/plain": [
       "<Figure size 648x360 with 1 Axes>"
      ]
     },
     "metadata": {
      "needs_background": "light"
     },
     "output_type": "display_data"
    }
   ],
   "source": [
    "uni_var_analysis('sex')"
   ]
  },
  {
   "cell_type": "code",
   "execution_count": null,
   "metadata": {},
   "outputs": [],
   "source": []
  },
  {
   "cell_type": "code",
   "execution_count": 113,
   "metadata": {},
   "outputs": [
    {
     "name": "stdout",
     "output_type": "stream",
     "text": [
      "Bi-variate analysis of sex and h1n1_vaccine\n",
      "\n",
      "sex: Descriptions    Respondent's sex - (Female, Male)\n",
      "Name: sex, dtype: object\n",
      "\n",
      "h1n1_vaccine: Descriptions    Dependent variable)Did the respondent received the h1n1 vaccine or not(1,0) - (Yes, No)\n",
      "Name: h1n1_vaccine, dtype: object\n",
      "\n",
      "Unique values in sex are : ['Female' 'Male']\n",
      "\n",
      "Unique values in h1n1_vaccine are : [0 1]\n",
      "\n",
      "Value counts of sex: \n",
      " Female    12748\n",
      "Male       8617\n",
      "Name: sex, dtype: int64 \n",
      "\n",
      "Value counts of h1n1_vaccine: \n",
      " 0    16821\n",
      "1     4544\n",
      "Name: h1n1_vaccine, dtype: int64 \n",
      "\n",
      "\n",
      "\n",
      "Chi square test between sex and h1n1_vaccine\n",
      "\n",
      "Ho:  There is no significant assosiation betweeen sex and h1n1_vaccine\n",
      "Ha:  There is relation between sex and h1n1_vaccine\n",
      "\n",
      "\n",
      "h1n1_vaccine      0     1    All\n",
      "sex                             \n",
      "Female         9957  2791  12748\n",
      "Male           6864  1753   8617\n",
      "All           16821  4544  21365\n",
      "\n",
      "\n",
      "chi-square stats:  7.285799067532569\n",
      "p-value:  0.006950180928237827\n",
      "\n",
      "\n",
      "Reject null hypothesis,  There is relation between sex and h1n1_vaccine\n",
      "\n",
      "\n",
      ">>> sex can be useful\n"
     ]
    }
   ],
   "source": [
    "bi_var_analysis('sex')"
   ]
  },
  {
   "cell_type": "markdown",
   "metadata": {},
   "source": [
    "#### income_level"
   ]
  },
  {
   "cell_type": "code",
   "execution_count": 114,
   "metadata": {},
   "outputs": [
    {
     "name": "stdout",
     "output_type": "stream",
     "text": [
      "Analysis of income_level\n",
      "\n",
      "Descriptions    Annual income of the respondent as per the 2008 poverty Census - (<= 75000?AbovePoverty,> 75000?AbovePoverty,>75000, Below Poverty)\n",
      "Name: income_level, dtype: object \n",
      "\n",
      "Value counts of income_level: \n",
      " <= $75,000, Above Poverty    10301\n",
      "> $75,000                     5425\n",
      "Below Poverty                 2125\n",
      "Name: income_level, dtype: int64 \n",
      "\n",
      "Number of null values in income_level: 0 (0.0%)\n"
     ]
    },
    {
     "data": {
      "image/png": "[encoded data removed]",
      "text/plain": [
       "<Figure size 648x360 with 1 Axes>"
      ]
     },
     "metadata": {
      "needs_background": "light"
     },
     "output_type": "display_data"
    }
   ],
   "source": [
    "uni_var_analysis('income_level', fill_na=True)"
   ]
  },
  {
   "cell_type": "code",
   "execution_count": null,
   "metadata": {},
   "outputs": [],
   "source": []
  },
  {
   "cell_type": "code",
   "execution_count": 115,
   "metadata": {},
   "outputs": [
    {
     "name": "stdout",
     "output_type": "stream",
     "text": [
      "Bi-variate analysis of income_level and h1n1_vaccine\n",
      "\n",
      "income_level: Descriptions    Annual income of the respondent as per the 2008 poverty Census - (<= 75000?AbovePoverty,> 75000?AbovePoverty,>75000, Below Poverty)\n",
      "Name: income_level, dtype: object\n",
      "\n",
      "h1n1_vaccine: Descriptions    Dependent variable)Did the respondent received the h1n1 vaccine or not(1,0) - (Yes, No)\n",
      "Name: h1n1_vaccine, dtype: object\n",
      "\n",
      "Unique values in income_level are : ['Below Poverty' '> $75,000' '<= $75,000, Above Poverty']\n",
      "\n",
      "Unique values in h1n1_vaccine are : [0 1]\n",
      "\n",
      "Value counts of income_level: \n",
      " <= $75,000, Above Poverty    13815\n",
      "> $75,000                     5425\n",
      "Below Poverty                 2125\n",
      "Name: income_level, dtype: int64 \n",
      "\n",
      "Value counts of h1n1_vaccine: \n",
      " 0    16821\n",
      "1     4544\n",
      "Name: h1n1_vaccine, dtype: int64 \n",
      "\n",
      "\n",
      "\n",
      "Chi square test between income_level and h1n1_vaccine\n",
      "\n",
      "Ho:  There is no significant assosiation betweeen income_level and h1n1_vaccine\n",
      "Ha:  There is relation between income_level and h1n1_vaccine\n",
      "\n",
      "\n",
      "h1n1_vaccine                   0     1    All\n",
      "income_level                                 \n",
      "<= $75,000, Above Poverty  11049  2766  13815\n",
      "> $75,000                   4040  1385   5425\n",
      "Below Poverty               1732   393   2125\n",
      "All                        16821  4544  21365\n",
      "\n",
      "\n",
      "chi-square stats:  81.4271523767592\n",
      "p-value:  2.0812225500890178e-18\n",
      "\n",
      "\n",
      "Reject null hypothesis,  There is relation between income_level and h1n1_vaccine\n",
      "\n",
      "\n",
      ">>> income_level can be useful\n"
     ]
    }
   ],
   "source": [
    "bi_var_analysis('income_level')"
   ]
  },
  {
   "cell_type": "markdown",
   "metadata": {},
   "source": [
    "#### marital_status"
   ]
  },
  {
   "cell_type": "code",
   "execution_count": 116,
   "metadata": {},
   "outputs": [
    {
     "name": "stdout",
     "output_type": "stream",
     "text": [
      "Analysis of marital_status\n",
      "\n",
      "Descriptions    Respondent's marital status - (Not Married, Married)\n",
      "Name: marital_status, dtype: object \n",
      "\n",
      "Value counts of marital_status: \n",
      " Married        10880\n",
      "Not Married     9365\n",
      "Name: marital_status, dtype: int64 \n",
      "\n",
      "Number of null values in marital_status: 0 (0.0%)\n"
     ]
    },
    {
     "data": {
      "image/png": "[encoded data removed]",
      "text/plain": [
       "<Figure size 648x360 with 1 Axes>"
      ]
     },
     "metadata": {
      "needs_background": "light"
     },
     "output_type": "display_data"
    }
   ],
   "source": [
    "uni_var_analysis('marital_status', fill_na=True)"
   ]
  },
  {
   "cell_type": "code",
   "execution_count": null,
   "metadata": {},
   "outputs": [],
   "source": []
  },
  {
   "cell_type": "code",
   "execution_count": 117,
   "metadata": {},
   "outputs": [
    {
     "name": "stdout",
     "output_type": "stream",
     "text": [
      "Bi-variate analysis of marital_status and h1n1_vaccine\n",
      "\n",
      "marital_status: Descriptions    Respondent's marital status - (Not Married, Married)\n",
      "Name: marital_status, dtype: object\n",
      "\n",
      "h1n1_vaccine: Descriptions    Dependent variable)Did the respondent received the h1n1 vaccine or not(1,0) - (Yes, No)\n",
      "Name: h1n1_vaccine, dtype: object\n",
      "\n",
      "Unique values in marital_status are : ['Married' 'Not Married']\n",
      "\n",
      "Unique values in h1n1_vaccine are : [0 1]\n",
      "\n",
      "Value counts of marital_status: \n",
      " Married        12000\n",
      "Not Married     9365\n",
      "Name: marital_status, dtype: int64 \n",
      "\n",
      "Value counts of h1n1_vaccine: \n",
      " 0    16821\n",
      "1     4544\n",
      "Name: h1n1_vaccine, dtype: int64 \n",
      "\n",
      "\n",
      "\n",
      "Chi square test between marital_status and h1n1_vaccine\n",
      "\n",
      "Ho:  There is no significant assosiation betweeen marital_status and h1n1_vaccine\n",
      "Ha:  There is relation between marital_status and h1n1_vaccine\n",
      "\n",
      "\n",
      "h1n1_vaccine        0     1    All\n",
      "marital_status                    \n",
      "Married          9248  2752  12000\n",
      "Not Married      7573  1792   9365\n",
      "All             16821  4544  21365\n",
      "\n",
      "\n",
      "chi-square stats:  45.09140224576795\n",
      "p-value:  1.880491991099746e-11\n",
      "\n",
      "\n",
      "Reject null hypothesis,  There is relation between marital_status and h1n1_vaccine\n",
      "\n",
      "\n",
      ">>> marital_status can be useful\n"
     ]
    }
   ],
   "source": [
    "bi_var_analysis('marital_status')"
   ]
  },
  {
   "cell_type": "markdown",
   "metadata": {},
   "source": [
    "#### housing_status"
   ]
  },
  {
   "cell_type": "code",
   "execution_count": 118,
   "metadata": {},
   "outputs": [
    {
     "name": "stdout",
     "output_type": "stream",
     "text": [
      "Analysis of housing_status\n",
      "\n",
      "Descriptions    Respondent's housing status - (Own, Rent)\n",
      "Name: housing_status, dtype: object \n",
      "\n",
      "Value counts of housing_status: \n",
      " Own     15012\n",
      "Rent     4725\n",
      "Name: housing_status, dtype: int64 \n",
      "\n",
      "Number of null values in housing_status: 0 (0.0%)\n"
     ]
    },
    {
     "data": {
      "image/png": "[encoded data removed]",
      "text/plain": [
       "<Figure size 648x360 with 1 Axes>"
      ]
     },
     "metadata": {
      "needs_background": "light"
     },
     "output_type": "display_data"
    }
   ],
   "source": [
    "uni_var_analysis('housing_status', fill_na=True)"
   ]
  },
  {
   "cell_type": "code",
   "execution_count": null,
   "metadata": {},
   "outputs": [],
   "source": []
  },
  {
   "cell_type": "code",
   "execution_count": 119,
   "metadata": {},
   "outputs": [
    {
     "name": "stdout",
     "output_type": "stream",
     "text": [
      "Bi-variate analysis of housing_status and h1n1_vaccine\n",
      "\n",
      "housing_status: Descriptions    Respondent's housing status - (Own, Rent)\n",
      "Name: housing_status, dtype: object\n",
      "\n",
      "h1n1_vaccine: Descriptions    Dependent variable)Did the respondent received the h1n1 vaccine or not(1,0) - (Yes, No)\n",
      "Name: h1n1_vaccine, dtype: object\n",
      "\n",
      "Unique values in housing_status are : ['Rent' 'Own']\n",
      "\n",
      "Unique values in h1n1_vaccine are : [0 1]\n",
      "\n",
      "Value counts of housing_status: \n",
      " Own     16640\n",
      "Rent     4725\n",
      "Name: housing_status, dtype: int64 \n",
      "\n",
      "Value counts of h1n1_vaccine: \n",
      " 0    16821\n",
      "1     4544\n",
      "Name: h1n1_vaccine, dtype: int64 \n",
      "\n",
      "\n",
      "\n",
      "Chi square test between housing_status and h1n1_vaccine\n",
      "\n",
      "Ho:  There is no significant assosiation betweeen housing_status and h1n1_vaccine\n",
      "Ha:  There is relation between housing_status and h1n1_vaccine\n",
      "\n",
      "\n",
      "h1n1_vaccine        0     1    All\n",
      "housing_status                    \n",
      "Own             12972  3668  16640\n",
      "Rent             3849   876   4725\n",
      "All             16821  4544  21365\n",
      "\n",
      "\n",
      "chi-square stats:  26.76817240011414\n",
      "p-value:  2.29384392907527e-07\n",
      "\n",
      "\n",
      "Reject null hypothesis,  There is relation between housing_status and h1n1_vaccine\n",
      "\n",
      "\n",
      ">>> housing_status can be useful\n"
     ]
    }
   ],
   "source": [
    "bi_var_analysis('housing_status')"
   ]
  },
  {
   "cell_type": "markdown",
   "metadata": {},
   "source": [
    "#### employment"
   ]
  },
  {
   "cell_type": "code",
   "execution_count": 120,
   "metadata": {},
   "outputs": [
    {
     "name": "stdout",
     "output_type": "stream",
     "text": [
      "Analysis of employment\n",
      "\n",
      "Descriptions    Respondent's employment status - (Not in Labor Force, Employed, Unemployed)\n",
      "Name: employment, dtype: object \n",
      "\n",
      "Value counts of employment: \n",
      " Employed              10886\n",
      "Not in Labor Force     8154\n",
      "Unemployed             1163\n",
      "Name: employment, dtype: int64 \n",
      "\n",
      "Number of null values in employment: 0 (0.0%)\n"
     ]
    },
    {
     "data": {
      "image/png": "[encoded data removed]",
      "text/plain": [
       "<Figure size 648x360 with 1 Axes>"
      ]
     },
     "metadata": {
      "needs_background": "light"
     },
     "output_type": "display_data"
    }
   ],
   "source": [
    "uni_var_analysis('employment', fill_na=True)"
   ]
  },
  {
   "cell_type": "code",
   "execution_count": null,
   "metadata": {},
   "outputs": [],
   "source": []
  },
  {
   "cell_type": "code",
   "execution_count": 121,
   "metadata": {},
   "outputs": [
    {
     "name": "stdout",
     "output_type": "stream",
     "text": [
      "Bi-variate analysis of employment and h1n1_vaccine\n",
      "\n",
      "employment: Descriptions    Respondent's employment status - (Not in Labor Force, Employed, Unemployed)\n",
      "Name: employment, dtype: object\n",
      "\n",
      "h1n1_vaccine: Descriptions    Dependent variable)Did the respondent received the h1n1 vaccine or not(1,0) - (Yes, No)\n",
      "Name: h1n1_vaccine, dtype: object\n",
      "\n",
      "Unique values in employment are : ['Unemployed' 'Employed' 'Not in Labor Force']\n",
      "\n",
      "Unique values in h1n1_vaccine are : [0 1]\n",
      "\n",
      "Value counts of employment: \n",
      " Employed              12048\n",
      "Not in Labor Force     8154\n",
      "Unemployed             1163\n",
      "Name: employment, dtype: int64 \n",
      "\n",
      "Value counts of h1n1_vaccine: \n",
      " 0    16821\n",
      "1     4544\n",
      "Name: h1n1_vaccine, dtype: int64 \n",
      "\n",
      "\n",
      "\n",
      "Chi square test between employment and h1n1_vaccine\n",
      "\n",
      "Ho:  There is no significant assosiation betweeen employment and h1n1_vaccine\n",
      "Ha:  There is relation between employment and h1n1_vaccine\n",
      "\n",
      "\n",
      "h1n1_vaccine            0     1    All\n",
      "employment                            \n",
      "Employed             9480  2568  12048\n",
      "Not in Labor Force   6362  1792   8154\n",
      "Unemployed            979   184   1163\n",
      "All                 16821  4544  21365\n",
      "\n",
      "\n",
      "chi-square stats:  23.068773371115764\n",
      "p-value:  9.787674327590675e-06\n",
      "\n",
      "\n",
      "Reject null hypothesis,  There is relation between employment and h1n1_vaccine\n",
      "\n",
      "\n",
      ">>> employment can be useful\n"
     ]
    }
   ],
   "source": [
    "bi_var_analysis('employment')"
   ]
  },
  {
   "cell_type": "markdown",
   "metadata": {},
   "source": [
    "#### census_msa"
   ]
  },
  {
   "cell_type": "code",
   "execution_count": 122,
   "metadata": {},
   "outputs": [
    {
     "name": "stdout",
     "output_type": "stream",
     "text": [
      "Analysis of census_msa\n",
      "\n",
      "Descriptions    Residence of the respondent with the MSA(metropolitan statistical area)(Non-MSA, MSA-Not Principle, CityMSA-Principle city) - (Yes, no)\n",
      "Name: census_msa, dtype: object \n",
      "\n",
      "Value counts of census_msa: \n",
      " MSA, Not Principle  City    9268\n",
      "MSA, Principle City         6280\n",
      "Non-MSA                     5817\n",
      "Name: census_msa, dtype: int64 \n",
      "\n",
      "Number of null values in census_msa: 0 (0.0%)\n"
     ]
    },
    {
     "data": {
      "image/png": "[encoded data removed]",
      "text/plain": [
       "<Figure size 648x360 with 1 Axes>"
      ]
     },
     "metadata": {
      "needs_background": "light"
     },
     "output_type": "display_data"
    }
   ],
   "source": [
    "uni_var_analysis('census_msa')"
   ]
  },
  {
   "cell_type": "code",
   "execution_count": null,
   "metadata": {},
   "outputs": [],
   "source": []
  },
  {
   "cell_type": "code",
   "execution_count": 123,
   "metadata": {},
   "outputs": [
    {
     "name": "stdout",
     "output_type": "stream",
     "text": [
      "Bi-variate analysis of census_msa and h1n1_vaccine\n",
      "\n",
      "census_msa: Descriptions    Residence of the respondent with the MSA(metropolitan statistical area)(Non-MSA, MSA-Not Principle, CityMSA-Principle city) - (Yes, no)\n",
      "Name: census_msa, dtype: object\n",
      "\n",
      "h1n1_vaccine: Descriptions    Dependent variable)Did the respondent received the h1n1 vaccine or not(1,0) - (Yes, No)\n",
      "Name: h1n1_vaccine, dtype: object\n",
      "\n",
      "Unique values in census_msa are : ['MSA, Not Principle  City' 'Non-MSA' 'MSA, Principle City']\n",
      "\n",
      "Unique values in h1n1_vaccine are : [0 1]\n",
      "\n",
      "Value counts of census_msa: \n",
      " MSA, Not Principle  City    9268\n",
      "MSA, Principle City         6280\n",
      "Non-MSA                     5817\n",
      "Name: census_msa, dtype: int64 \n",
      "\n",
      "Value counts of h1n1_vaccine: \n",
      " 0    16821\n",
      "1     4544\n",
      "Name: h1n1_vaccine, dtype: int64 \n",
      "\n",
      "\n",
      "\n",
      "Chi square test between census_msa and h1n1_vaccine\n",
      "\n",
      "Ho:  There is no significant assosiation betweeen census_msa and h1n1_vaccine\n",
      "Ha:  There is relation between census_msa and h1n1_vaccine\n",
      "\n",
      "\n",
      "h1n1_vaccine                  0     1    All\n",
      "census_msa                                  \n",
      "MSA, Not Principle  City   7291  1977   9268\n",
      "MSA, Principle City        4929  1351   6280\n",
      "Non-MSA                    4601  1216   5817\n",
      "All                       16821  4544  21365\n",
      "\n",
      "\n",
      "chi-square stats:  0.706579073140751\n",
      "p-value:  0.7023738010324287\n",
      "\n",
      "\n",
      "Fail to reject null hypothesis,  There is no significant assosiation betweeen census_msa and h1n1_vaccine\n",
      "\n",
      "\n",
      ">>> Drop census_msa\n"
     ]
    }
   ],
   "source": [
    "bi_var_analysis('census_msa')"
   ]
  },
  {
   "cell_type": "code",
   "execution_count": 124,
   "metadata": {},
   "outputs": [],
   "source": [
    "X_train.drop('census_msa', axis=1, inplace=True)\n",
    "X_test.drop('census_msa', axis=1, inplace=True)"
   ]
  },
  {
   "cell_type": "markdown",
   "metadata": {},
   "source": [
    "#### no_of_adults"
   ]
  },
  {
   "cell_type": "code",
   "execution_count": 125,
   "metadata": {},
   "outputs": [
    {
     "name": "stdout",
     "output_type": "stream",
     "text": [
      "Analysis of no_of_adults\n",
      "\n",
      "Descriptions    Number of adults in the respondent's house (0,1,2,3) - (Yes, no)\n",
      "Name: no_of_adults, dtype: object \n",
      "\n",
      "Value counts of no_of_adults: \n",
      " 1.0    11622\n",
      "0.0     6407\n",
      "2.0     2212\n",
      "3.0      922\n",
      "Name: no_of_adults, dtype: int64 \n",
      "\n",
      "Values in no_of_adults can be of Ordinal level. So we can treat it as continuous.\n",
      "Number of null values in no_of_adults: 0 (0.0%)\n",
      "\n",
      "Total number of outliers in {col_name}:  42730\n"
     ]
    },
    {
     "data": {
      "image/png": "[encoded data removed]",
      "text/plain": [
       "<Figure size 648x432 with 1 Axes>"
      ]
     },
     "metadata": {
      "needs_background": "light"
     },
     "output_type": "display_data"
    },
    {
     "data": {
      "image/png": "[encoded data removed]",
      "text/plain": [
       "<Figure size 648x360 with 1 Axes>"
      ]
     },
     "metadata": {
      "needs_background": "light"
     },
     "output_type": "display_data"
    }
   ],
   "source": [
    "uni_var_analysis('no_of_adults', fill_na=True, convert=True)"
   ]
  },
  {
   "cell_type": "code",
   "execution_count": null,
   "metadata": {},
   "outputs": [],
   "source": []
  },
  {
   "cell_type": "code",
   "execution_count": 126,
   "metadata": {},
   "outputs": [
    {
     "name": "stdout",
     "output_type": "stream",
     "text": [
      "Bi-variate analysis of no_of_adults and h1n1_vaccine\n",
      "\n",
      "no_of_adults: Descriptions    Number of adults in the respondent's house (0,1,2,3) - (Yes, no)\n",
      "Name: no_of_adults, dtype: object\n",
      "\n",
      "h1n1_vaccine: Descriptions    Dependent variable)Did the respondent received the h1n1 vaccine or not(1,0) - (Yes, No)\n",
      "Name: h1n1_vaccine, dtype: object\n",
      "\n",
      "Unique values in h1n1_vaccine are : [0 1]\n",
      "\n",
      "\n",
      "\n",
      "Ho:  There is no significant association between h1n1_vaccine and no_of_adults\n",
      "Ha:  There is a significant difference between the levels of h1n1_vaccine with respect to no_of_adults mean\n",
      "\n",
      "\n",
      "Test Results\n",
      "\n",
      "\n",
      "Test statistics:  -1.536662713516517\n",
      "p-value:  0.12439073615668075 \n",
      "\n",
      "Fail to reject null hypothesis,  There is no significant association between h1n1_vaccine and no_of_adults\n",
      "\n",
      "\n",
      ">>> Drop no_of_adults\n"
     ]
    }
   ],
   "source": [
    "bi_var_analysis('no_of_adults')"
   ]
  },
  {
   "cell_type": "code",
   "execution_count": 127,
   "metadata": {},
   "outputs": [],
   "source": [
    "X_train.drop('no_of_adults', axis=1, inplace=True)\n",
    "X_test.drop('no_of_adults', axis=1, inplace=True)"
   ]
  },
  {
   "cell_type": "markdown",
   "metadata": {},
   "source": [
    "#### no_of_children"
   ]
  },
  {
   "cell_type": "code",
   "execution_count": 128,
   "metadata": {},
   "outputs": [
    {
     "name": "stdout",
     "output_type": "stream",
     "text": [
      "Analysis of no_of_children\n",
      "\n",
      "Descriptions    Number of children in the respondent's house(0,1,2,3) - (Yes, No)\n",
      "Name: no_of_children, dtype: object \n",
      "\n",
      "Value counts of no_of_children: \n",
      " 0.0    14923\n",
      "1.0     2548\n",
      "2.0     2283\n",
      "3.0     1409\n",
      "Name: no_of_children, dtype: int64 \n",
      "\n",
      "Values in no_of_children can be of Ordinal level. So we can treat it as continuous.\n",
      "Number of null values in no_of_children: 0 (0.0%)\n",
      "\n",
      "Total number of outliers in {col_name}:  42730\n"
     ]
    },
    {
     "data": {
      "image/png": "[encoded data removed]",
      "text/plain": [
       "<Figure size 648x432 with 1 Axes>"
      ]
     },
     "metadata": {
      "needs_background": "light"
     },
     "output_type": "display_data"
    },
    {
     "data": {
      "image/png": "[encoded data removed]",
      "text/plain": [
       "<Figure size 648x360 with 1 Axes>"
      ]
     },
     "metadata": {
      "needs_background": "light"
     },
     "output_type": "display_data"
    }
   ],
   "source": [
    "uni_var_analysis('no_of_children', fill_na=True, convert=True)"
   ]
  },
  {
   "cell_type": "code",
   "execution_count": null,
   "metadata": {},
   "outputs": [],
   "source": []
  },
  {
   "cell_type": "code",
   "execution_count": 129,
   "metadata": {},
   "outputs": [
    {
     "name": "stdout",
     "output_type": "stream",
     "text": [
      "Bi-variate analysis of no_of_children and h1n1_vaccine\n",
      "\n",
      "no_of_children: Descriptions    Number of children in the respondent's house(0,1,2,3) - (Yes, No)\n",
      "Name: no_of_children, dtype: object\n",
      "\n",
      "h1n1_vaccine: Descriptions    Dependent variable)Did the respondent received the h1n1 vaccine or not(1,0) - (Yes, No)\n",
      "Name: h1n1_vaccine, dtype: object\n",
      "\n",
      "Unique values in h1n1_vaccine are : [0 1]\n",
      "\n",
      "\n",
      "\n",
      "Ho:  There is no significant association between h1n1_vaccine and no_of_children\n",
      "Ha:  There is a significant difference between the levels of h1n1_vaccine with respect to no_of_children mean\n",
      "\n",
      "\n",
      "Test Results\n",
      "\n",
      "\n",
      "Test statistics:  0.7948855480617755\n",
      "p-value:  0.4266889123134724 \n",
      "\n",
      "Fail to reject null hypothesis,  There is no significant association between h1n1_vaccine and no_of_children\n",
      "\n",
      "\n",
      ">>> Drop no_of_children\n"
     ]
    }
   ],
   "source": [
    "bi_var_analysis('no_of_children')"
   ]
  },
  {
   "cell_type": "code",
   "execution_count": 130,
   "metadata": {},
   "outputs": [],
   "source": [
    "X_train.drop('no_of_children', axis=1, inplace=True)\n",
    "X_test.drop('no_of_children', axis=1, inplace=True)"
   ]
  },
  {
   "cell_type": "markdown",
   "metadata": {},
   "source": [
    "---"
   ]
  },
  {
   "cell_type": "code",
   "execution_count": 131,
   "metadata": {},
   "outputs": [
    {
     "data": {
      "text/html": [
       "<div>\n",
       "<style scoped>\n",
       "    .dataframe tbody tr th:only-of-type {\n",
       "        vertical-align: middle;\n",
       "    }\n",
       "\n",
       "    .dataframe tbody tr th {\n",
       "        vertical-align: top;\n",
       "    }\n",
       "\n",
       "    .dataframe thead th {\n",
       "        text-align: right;\n",
       "    }\n",
       "</style>\n",
       "<table border=\"1\" class=\"dataframe\">\n",
       "  <thead>\n",
       "    <tr style=\"text-align: right;\">\n",
       "      <th></th>\n",
       "      <th>h1n1_worry</th>\n",
       "      <th>h1n1_awareness</th>\n",
       "      <th>antiviral_medication</th>\n",
       "      <th>contact_avoidance</th>\n",
       "      <th>bought_face_mask</th>\n",
       "      <th>wash_hands_frequently</th>\n",
       "      <th>avoid_large_gatherings</th>\n",
       "      <th>reduced_outside_home_cont</th>\n",
       "      <th>avoid_touch_face</th>\n",
       "      <th>dr_recc_h1n1_vacc</th>\n",
       "      <th>dr_recc_seasonal_vacc</th>\n",
       "      <th>chronic_medic_condition</th>\n",
       "      <th>cont_child_undr_6_mnths</th>\n",
       "      <th>is_health_worker</th>\n",
       "      <th>has_health_insur</th>\n",
       "      <th>is_h1n1_vacc_effective</th>\n",
       "      <th>is_h1n1_risky</th>\n",
       "      <th>sick_from_h1n1_vacc</th>\n",
       "      <th>is_seas_vacc_effective</th>\n",
       "      <th>is_seas_risky</th>\n",
       "      <th>age_bracket</th>\n",
       "      <th>qualification</th>\n",
       "      <th>race</th>\n",
       "      <th>sex</th>\n",
       "      <th>income_level</th>\n",
       "      <th>marital_status</th>\n",
       "      <th>housing_status</th>\n",
       "      <th>employment</th>\n",
       "    </tr>\n",
       "  </thead>\n",
       "  <tbody>\n",
       "    <tr>\n",
       "      <th>24706</th>\n",
       "      <td>2.0</td>\n",
       "      <td>1.0</td>\n",
       "      <td>0.0</td>\n",
       "      <td>1.0</td>\n",
       "      <td>0.0</td>\n",
       "      <td>1.0</td>\n",
       "      <td>0.0</td>\n",
       "      <td>1.0</td>\n",
       "      <td>1.0</td>\n",
       "      <td>0.0</td>\n",
       "      <td>0.0</td>\n",
       "      <td>1.0</td>\n",
       "      <td>0.0</td>\n",
       "      <td>0.0</td>\n",
       "      <td>0.0</td>\n",
       "      <td>5.0</td>\n",
       "      <td>4.0</td>\n",
       "      <td>2.0</td>\n",
       "      <td>4.0</td>\n",
       "      <td>4.0</td>\n",
       "      <td>45 - 54 Years</td>\n",
       "      <td>Some College</td>\n",
       "      <td>White</td>\n",
       "      <td>Female</td>\n",
       "      <td>Below Poverty</td>\n",
       "      <td>Married</td>\n",
       "      <td>Rent</td>\n",
       "      <td>Unemployed</td>\n",
       "    </tr>\n",
       "    <tr>\n",
       "      <th>5393</th>\n",
       "      <td>2.0</td>\n",
       "      <td>1.0</td>\n",
       "      <td>1.0</td>\n",
       "      <td>1.0</td>\n",
       "      <td>1.0</td>\n",
       "      <td>1.0</td>\n",
       "      <td>1.0</td>\n",
       "      <td>1.0</td>\n",
       "      <td>1.0</td>\n",
       "      <td>0.0</td>\n",
       "      <td>0.0</td>\n",
       "      <td>0.0</td>\n",
       "      <td>0.0</td>\n",
       "      <td>0.0</td>\n",
       "      <td>Not Available</td>\n",
       "      <td>5.0</td>\n",
       "      <td>4.0</td>\n",
       "      <td>4.0</td>\n",
       "      <td>5.0</td>\n",
       "      <td>4.0</td>\n",
       "      <td>45 - 54 Years</td>\n",
       "      <td>College Graduate</td>\n",
       "      <td>White</td>\n",
       "      <td>Male</td>\n",
       "      <td>&gt; $75,000</td>\n",
       "      <td>Not Married</td>\n",
       "      <td>Own</td>\n",
       "      <td>Employed</td>\n",
       "    </tr>\n",
       "    <tr>\n",
       "      <th>20898</th>\n",
       "      <td>0.0</td>\n",
       "      <td>1.0</td>\n",
       "      <td>0.0</td>\n",
       "      <td>0.0</td>\n",
       "      <td>0.0</td>\n",
       "      <td>1.0</td>\n",
       "      <td>0.0</td>\n",
       "      <td>1.0</td>\n",
       "      <td>0.0</td>\n",
       "      <td>0.0</td>\n",
       "      <td>0.0</td>\n",
       "      <td>0.0</td>\n",
       "      <td>0.0</td>\n",
       "      <td>0.0</td>\n",
       "      <td>1.0</td>\n",
       "      <td>1.0</td>\n",
       "      <td>2.0</td>\n",
       "      <td>1.0</td>\n",
       "      <td>1.0</td>\n",
       "      <td>4.0</td>\n",
       "      <td>35 - 44 Years</td>\n",
       "      <td>College Graduate</td>\n",
       "      <td>White</td>\n",
       "      <td>Male</td>\n",
       "      <td>&lt;= $75,000, Above Poverty</td>\n",
       "      <td>Married</td>\n",
       "      <td>Own</td>\n",
       "      <td>Employed</td>\n",
       "    </tr>\n",
       "    <tr>\n",
       "      <th>3429</th>\n",
       "      <td>1.0</td>\n",
       "      <td>1.0</td>\n",
       "      <td>0.0</td>\n",
       "      <td>0.0</td>\n",
       "      <td>0.0</td>\n",
       "      <td>0.0</td>\n",
       "      <td>0.0</td>\n",
       "      <td>0.0</td>\n",
       "      <td>0.0</td>\n",
       "      <td>0.0</td>\n",
       "      <td>0.0</td>\n",
       "      <td>0.0</td>\n",
       "      <td>0.0</td>\n",
       "      <td>0.0</td>\n",
       "      <td>1.0</td>\n",
       "      <td>4.0</td>\n",
       "      <td>2.0</td>\n",
       "      <td>1.0</td>\n",
       "      <td>4.0</td>\n",
       "      <td>2.0</td>\n",
       "      <td>45 - 54 Years</td>\n",
       "      <td>College Graduate</td>\n",
       "      <td>Other or Multiple</td>\n",
       "      <td>Female</td>\n",
       "      <td>&lt;= $75,000, Above Poverty</td>\n",
       "      <td>Not Married</td>\n",
       "      <td>Own</td>\n",
       "      <td>Employed</td>\n",
       "    </tr>\n",
       "    <tr>\n",
       "      <th>8731</th>\n",
       "      <td>1.0</td>\n",
       "      <td>0.0</td>\n",
       "      <td>0.0</td>\n",
       "      <td>0.0</td>\n",
       "      <td>0.0</td>\n",
       "      <td>1.0</td>\n",
       "      <td>0.0</td>\n",
       "      <td>0.0</td>\n",
       "      <td>0.0</td>\n",
       "      <td>0.0</td>\n",
       "      <td>0.0</td>\n",
       "      <td>0.0</td>\n",
       "      <td>0.0</td>\n",
       "      <td>0.0</td>\n",
       "      <td>1.0</td>\n",
       "      <td>3.0</td>\n",
       "      <td>2.0</td>\n",
       "      <td>5.0</td>\n",
       "      <td>5.0</td>\n",
       "      <td>2.0</td>\n",
       "      <td>65+ Years</td>\n",
       "      <td>College Graduate</td>\n",
       "      <td>Black</td>\n",
       "      <td>Female</td>\n",
       "      <td>&lt;= $75,000, Above Poverty</td>\n",
       "      <td>Not Married</td>\n",
       "      <td>Own</td>\n",
       "      <td>Not in Labor Force</td>\n",
       "    </tr>\n",
       "  </tbody>\n",
       "</table>\n",
       "</div>"
      ],
      "text/plain": [
       "       h1n1_worry  h1n1_awareness antiviral_medication contact_avoidance  \\\n",
       "24706         2.0             1.0                  0.0               1.0   \n",
       "5393          2.0             1.0                  1.0               1.0   \n",
       "20898         0.0             1.0                  0.0               0.0   \n",
       "3429          1.0             1.0                  0.0               0.0   \n",
       "8731          1.0             0.0                  0.0               0.0   \n",
       "\n",
       "      bought_face_mask wash_hands_frequently avoid_large_gatherings  \\\n",
       "24706              0.0                   1.0                    0.0   \n",
       "5393               1.0                   1.0                    1.0   \n",
       "20898              0.0                   1.0                    0.0   \n",
       "3429               0.0                   0.0                    0.0   \n",
       "8731               0.0                   1.0                    0.0   \n",
       "\n",
       "      reduced_outside_home_cont avoid_touch_face dr_recc_h1n1_vacc  \\\n",
       "24706                       1.0              1.0               0.0   \n",
       "5393                        1.0              1.0               0.0   \n",
       "20898                       1.0              0.0               0.0   \n",
       "3429                        0.0              0.0               0.0   \n",
       "8731                        0.0              0.0               0.0   \n",
       "\n",
       "      dr_recc_seasonal_vacc chronic_medic_condition cont_child_undr_6_mnths  \\\n",
       "24706                   0.0                     1.0                     0.0   \n",
       "5393                    0.0                     0.0                     0.0   \n",
       "20898                   0.0                     0.0                     0.0   \n",
       "3429                    0.0                     0.0                     0.0   \n",
       "8731                    0.0                     0.0                     0.0   \n",
       "\n",
       "      is_health_worker has_health_insur  is_h1n1_vacc_effective  \\\n",
       "24706              0.0              0.0                     5.0   \n",
       "5393               0.0    Not Available                     5.0   \n",
       "20898              0.0              1.0                     1.0   \n",
       "3429               0.0              1.0                     4.0   \n",
       "8731               0.0              1.0                     3.0   \n",
       "\n",
       "       is_h1n1_risky  sick_from_h1n1_vacc  is_seas_vacc_effective  \\\n",
       "24706            4.0                  2.0                     4.0   \n",
       "5393             4.0                  4.0                     5.0   \n",
       "20898            2.0                  1.0                     1.0   \n",
       "3429             2.0                  1.0                     4.0   \n",
       "8731             2.0                  5.0                     5.0   \n",
       "\n",
       "       is_seas_risky    age_bracket     qualification               race  \\\n",
       "24706            4.0  45 - 54 Years      Some College              White   \n",
       "5393             4.0  45 - 54 Years  College Graduate              White   \n",
       "20898            4.0  35 - 44 Years  College Graduate              White   \n",
       "3429             2.0  45 - 54 Years  College Graduate  Other or Multiple   \n",
       "8731             2.0      65+ Years  College Graduate              Black   \n",
       "\n",
       "          sex               income_level marital_status housing_status  \\\n",
       "24706  Female              Below Poverty        Married           Rent   \n",
       "5393     Male                  > $75,000    Not Married            Own   \n",
       "20898    Male  <= $75,000, Above Poverty        Married            Own   \n",
       "3429   Female  <= $75,000, Above Poverty    Not Married            Own   \n",
       "8731   Female  <= $75,000, Above Poverty    Not Married            Own   \n",
       "\n",
       "               employment  \n",
       "24706          Unemployed  \n",
       "5393             Employed  \n",
       "20898            Employed  \n",
       "3429             Employed  \n",
       "8731   Not in Labor Force  "
      ]
     },
     "execution_count": 131,
     "metadata": {},
     "output_type": "execute_result"
    }
   ],
   "source": [
    "# columns which are not useful are removed. Lets see the head of the dataset.\n",
    "X_train.head()"
   ]
  },
  {
   "cell_type": "code",
   "execution_count": null,
   "metadata": {},
   "outputs": [],
   "source": [
    "# Lets select only those columns which we want to encode."
   ]
  },
  {
   "cell_type": "code",
   "execution_count": 132,
   "metadata": {},
   "outputs": [
    {
     "name": "stdout",
     "output_type": "stream",
     "text": [
      "<class 'pandas.core.frame.DataFrame'>\n",
      "Int64Index: 21365 entries, 24706 to 23654\n",
      "Data columns (total 28 columns):\n",
      " #   Column                     Non-Null Count  Dtype  \n",
      "---  ------                     --------------  -----  \n",
      " 0   h1n1_worry                 21365 non-null  float64\n",
      " 1   h1n1_awareness             21365 non-null  float64\n",
      " 2   antiviral_medication       21365 non-null  object \n",
      " 3   contact_avoidance          21365 non-null  object \n",
      " 4   bought_face_mask           21365 non-null  object \n",
      " 5   wash_hands_frequently      21365 non-null  object \n",
      " 6   avoid_large_gatherings     21365 non-null  object \n",
      " 7   reduced_outside_home_cont  21365 non-null  object \n",
      " 8   avoid_touch_face           21365 non-null  object \n",
      " 9   dr_recc_h1n1_vacc          21365 non-null  object \n",
      " 10  dr_recc_seasonal_vacc      21365 non-null  object \n",
      " 11  chronic_medic_condition    21365 non-null  object \n",
      " 12  cont_child_undr_6_mnths    21365 non-null  object \n",
      " 13  is_health_worker           21365 non-null  object \n",
      " 14  has_health_insur           21365 non-null  object \n",
      " 15  is_h1n1_vacc_effective     21365 non-null  float64\n",
      " 16  is_h1n1_risky              21365 non-null  float64\n",
      " 17  sick_from_h1n1_vacc        21365 non-null  float64\n",
      " 18  is_seas_vacc_effective     21365 non-null  float64\n",
      " 19  is_seas_risky              21365 non-null  float64\n",
      " 20  age_bracket                21365 non-null  object \n",
      " 21  qualification              21365 non-null  object \n",
      " 22  race                       21365 non-null  object \n",
      " 23  sex                        21365 non-null  object \n",
      " 24  income_level               21365 non-null  object \n",
      " 25  marital_status             21365 non-null  object \n",
      " 26  housing_status             21365 non-null  object \n",
      " 27  employment                 21365 non-null  object \n",
      "dtypes: float64(7), object(21)\n",
      "memory usage: 5.4+ MB\n"
     ]
    }
   ],
   "source": [
    "X_train.info()"
   ]
  },
  {
   "cell_type": "code",
   "execution_count": 133,
   "metadata": {
    "scrolled": true
   },
   "outputs": [
    {
     "data": {
      "text/plain": [
       "24706    0\n",
       "5393     0\n",
       "20898    1\n",
       "3429     0\n",
       "8731     0\n",
       "Name: h1n1_vaccine, dtype: int64"
      ]
     },
     "execution_count": 133,
     "metadata": {},
     "output_type": "execute_result"
    }
   ],
   "source": [
    "y_train.head()"
   ]
  },
  {
   "cell_type": "markdown",
   "metadata": {},
   "source": [
    "## Encoding categorical columns"
   ]
  },
  {
   "cell_type": "code",
   "execution_count": 136,
   "metadata": {},
   "outputs": [
    {
     "data": {
      "text/plain": [
       "28"
      ]
     },
     "execution_count": 136,
     "metadata": {},
     "output_type": "execute_result"
    }
   ],
   "source": [
    "len(X_train.columns)"
   ]
  },
  {
   "cell_type": "code",
   "execution_count": 135,
   "metadata": {},
   "outputs": [
    {
     "data": {
      "text/plain": [
       "['antiviral_medication',\n",
       " 'contact_avoidance',\n",
       " 'bought_face_mask',\n",
       " 'wash_hands_frequently',\n",
       " 'avoid_large_gatherings',\n",
       " 'reduced_outside_home_cont',\n",
       " 'avoid_touch_face',\n",
       " 'dr_recc_h1n1_vacc',\n",
       " 'dr_recc_seasonal_vacc',\n",
       " 'chronic_medic_condition',\n",
       " 'cont_child_undr_6_mnths',\n",
       " 'is_health_worker',\n",
       " 'has_health_insur',\n",
       " 'age_bracket',\n",
       " 'qualification',\n",
       " 'race',\n",
       " 'sex',\n",
       " 'income_level',\n",
       " 'marital_status',\n",
       " 'housing_status',\n",
       " 'employment']"
      ]
     },
     "execution_count": 135,
     "metadata": {},
     "output_type": "execute_result"
    }
   ],
   "source": [
    "cat_cols = [col for col in X_train.columns if X_train[col].dtypes=='O']\n",
    "cat_cols"
   ]
  },
  {
   "cell_type": "code",
   "execution_count": 137,
   "metadata": {},
   "outputs": [
    {
     "data": {
      "text/plain": [
       "21"
      ]
     },
     "execution_count": 137,
     "metadata": {},
     "output_type": "execute_result"
    }
   ],
   "source": [
    "len(cat_cols)"
   ]
  },
  {
   "cell_type": "code",
   "execution_count": 138,
   "metadata": {},
   "outputs": [],
   "source": [
    "from sklearn.preprocessing import OneHotEncoder\n",
    "from sklearn.compose import ColumnTransformer"
   ]
  },
  {
   "cell_type": "code",
   "execution_count": 140,
   "metadata": {},
   "outputs": [
    {
     "name": "stdout",
     "output_type": "stream",
     "text": [
      "<class 'pandas.core.frame.DataFrame'>\n",
      "Int64Index: 21365 entries, 24706 to 23654\n",
      "Data columns (total 21 columns):\n",
      " #   Column                     Non-Null Count  Dtype \n",
      "---  ------                     --------------  ----- \n",
      " 0   antiviral_medication       21365 non-null  object\n",
      " 1   contact_avoidance          21365 non-null  object\n",
      " 2   bought_face_mask           21365 non-null  object\n",
      " 3   wash_hands_frequently      21365 non-null  object\n",
      " 4   avoid_large_gatherings     21365 non-null  object\n",
      " 5   reduced_outside_home_cont  21365 non-null  object\n",
      " 6   avoid_touch_face           21365 non-null  object\n",
      " 7   dr_recc_h1n1_vacc          21365 non-null  object\n",
      " 8   dr_recc_seasonal_vacc      21365 non-null  object\n",
      " 9   chronic_medic_condition    21365 non-null  object\n",
      " 10  cont_child_undr_6_mnths    21365 non-null  object\n",
      " 11  is_health_worker           21365 non-null  object\n",
      " 12  has_health_insur           21365 non-null  object\n",
      " 13  age_bracket                21365 non-null  object\n",
      " 14  qualification              21365 non-null  object\n",
      " 15  race                       21365 non-null  object\n",
      " 16  sex                        21365 non-null  object\n",
      " 17  income_level               21365 non-null  object\n",
      " 18  marital_status             21365 non-null  object\n",
      " 19  housing_status             21365 non-null  object\n",
      " 20  employment                 21365 non-null  object\n",
      "dtypes: object(21)\n",
      "memory usage: 4.2+ MB\n"
     ]
    }
   ],
   "source": [
    "X_train[cat_cols].info()"
   ]
  },
  {
   "cell_type": "code",
   "execution_count": 141,
   "metadata": {},
   "outputs": [],
   "source": [
    "ct = ColumnTransformer([\n",
    "    ('one_hot', OneHotEncoder(drop='first', sparse=False), cat_cols)\n",
    "], remainder='passthrough')"
   ]
  },
  {
   "cell_type": "code",
   "execution_count": 143,
   "metadata": {
    "scrolled": false
   },
   "outputs": [],
   "source": [
    "X_train_new = ct.fit_transform(X_train)"
   ]
  },
  {
   "cell_type": "code",
   "execution_count": 145,
   "metadata": {},
   "outputs": [],
   "source": [
    "X_test_new = ct.transform(X_test)"
   ]
  },
  {
   "cell_type": "code",
   "execution_count": 146,
   "metadata": {},
   "outputs": [
    {
     "data": {
      "text/plain": [
       "array([0., 1., 0., 1., 0., 1., 1., 0., 0., 1., 0., 0., 0., 0., 0., 1., 0.,\n",
       "       0., 0., 0., 1., 0., 0., 1., 0., 0., 1., 0., 1., 0., 1., 2., 1., 5.,\n",
       "       4., 2., 4., 4.])"
      ]
     },
     "execution_count": 146,
     "metadata": {},
     "output_type": "execute_result"
    }
   ],
   "source": [
    "X_train_new[0]"
   ]
  },
  {
   "cell_type": "code",
   "execution_count": 147,
   "metadata": {},
   "outputs": [
    {
     "data": {
      "text/plain": [
       "array([0., 1., 1., 1., 1., 1., 1., 0., 0., 0., 0., 0., 0., 1., 0., 0., 0.,\n",
       "       0., 0., 1., 0., 0., 0., 1., 0., 0., 0., 0., 0., 0., 0., 2., 1., 4.,\n",
       "       2., 2., 4., 2.])"
      ]
     },
     "execution_count": 147,
     "metadata": {},
     "output_type": "execute_result"
    }
   ],
   "source": [
    "X_test_new[0]"
   ]
  },
  {
   "cell_type": "code",
   "execution_count": 149,
   "metadata": {},
   "outputs": [
    {
     "data": {
      "text/plain": [
       "38"
      ]
     },
     "execution_count": 149,
     "metadata": {},
     "output_type": "execute_result"
    }
   ],
   "source": [
    "len(X_train_new[0])"
   ]
  },
  {
   "cell_type": "code",
   "execution_count": 150,
   "metadata": {},
   "outputs": [
    {
     "data": {
      "text/plain": [
       "38"
      ]
     },
     "execution_count": 150,
     "metadata": {},
     "output_type": "execute_result"
    }
   ],
   "source": [
    "len(X_test_new[0])"
   ]
  },
  {
   "cell_type": "code",
   "execution_count": 151,
   "metadata": {},
   "outputs": [],
   "source": [
    "# Now we can build some models and train it for predictions."
   ]
  },
  {
   "cell_type": "markdown",
   "metadata": {},
   "source": [
    "# Logistic Regression model"
   ]
  },
  {
   "cell_type": "code",
   "execution_count": 152,
   "metadata": {},
   "outputs": [],
   "source": [
    "# Our base model will be Logistic Regression"
   ]
  },
  {
   "cell_type": "code",
   "execution_count": 153,
   "metadata": {},
   "outputs": [],
   "source": [
    "from sklearn.linear_model import LogisticRegression"
   ]
  },
  {
   "cell_type": "code",
   "execution_count": 155,
   "metadata": {},
   "outputs": [],
   "source": [
    "log_model = LogisticRegression()"
   ]
  },
  {
   "cell_type": "code",
   "execution_count": 156,
   "metadata": {},
   "outputs": [
    {
     "data": {
      "text/plain": [
       "LogisticRegression()"
      ]
     },
     "execution_count": 156,
     "metadata": {},
     "output_type": "execute_result"
    }
   ],
   "source": [
    "log_model.fit(X_train_new, y_train)"
   ]
  },
  {
   "cell_type": "code",
   "execution_count": 158,
   "metadata": {},
   "outputs": [],
   "source": [
    "y_pred = log_model.predict(X_test_new)"
   ]
  },
  {
   "cell_type": "code",
   "execution_count": 159,
   "metadata": {},
   "outputs": [
    {
     "data": {
      "text/plain": [
       "array([0, 0, 0, ..., 1, 0, 0], dtype=int64)"
      ]
     },
     "execution_count": 159,
     "metadata": {},
     "output_type": "execute_result"
    }
   ],
   "source": [
    "y_pred"
   ]
  },
  {
   "cell_type": "code",
   "execution_count": 161,
   "metadata": {
    "scrolled": true
   },
   "outputs": [
    {
     "data": {
      "text/plain": [
       "array([0, 0, 0, ..., 1, 0, 0], dtype=int64)"
      ]
     },
     "execution_count": 161,
     "metadata": {},
     "output_type": "execute_result"
    }
   ],
   "source": [
    "y_test.values"
   ]
  },
  {
   "cell_type": "code",
   "execution_count": 183,
   "metadata": {},
   "outputs": [],
   "source": [
    "y_pred_proba = log_model.predict_proba(X_test_new)"
   ]
  },
  {
   "cell_type": "code",
   "execution_count": 184,
   "metadata": {},
   "outputs": [
    {
     "data": {
      "text/plain": [
       "array([[0.95464668, 0.04535332],\n",
       "       [0.95803842, 0.04196158],\n",
       "       [0.90429886, 0.09570114],\n",
       "       ...,\n",
       "       [0.13772538, 0.86227462],\n",
       "       [0.94583397, 0.05416603],\n",
       "       [0.96661022, 0.03338978]])"
      ]
     },
     "execution_count": 184,
     "metadata": {},
     "output_type": "execute_result"
    }
   ],
   "source": [
    "y_pred_proba"
   ]
  },
  {
   "cell_type": "code",
   "execution_count": 162,
   "metadata": {
    "scrolled": true
   },
   "outputs": [
    {
     "data": {
      "text/html": [
       "<div>\n",
       "<style scoped>\n",
       "    .dataframe tbody tr th:only-of-type {\n",
       "        vertical-align: middle;\n",
       "    }\n",
       "\n",
       "    .dataframe tbody tr th {\n",
       "        vertical-align: top;\n",
       "    }\n",
       "\n",
       "    .dataframe thead th {\n",
       "        text-align: right;\n",
       "    }\n",
       "</style>\n",
       "<table border=\"1\" class=\"dataframe\">\n",
       "  <thead>\n",
       "    <tr style=\"text-align: right;\">\n",
       "      <th>Actual</th>\n",
       "      <th>0</th>\n",
       "      <th>1</th>\n",
       "      <th>All</th>\n",
       "    </tr>\n",
       "    <tr>\n",
       "      <th>Predicted</th>\n",
       "      <th></th>\n",
       "      <th></th>\n",
       "      <th></th>\n",
       "    </tr>\n",
       "  </thead>\n",
       "  <tbody>\n",
       "    <tr>\n",
       "      <th>0</th>\n",
       "      <td>4022</td>\n",
       "      <td>587</td>\n",
       "      <td>4609</td>\n",
       "    </tr>\n",
       "    <tr>\n",
       "      <th>1</th>\n",
       "      <td>190</td>\n",
       "      <td>543</td>\n",
       "      <td>733</td>\n",
       "    </tr>\n",
       "    <tr>\n",
       "      <th>All</th>\n",
       "      <td>4212</td>\n",
       "      <td>1130</td>\n",
       "      <td>5342</td>\n",
       "    </tr>\n",
       "  </tbody>\n",
       "</table>\n",
       "</div>"
      ],
      "text/plain": [
       "Actual        0     1   All\n",
       "Predicted                  \n",
       "0          4022   587  4609\n",
       "1           190   543   733\n",
       "All        4212  1130  5342"
      ]
     },
     "execution_count": 162,
     "metadata": {},
     "output_type": "execute_result"
    }
   ],
   "source": [
    "pd.crosstab(y_pred, y_test, rownames=['Predicted'], colnames=['Actual'], margins=True)"
   ]
  },
  {
   "cell_type": "markdown",
   "metadata": {},
   "source": [
    "### Evaluating the model"
   ]
  },
  {
   "cell_type": "code",
   "execution_count": 204,
   "metadata": {},
   "outputs": [],
   "source": [
    "from sklearn.metrics import precision_score \n",
    "from sklearn.metrics import classification_report \n",
    "from sklearn.metrics import confusion_matrix \n",
    "from sklearn.metrics import log_loss, roc_curve, auc "
   ]
  },
  {
   "cell_type": "markdown",
   "metadata": {},
   "source": [
    "##### Classification Accuracy\n",
    "* _Classification accuracy is the number of correct predictions made as a ratio of all predictions made._\n",
    "\n",
    "* _This is the most common evaluation metric for classification problems, it is also the most misused. It is really only suitable when there are an equal number of observations in each class (which is rarely the case) and that all predictions and prediction errors are equally important, which is often not the case._\n"
   ]
  },
  {
   "cell_type": "code",
   "execution_count": 163,
   "metadata": {},
   "outputs": [
    {
     "data": {
      "text/plain": [
       "0    4212\n",
       "1    1130\n",
       "Name: h1n1_vaccine, dtype: int64"
      ]
     },
     "execution_count": 163,
     "metadata": {},
     "output_type": "execute_result"
    }
   ],
   "source": [
    "y_test.value_counts()"
   ]
  },
  {
   "cell_type": "code",
   "execution_count": 164,
   "metadata": {},
   "outputs": [
    {
     "data": {
      "text/plain": [
       "<matplotlib.axes._subplots.AxesSubplot at 0x202a9f879d0>"
      ]
     },
     "execution_count": 164,
     "metadata": {},
     "output_type": "execute_result"
    },
    {
     "data": {
      "image/png": "[encoded data removed]",
      "text/plain": [
       "<Figure size 432x288 with 1 Axes>"
      ]
     },
     "metadata": {
      "needs_background": "light"
     },
     "output_type": "display_data"
    }
   ],
   "source": [
    "sns.countplot(y_test)"
   ]
  },
  {
   "cell_type": "code",
   "execution_count": 166,
   "metadata": {},
   "outputs": [],
   "source": [
    "# We can see that there is a large mismatch in the no of observations in class 0 and class 1.\n",
    "# So accuracy cannot be a very good metric, but here we can calculate the accuracy for a base understanding."
   ]
  },
  {
   "cell_type": "code",
   "execution_count": null,
   "metadata": {},
   "outputs": [],
   "source": [
    "# Accuracy through sklearn's metrics library"
   ]
  },
  {
   "cell_type": "code",
   "execution_count": 180,
   "metadata": {},
   "outputs": [
    {
     "name": "stdout",
     "output_type": "stream",
     "text": [
      "Logistic model Accuracy: 0.85 (85.45%)\n"
     ]
    }
   ],
   "source": [
    "from sklearn import metrics\n",
    "accuracy_log1 = metrics.accuracy_score(y_test, y_pred)\n",
    "print(f'Logistic model Accuracy: {round(accuracy_log1,2)} ({round(accuracy_log1*100,2)}%)')"
   ]
  },
  {
   "cell_type": "code",
   "execution_count": null,
   "metadata": {},
   "outputs": [],
   "source": [
    "# Accuracy through Kfold cross validation"
   ]
  },
  {
   "cell_type": "code",
   "execution_count": 169,
   "metadata": {},
   "outputs": [],
   "source": [
    "# Importing the libraries to do a cross validation to determine the accuracy\n",
    "from sklearn.model_selection import cross_val_score, KFold"
   ]
  },
  {
   "cell_type": "code",
   "execution_count": 171,
   "metadata": {},
   "outputs": [],
   "source": [
    "kfold = KFold(n_splits=10, shuffle=True, random_state=42)\n",
    "scoring = 'accuracy'\n",
    "log_results = cross_val_score(estimator=log_model,\n",
    "                             X=np.r_[X_train_new,X_test_new],\n",
    "                             y=np.r_[y_train.values,y_test.values],\n",
    "                             cv=kfold,\n",
    "                             scoring=scoring)"
   ]
  },
  {
   "cell_type": "code",
   "execution_count": 182,
   "metadata": {},
   "outputs": [
    {
     "name": "stdout",
     "output_type": "stream",
     "text": [
      "Logistic model Accuracy: 0.85(85.01%) \n"
     ]
    }
   ],
   "source": [
    "print(f'Logistic model Accuracy: {round(log_results.mean(),2)}({round(log_results.mean()*100,2)}%) ')"
   ]
  },
  {
   "cell_type": "markdown",
   "metadata": {},
   "source": [
    "#### Precision Score\n",
    "* _Now, let’s try the ‘precision_score’ evaluation metric to evaluate our model in python._"
   ]
  },
  {
   "cell_type": "code",
   "execution_count": 188,
   "metadata": {},
   "outputs": [
    {
     "data": {
      "text/plain": [
       "0.7407912687585266"
      ]
     },
     "execution_count": 188,
     "metadata": {},
     "output_type": "execute_result"
    }
   ],
   "source": [
    "precision_log = precision_score(y_test, y_pred)\n",
    "precision_log"
   ]
  },
  {
   "cell_type": "markdown",
   "metadata": {},
   "source": [
    "#### Log Loss\n",
    "\n",
    "* _Each predicted probability is compared to the actual class output value (0 or 1) and a score is calculated that penalizes the probability based on the distance from the expected value. The penalty is logarithmic, offering a small score for small differences (0.1 or 0.2) and enormous score for a large difference (0.9 or 1.0)._\n",
    "\n",
    "* _A model with perfect skill has a log loss score of 0.0._\n",
    "\n",
    "* _In order to summarize the skill of a model using log loss, the log loss is calculated for each predicted probability, and the average loss is reported._ "
   ]
  },
  {
   "cell_type": "code",
   "execution_count": 202,
   "metadata": {},
   "outputs": [
    {
     "data": {
      "text/plain": [
       "0.35585787492038534"
      ]
     },
     "execution_count": 202,
     "metadata": {},
     "output_type": "execute_result"
    }
   ],
   "source": [
    "log_loss_log = log_loss(y_test, y_pred_proba[:,1])\n",
    "log_loss_log"
   ]
  },
  {
   "cell_type": "markdown",
   "metadata": {},
   "source": [
    "#### Classification Report\n",
    "* _The ‘classification_report’ function provides a summary of our model. It includes the precision score, F1 score, recall, and support metric. Observing a classification report, we can easily understand the accuracy and performance of our model._"
   ]
  },
  {
   "cell_type": "code",
   "execution_count": 193,
   "metadata": {},
   "outputs": [
    {
     "name": "stdout",
     "output_type": "stream",
     "text": [
      "              precision    recall  f1-score   support\n",
      "\n",
      "           0       0.87      0.95      0.91      4212\n",
      "           1       0.74      0.48      0.58      1130\n",
      "\n",
      "    accuracy                           0.85      5342\n",
      "   macro avg       0.81      0.72      0.75      5342\n",
      "weighted avg       0.84      0.85      0.84      5342\n",
      "\n"
     ]
    }
   ],
   "source": [
    "print(classification_report(y_test, y_pred))"
   ]
  },
  {
   "cell_type": "markdown",
   "metadata": {},
   "source": [
    "#### Confusion Matrix\n",
    "* _Seeing the confusion matrix in the form of a heatmap makes more sense than seeing it in the form of an array._"
   ]
  },
  {
   "cell_type": "code",
   "execution_count": 197,
   "metadata": {
    "scrolled": true
   },
   "outputs": [
    {
     "data": {
      "text/html": [
       "<div>\n",
       "<style scoped>\n",
       "    .dataframe tbody tr th:only-of-type {\n",
       "        vertical-align: middle;\n",
       "    }\n",
       "\n",
       "    .dataframe tbody tr th {\n",
       "        vertical-align: top;\n",
       "    }\n",
       "\n",
       "    .dataframe thead tr th {\n",
       "        text-align: left;\n",
       "    }\n",
       "</style>\n",
       "<table border=\"1\" class=\"dataframe\">\n",
       "  <thead>\n",
       "    <tr>\n",
       "      <th></th>\n",
       "      <th></th>\n",
       "      <th colspan=\"2\" halign=\"left\">Predicted</th>\n",
       "    </tr>\n",
       "    <tr>\n",
       "      <th></th>\n",
       "      <th></th>\n",
       "      <th>0</th>\n",
       "      <th>1</th>\n",
       "    </tr>\n",
       "  </thead>\n",
       "  <tbody>\n",
       "    <tr>\n",
       "      <th rowspan=\"2\" valign=\"top\">Actual</th>\n",
       "      <th>0</th>\n",
       "      <td>4022</td>\n",
       "      <td>190</td>\n",
       "    </tr>\n",
       "    <tr>\n",
       "      <th>1</th>\n",
       "      <td>587</td>\n",
       "      <td>543</td>\n",
       "    </tr>\n",
       "  </tbody>\n",
       "</table>\n",
       "</div>"
      ],
      "text/plain": [
       "         Predicted     \n",
       "                 0    1\n",
       "Actual 0      4022  190\n",
       "       1       587  543"
      ]
     },
     "execution_count": 197,
     "metadata": {},
     "output_type": "execute_result"
    }
   ],
   "source": [
    "pd.DataFrame(confusion_matrix(y_test, y_pred), index=[['Actual', 'Actual'],[0,1]], columns=[['Predicted','Predicted'], [0,1]])"
   ]
  },
  {
   "cell_type": "code",
   "execution_count": 211,
   "metadata": {},
   "outputs": [
    {
     "data": {
      "text/plain": [
       "<matplotlib.axes._subplots.AxesSubplot at 0x202abba5bb0>"
      ]
     },
     "execution_count": 211,
     "metadata": {},
     "output_type": "execute_result"
    },
    {
     "data": {
      "image/png": "[encoded data removed]",
      "text/plain": [
       "<Figure size 432x288 with 2 Axes>"
      ]
     },
     "metadata": {
      "needs_background": "light"
     },
     "output_type": "display_data"
    }
   ],
   "source": [
    "sns.heatmap(pd.DataFrame(confusion_matrix(y_test, y_pred), index=[['Actual', 'Actual'],[0,1]], columns=[['Predicted','Predicted'], [0,1]]),\n",
    "           annot=True)"
   ]
  },
  {
   "cell_type": "markdown",
   "metadata": {},
   "source": [
    "#### ROC Curve"
   ]
  },
  {
   "cell_type": "code",
   "execution_count": 206,
   "metadata": {},
   "outputs": [
    {
     "data": {
      "text/plain": [
       "0.8564182403415441"
      ]
     },
     "execution_count": 206,
     "metadata": {},
     "output_type": "execute_result"
    }
   ],
   "source": [
    "fpr, tpr, th = roc_curve(y_test, y_pred_proba[:,1])\n",
    "\n",
    "roc_auc_log = auc(fpr, tpr)\n",
    "\n",
    "roc_auc_log\n"
   ]
  },
  {
   "cell_type": "code",
   "execution_count": 209,
   "metadata": {
    "scrolled": true
   },
   "outputs": [
    {
     "data": {
      "image/png": "[encoded data removed]",
      "text/plain": [
       "<Figure size 432x288 with 1 Axes>"
      ]
     },
     "metadata": {
      "needs_background": "light"
     },
     "output_type": "display_data"
    }
   ],
   "source": [
    "plt.figure()\n",
    "plt.plot(fpr, tpr, label='ROC curve (area= %.2f)' %roc_auc_log)\n",
    "plt.plot([0,1], [0,1], 'r--', label='No Skill')\n",
    "plt.xlim([0, 1.05])\n",
    "plt.ylim([0, 1.05])\n",
    "plt.xlabel('False Positive Rate')\n",
    "plt.ylabel('True Positive Rate')\n",
    "plt.title('Reciver operating characteristic')\n",
    "plt.legend()\n",
    "plt.show()"
   ]
  },
  {
   "cell_type": "code",
   "execution_count": 198,
   "metadata": {},
   "outputs": [],
   "source": [
    "# Lets create another Logistic model by tweeking the parameters"
   ]
  },
  {
   "cell_type": "markdown",
   "metadata": {},
   "source": [
    "# Logistic Regression Model 2"
   ]
  },
  {
   "cell_type": "code",
   "execution_count": 212,
   "metadata": {},
   "outputs": [],
   "source": [
    "# We can use GridSearchCV to select the best parameters for our new model."
   ]
  },
  {
   "cell_type": "code",
   "execution_count": 216,
   "metadata": {},
   "outputs": [],
   "source": [
    "from sklearn.model_selection import GridSearchCV"
   ]
  },
  {
   "cell_type": "code",
   "execution_count": 217,
   "metadata": {},
   "outputs": [],
   "source": [
    "log_model2 = LogisticRegression()"
   ]
  },
  {
   "cell_type": "code",
   "execution_count": 218,
   "metadata": {},
   "outputs": [],
   "source": [
    "param_grid = {\n",
    "    'penalty' : ['l1', 'l2', 'elasticnet', 'none'],\n",
    "    'C' : [0.001,0.009,0.01,0.09,1,5,10,25],\n",
    "    'solver' : ['newton-cg', 'lbfgs', 'liblinear', 'sag', 'saga'],\n",
    "}"
   ]
  },
  {
   "cell_type": "code",
   "execution_count": 219,
   "metadata": {},
   "outputs": [],
   "source": [
    "log_model2_grid = GridSearchCV(log_model2, param_grid, scoring='accuracy')"
   ]
  },
  {
   "cell_type": "code",
   "execution_count": 220,
   "metadata": {},
   "outputs": [
    {
     "data": {
      "text/plain": [
       "GridSearchCV(estimator=LogisticRegression(),\n",
       "             param_grid={'C': [0.001, 0.009, 0.01, 0.09, 1, 5, 10, 25],\n",
       "                         'penalty': ['l1', 'l2', 'elasticnet', 'none'],\n",
       "                         'solver': ['newton-cg', 'lbfgs', 'liblinear', 'sag',\n",
       "                                    'saga']},\n",
       "             scoring='accuracy')"
      ]
     },
     "execution_count": 220,
     "metadata": {},
     "output_type": "execute_result"
    }
   ],
   "source": [
    "log_model2_grid.fit(X_train_new, y_train)"
   ]
  },
  {
   "cell_type": "code",
   "execution_count": 221,
   "metadata": {},
   "outputs": [
    {
     "data": {
      "text/plain": [
       "LogisticRegression(C=0.09, penalty='l1', solver='saga')"
      ]
     },
     "execution_count": 221,
     "metadata": {},
     "output_type": "execute_result"
    }
   ],
   "source": [
    "log_model2_grid.best_estimator_"
   ]
  },
  {
   "cell_type": "code",
   "execution_count": 222,
   "metadata": {},
   "outputs": [],
   "source": [
    "y_pred2 = log_model2_grid.predict(X_test_new)"
   ]
  },
  {
   "cell_type": "code",
   "execution_count": 223,
   "metadata": {},
   "outputs": [
    {
     "data": {
      "text/plain": [
       "array([0, 0, 0, ..., 1, 0, 0], dtype=int64)"
      ]
     },
     "execution_count": 223,
     "metadata": {},
     "output_type": "execute_result"
    }
   ],
   "source": [
    "y_pred2"
   ]
  },
  {
   "cell_type": "code",
   "execution_count": 224,
   "metadata": {},
   "outputs": [],
   "source": [
    "y_pred_proba2 = log_model2_grid.predict_proba(X_test_new)"
   ]
  },
  {
   "cell_type": "code",
   "execution_count": 225,
   "metadata": {
    "scrolled": true
   },
   "outputs": [
    {
     "data": {
      "text/plain": [
       "array([[0.95530809, 0.04469191],\n",
       "       [0.95736864, 0.04263136],\n",
       "       [0.89450679, 0.10549321],\n",
       "       ...,\n",
       "       [0.15165059, 0.84834941],\n",
       "       [0.94353394, 0.05646606],\n",
       "       [0.96166596, 0.03833404]])"
      ]
     },
     "execution_count": 225,
     "metadata": {},
     "output_type": "execute_result"
    }
   ],
   "source": [
    "y_pred_proba2"
   ]
  },
  {
   "cell_type": "markdown",
   "metadata": {},
   "source": [
    "### Evaluating the model"
   ]
  },
  {
   "cell_type": "markdown",
   "metadata": {},
   "source": [
    "##### Classification Accuracy\n",
    "* _Classification accuracy is the number of correct predictions made as a ratio of all predictions made._\n",
    "\n",
    "* _This is the most common evaluation metric for classification problems, it is also the most misused. It is really only suitable when there are an equal number of observations in each class (which is rarely the case) and that all predictions and prediction errors are equally important, which is often not the case._\n"
   ]
  },
  {
   "cell_type": "code",
   "execution_count": null,
   "metadata": {},
   "outputs": [],
   "source": [
    "# Accuracy through sklearn's metrics library"
   ]
  },
  {
   "cell_type": "code",
   "execution_count": 226,
   "metadata": {},
   "outputs": [
    {
     "name": "stdout",
     "output_type": "stream",
     "text": [
      "Logistic model Accuracy: 0.85 (85.29%)\n"
     ]
    }
   ],
   "source": [
    "from sklearn import metrics\n",
    "accuracy_log2 = metrics.accuracy_score(y_test, y_pred2)\n",
    "print(f'Logistic model Accuracy: {round(accuracy_log2,2)} ({round(accuracy_log2*100,2)}%)')"
   ]
  },
  {
   "cell_type": "code",
   "execution_count": null,
   "metadata": {},
   "outputs": [],
   "source": [
    "# Accuracy through Kfold cross validation"
   ]
  },
  {
   "cell_type": "code",
   "execution_count": 229,
   "metadata": {},
   "outputs": [],
   "source": [
    "# kfold = KFold(n_splits=10, shuffle=True, random_state=42)\n",
    "# scoring = 'accuracy'\n",
    "# log_results2 = cross_val_score(estimator=log_model2_grid,\n",
    "#                              X=np.r_[X_train_new,X_test_new],\n",
    "#                              y=np.r_[y_train.values,y_test.values],\n",
    "#                              cv=kfold,\n",
    "#                              scoring=scoring)"
   ]
  },
  {
   "cell_type": "code",
   "execution_count": 230,
   "metadata": {},
   "outputs": [],
   "source": [
    "# print(f'Logistic model Accuracy: {round(log_results2.mean(),2)}({round(log_results2.mean()*100,2)}%) ')"
   ]
  },
  {
   "cell_type": "markdown",
   "metadata": {},
   "source": [
    "#### Precision Score\n",
    "* _Now, let’s try the ‘precision_score’ evaluation metric to evaluate our model in python._"
   ]
  },
  {
   "cell_type": "code",
   "execution_count": 255,
   "metadata": {},
   "outputs": [
    {
     "data": {
      "text/plain": [
       "0.7388888888888889"
      ]
     },
     "execution_count": 255,
     "metadata": {},
     "output_type": "execute_result"
    }
   ],
   "source": [
    "precision_log2 = precision_score(y_test, y_pred2)\n",
    "precision_log2"
   ]
  },
  {
   "cell_type": "markdown",
   "metadata": {},
   "source": [
    "#### Log Loss\n",
    "\n",
    "* _Each predicted probability is compared to the actual class output value (0 or 1) and a score is calculated that penalizes the probability based on the distance from the expected value. The penalty is logarithmic, offering a small score for small differences (0.1 or 0.2) and enormous score for a large difference (0.9 or 1.0)._\n",
    "\n",
    "* _A model with perfect skill has a log loss score of 0.0._\n",
    "\n",
    "* _In order to summarize the skill of a model using log loss, the log loss is calculated for each predicted probability, and the average loss is reported._ "
   ]
  },
  {
   "cell_type": "code",
   "execution_count": 256,
   "metadata": {},
   "outputs": [
    {
     "data": {
      "text/plain": [
       "0.35633777803432554"
      ]
     },
     "execution_count": 256,
     "metadata": {},
     "output_type": "execute_result"
    }
   ],
   "source": [
    "log_loss_log2 = log_loss(y_test, y_pred_proba2[:,1])\n",
    "log_loss_log2"
   ]
  },
  {
   "cell_type": "markdown",
   "metadata": {},
   "source": [
    "#### Classification Report\n",
    "* _The ‘classification_report’ function provides a summary of our model. It includes the precision score, F1 score, recall, and support metric. Observing a classification report, we can easily understand the accuracy and performance of our model._"
   ]
  },
  {
   "cell_type": "code",
   "execution_count": 233,
   "metadata": {},
   "outputs": [
    {
     "name": "stdout",
     "output_type": "stream",
     "text": [
      "              precision    recall  f1-score   support\n",
      "\n",
      "           0       0.87      0.96      0.91      4212\n",
      "           1       0.74      0.47      0.58      1130\n",
      "\n",
      "    accuracy                           0.85      5342\n",
      "   macro avg       0.80      0.71      0.74      5342\n",
      "weighted avg       0.84      0.85      0.84      5342\n",
      "\n"
     ]
    }
   ],
   "source": [
    "print(classification_report(y_test, y_pred2))"
   ]
  },
  {
   "cell_type": "markdown",
   "metadata": {},
   "source": [
    "#### Confusion Matrix\n",
    "* _Seeing the confusion matrix in the form of a heatmap makes more sense than seeing it in the form of an array._"
   ]
  },
  {
   "cell_type": "code",
   "execution_count": 234,
   "metadata": {
    "scrolled": true
   },
   "outputs": [
    {
     "data": {
      "text/html": [
       "<div>\n",
       "<style scoped>\n",
       "    .dataframe tbody tr th:only-of-type {\n",
       "        vertical-align: middle;\n",
       "    }\n",
       "\n",
       "    .dataframe tbody tr th {\n",
       "        vertical-align: top;\n",
       "    }\n",
       "\n",
       "    .dataframe thead tr th {\n",
       "        text-align: left;\n",
       "    }\n",
       "</style>\n",
       "<table border=\"1\" class=\"dataframe\">\n",
       "  <thead>\n",
       "    <tr>\n",
       "      <th></th>\n",
       "      <th></th>\n",
       "      <th colspan=\"2\" halign=\"left\">Predicted</th>\n",
       "    </tr>\n",
       "    <tr>\n",
       "      <th></th>\n",
       "      <th></th>\n",
       "      <th>0</th>\n",
       "      <th>1</th>\n",
       "    </tr>\n",
       "  </thead>\n",
       "  <tbody>\n",
       "    <tr>\n",
       "      <th rowspan=\"2\" valign=\"top\">Actual</th>\n",
       "      <th>0</th>\n",
       "      <td>4024</td>\n",
       "      <td>188</td>\n",
       "    </tr>\n",
       "    <tr>\n",
       "      <th>1</th>\n",
       "      <td>598</td>\n",
       "      <td>532</td>\n",
       "    </tr>\n",
       "  </tbody>\n",
       "</table>\n",
       "</div>"
      ],
      "text/plain": [
       "         Predicted     \n",
       "                 0    1\n",
       "Actual 0      4024  188\n",
       "       1       598  532"
      ]
     },
     "execution_count": 234,
     "metadata": {},
     "output_type": "execute_result"
    }
   ],
   "source": [
    "pd.DataFrame(confusion_matrix(y_test, y_pred2), index=[['Actual', 'Actual'],[0,1]], columns=[['Predicted','Predicted'], [0,1]])"
   ]
  },
  {
   "cell_type": "code",
   "execution_count": 235,
   "metadata": {},
   "outputs": [
    {
     "data": {
      "text/plain": [
       "<matplotlib.axes._subplots.AxesSubplot at 0x202ab2a5730>"
      ]
     },
     "execution_count": 235,
     "metadata": {},
     "output_type": "execute_result"
    },
    {
     "data": {
      "image/png": "[encoded data removed]",
      "text/plain": [
       "<Figure size 432x288 with 2 Axes>"
      ]
     },
     "metadata": {
      "needs_background": "light"
     },
     "output_type": "display_data"
    }
   ],
   "source": [
    "sns.heatmap(pd.DataFrame(confusion_matrix(y_test, y_pred2), index=[['Actual', 'Actual'],[0,1]], columns=[['Predicted','Predicted'], [0,1]]),\n",
    "           annot=True)"
   ]
  },
  {
   "cell_type": "markdown",
   "metadata": {},
   "source": [
    "#### ROC Curve"
   ]
  },
  {
   "cell_type": "code",
   "execution_count": 236,
   "metadata": {},
   "outputs": [
    {
     "data": {
      "text/plain": [
       "0.8564297960315659"
      ]
     },
     "execution_count": 236,
     "metadata": {},
     "output_type": "execute_result"
    }
   ],
   "source": [
    "fpr, tpr, th = roc_curve(y_test, y_pred_proba2[:,1])\n",
    "\n",
    "roc_auc_log = auc(fpr, tpr)\n",
    "\n",
    "roc_auc_log\n"
   ]
  },
  {
   "cell_type": "code",
   "execution_count": 237,
   "metadata": {
    "scrolled": true
   },
   "outputs": [
    {
     "data": {
      "image/png": "[encoded data removed]",
      "text/plain": [
       "<Figure size 432x288 with 1 Axes>"
      ]
     },
     "metadata": {
      "needs_background": "light"
     },
     "output_type": "display_data"
    }
   ],
   "source": [
    "plt.figure()\n",
    "plt.plot(fpr, tpr, label='ROC curve (area= %.2f)' %roc_auc_log)\n",
    "plt.plot([0,1], [0,1], 'r--', label='No Skill')\n",
    "plt.xlim([0, 1.05])\n",
    "plt.ylim([0, 1.05])\n",
    "plt.xlabel('False Positive Rate')\n",
    "plt.ylabel('True Positive Rate')\n",
    "plt.title('Reciver operating characteristic')\n",
    "plt.legend()\n",
    "plt.show()"
   ]
  },
  {
   "cell_type": "code",
   "execution_count": 238,
   "metadata": {},
   "outputs": [],
   "source": [
    "# Now lets try a decision tree classifier."
   ]
  },
  {
   "cell_type": "markdown",
   "metadata": {},
   "source": [
    "# Decision Tree Classifier"
   ]
  },
  {
   "cell_type": "code",
   "execution_count": 239,
   "metadata": {},
   "outputs": [],
   "source": [
    "# First we can build a base estimator tree"
   ]
  },
  {
   "cell_type": "code",
   "execution_count": 240,
   "metadata": {},
   "outputs": [],
   "source": [
    "from sklearn.tree import DecisionTreeClassifier"
   ]
  },
  {
   "cell_type": "code",
   "execution_count": 241,
   "metadata": {},
   "outputs": [],
   "source": [
    "dtc_1 = DecisionTreeClassifier()"
   ]
  },
  {
   "cell_type": "code",
   "execution_count": 242,
   "metadata": {},
   "outputs": [
    {
     "data": {
      "text/plain": [
       "DecisionTreeClassifier()"
      ]
     },
     "execution_count": 242,
     "metadata": {},
     "output_type": "execute_result"
    }
   ],
   "source": [
    "dtc_1.fit(X_train_new, y_train)"
   ]
  },
  {
   "cell_type": "code",
   "execution_count": 244,
   "metadata": {},
   "outputs": [],
   "source": [
    "y_pred_dt = dtc_1.predict(X_test_new)"
   ]
  },
  {
   "cell_type": "code",
   "execution_count": 257,
   "metadata": {},
   "outputs": [],
   "source": [
    "y_pred_proba_dt = dtc_1.predict_proba(X_test_new)"
   ]
  },
  {
   "cell_type": "code",
   "execution_count": 245,
   "metadata": {},
   "outputs": [
    {
     "data": {
      "text/plain": [
       "array([0, 0, 0, ..., 1, 0, 0], dtype=int64)"
      ]
     },
     "execution_count": 245,
     "metadata": {},
     "output_type": "execute_result"
    }
   ],
   "source": [
    "y_pred_dt"
   ]
  },
  {
   "cell_type": "code",
   "execution_count": 247,
   "metadata": {},
   "outputs": [
    {
     "data": {
      "text/plain": [
       "array([0, 0, 0, ..., 1, 0, 0], dtype=int64)"
      ]
     },
     "execution_count": 247,
     "metadata": {},
     "output_type": "execute_result"
    }
   ],
   "source": [
    "y_test.values"
   ]
  },
  {
   "cell_type": "code",
   "execution_count": 258,
   "metadata": {},
   "outputs": [
    {
     "data": {
      "text/plain": [
       "array([[1., 0.],\n",
       "       [1., 0.],\n",
       "       [1., 0.],\n",
       "       ...,\n",
       "       [0., 1.],\n",
       "       [1., 0.],\n",
       "       [1., 0.]])"
      ]
     },
     "execution_count": 258,
     "metadata": {},
     "output_type": "execute_result"
    }
   ],
   "source": [
    "y_pred_proba_dt"
   ]
  },
  {
   "cell_type": "markdown",
   "metadata": {},
   "source": [
    "#### Accuracy"
   ]
  },
  {
   "cell_type": "code",
   "execution_count": 250,
   "metadata": {},
   "outputs": [],
   "source": [
    "from sklearn.metrics import accuracy_score\n",
    "accuracy_dt = accuracy_score(y_test, y_pred_dt)"
   ]
  },
  {
   "cell_type": "code",
   "execution_count": 251,
   "metadata": {},
   "outputs": [
    {
     "data": {
      "text/plain": [
       "0.7678771995507301"
      ]
     },
     "execution_count": 251,
     "metadata": {},
     "output_type": "execute_result"
    }
   ],
   "source": [
    "accuracy_dt"
   ]
  },
  {
   "cell_type": "markdown",
   "metadata": {},
   "source": [
    "#### Precision"
   ]
  },
  {
   "cell_type": "code",
   "execution_count": 252,
   "metadata": {},
   "outputs": [],
   "source": [
    "from sklearn.metrics import precision_score\n",
    "precision_dt = precision_score(y_test, y_pred_dt)"
   ]
  },
  {
   "cell_type": "code",
   "execution_count": 253,
   "metadata": {},
   "outputs": [
    {
     "data": {
      "text/plain": [
       "0.45676100628930816"
      ]
     },
     "execution_count": 253,
     "metadata": {},
     "output_type": "execute_result"
    }
   ],
   "source": [
    "precision_dt"
   ]
  },
  {
   "cell_type": "markdown",
   "metadata": {},
   "source": [
    "#### Logloss"
   ]
  },
  {
   "cell_type": "code",
   "execution_count": 261,
   "metadata": {},
   "outputs": [],
   "source": [
    "from sklearn.metrics import log_loss\n",
    "log_loss_dtc = log_loss(y_test, y_pred_proba_dt[:,1])"
   ]
  },
  {
   "cell_type": "code",
   "execution_count": 262,
   "metadata": {},
   "outputs": [
    {
     "data": {
      "text/plain": [
       "8.017382702183607"
      ]
     },
     "execution_count": 262,
     "metadata": {},
     "output_type": "execute_result"
    }
   ],
   "source": [
    "log_loss_dtc"
   ]
  },
  {
   "cell_type": "markdown",
   "metadata": {},
   "source": [
    "#### Classification Report"
   ]
  },
  {
   "cell_type": "code",
   "execution_count": 263,
   "metadata": {},
   "outputs": [
    {
     "name": "stdout",
     "output_type": "stream",
     "text": [
      "              precision    recall  f1-score   support\n",
      "\n",
      "           0       0.87      0.84      0.85      4212\n",
      "           1       0.46      0.51      0.48      1130\n",
      "\n",
      "    accuracy                           0.77      5342\n",
      "   macro avg       0.66      0.68      0.67      5342\n",
      "weighted avg       0.78      0.77      0.77      5342\n",
      "\n"
     ]
    }
   ],
   "source": [
    "from sklearn.metrics import classification_report\n",
    "print(classification_report(y_test, y_pred_dt))"
   ]
  },
  {
   "cell_type": "markdown",
   "metadata": {},
   "source": [
    "#### Confusion matrix"
   ]
  },
  {
   "cell_type": "code",
   "execution_count": 265,
   "metadata": {},
   "outputs": [
    {
     "data": {
      "text/html": [
       "<div>\n",
       "<style scoped>\n",
       "    .dataframe tbody tr th:only-of-type {\n",
       "        vertical-align: middle;\n",
       "    }\n",
       "\n",
       "    .dataframe tbody tr th {\n",
       "        vertical-align: top;\n",
       "    }\n",
       "\n",
       "    .dataframe thead tr th {\n",
       "        text-align: left;\n",
       "    }\n",
       "</style>\n",
       "<table border=\"1\" class=\"dataframe\">\n",
       "  <thead>\n",
       "    <tr>\n",
       "      <th></th>\n",
       "      <th></th>\n",
       "      <th colspan=\"2\" halign=\"left\">Predicted</th>\n",
       "    </tr>\n",
       "    <tr>\n",
       "      <th></th>\n",
       "      <th></th>\n",
       "      <th>0</th>\n",
       "      <th>1</th>\n",
       "    </tr>\n",
       "  </thead>\n",
       "  <tbody>\n",
       "    <tr>\n",
       "      <th rowspan=\"2\" valign=\"top\">Actual</th>\n",
       "      <th>0</th>\n",
       "      <td>3521</td>\n",
       "      <td>691</td>\n",
       "    </tr>\n",
       "    <tr>\n",
       "      <th>1</th>\n",
       "      <td>549</td>\n",
       "      <td>581</td>\n",
       "    </tr>\n",
       "  </tbody>\n",
       "</table>\n",
       "</div>"
      ],
      "text/plain": [
       "         Predicted     \n",
       "                 0    1\n",
       "Actual 0      3521  691\n",
       "       1       549  581"
      ]
     },
     "execution_count": 265,
     "metadata": {},
     "output_type": "execute_result"
    }
   ],
   "source": [
    "from sklearn.metrics import confusion_matrix\n",
    "pd.DataFrame(confusion_matrix(y_test, y_pred_dt), index=[['Actual', 'Actual'],[0,1]],\n",
    "             columns=[['Predicted','Predicted'], [0,1]])"
   ]
  },
  {
   "cell_type": "markdown",
   "metadata": {},
   "source": [
    "#### ROC Curve"
   ]
  },
  {
   "cell_type": "code",
   "execution_count": 266,
   "metadata": {},
   "outputs": [
    {
     "data": {
      "text/plain": [
       "0.674994432258444"
      ]
     },
     "execution_count": 266,
     "metadata": {},
     "output_type": "execute_result"
    }
   ],
   "source": [
    "from sklearn.metrics import roc_curve, auc\n",
    "fpr, tpr, th = roc_curve(y_test, y_pred_proba_dt[:,1])\n",
    "roc_auc_dt = auc(fpr, tpr)\n",
    "roc_auc_dt"
   ]
  },
  {
   "cell_type": "code",
   "execution_count": 269,
   "metadata": {},
   "outputs": [
    {
     "data": {
      "image/png": "[encoded data removed]",
      "text/plain": [
       "<Figure size 432x288 with 1 Axes>"
      ]
     },
     "metadata": {
      "needs_background": "light"
     },
     "output_type": "display_data"
    }
   ],
   "source": [
    "plt.figure()\n",
    "plt.plot(fpr, tpr, label='ROC curve area = %.2f'%roc_auc_dt)\n",
    "plt.plot([0, 1],[0, 1], 'r--', label='No Skill')\n",
    "plt.xlim([0, 1.05])\n",
    "plt.ylim([0, 1.05])\n",
    "plt.xlabel('False Positive Rate')\n",
    "plt.ylabel('True Positive Rate')\n",
    "plt.title('Reciever operating characteristic')\n",
    "plt.legend()\n",
    "plt.show()"
   ]
  },
  {
   "cell_type": "code",
   "execution_count": 274,
   "metadata": {},
   "outputs": [],
   "source": [
    "# We can see that the results of decision tree are comparitively lesser than logistic regression.\n",
    "# Lets use gridsearchcv algorithm to find best parameters for decision tree algorithm."
   ]
  },
  {
   "cell_type": "markdown",
   "metadata": {},
   "source": [
    "# Decision Tree 2"
   ]
  },
  {
   "cell_type": "code",
   "execution_count": 290,
   "metadata": {},
   "outputs": [],
   "source": [
    "from sklearn.tree import DecisionTreeClassifier\n",
    "from sklearn.model_selection import GridSearchCV"
   ]
  },
  {
   "cell_type": "code",
   "execution_count": 291,
   "metadata": {},
   "outputs": [],
   "source": [
    "dtc_2 = DecisionTreeClassifier()"
   ]
  },
  {
   "cell_type": "code",
   "execution_count": 292,
   "metadata": {},
   "outputs": [],
   "source": [
    "param_grid = {\n",
    "    'criterion' : [\"gini\", \"entropy\"],\n",
    "    'splitter' : [\"best\", \"random\"],\n",
    "    'max_depth' : range(1,40),\n",
    "    'min_samples_split' : range(1,40),\n",
    "    'min_samples_leaf' : range(1,20),\n",
    "    'max_features' : [\"auto\", \"sqrt\", \"log2\"]\n",
    "}"
   ]
  },
  {
   "cell_type": "code",
   "execution_count": 293,
   "metadata": {},
   "outputs": [
    {
     "data": {
      "text/plain": [
       "GridSearchCV(cv=10, estimator=DecisionTreeClassifier(),\n",
       "             param_grid={'criterion': ['gini', 'entropy'],\n",
       "                         'max_depth': range(1, 40),\n",
       "                         'max_features': ['auto', 'sqrt', 'log2'],\n",
       "                         'min_samples_leaf': range(1, 20),\n",
       "                         'min_samples_split': range(1, 40),\n",
       "                         'splitter': ['best', 'random']},\n",
       "             scoring='accuracy')"
      ]
     },
     "execution_count": 293,
     "metadata": {},
     "output_type": "execute_result"
    }
   ],
   "source": [
    "dtc_2_grid = GridSearchCV(dtc_2, param_grid, scoring='accuracy', cv=10)\n",
    "dtc_2_grid"
   ]
  },
  {
   "cell_type": "code",
   "execution_count": 295,
   "metadata": {},
   "outputs": [],
   "source": [
    "# dtc_2_grid.fit(X_train_new, y_train)"
   ]
  },
  {
   "cell_type": "code",
   "execution_count": null,
   "metadata": {},
   "outputs": [],
   "source": []
  }
 ],
 "metadata": {
  "kernelspec": {
   "display_name": "Python 3",
   "language": "python",
   "name": "python3"
  },
  "language_info": {
   "codemirror_mode": {
    "name": "ipython",
    "version": 3
   },
   "file_extension": ".py",
   "mimetype": "text/x-python",
   "name": "python",
   "nbconvert_exporter": "python",
   "pygments_lexer": "ipython3",
   "version": "3.8.3"
  }
 },
 "nbformat": 4,
 "nbformat_minor": 4
}
